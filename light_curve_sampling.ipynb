{
 "cells": [
  {
   "cell_type": "code",
   "execution_count": 66,
   "id": "ee48e164",
   "metadata": {},
   "outputs": [],
   "source": [
    "import os\n",
    "from matplotlib import pyplot as plt\n",
    "import numpy as np\n",
    "import sys\n",
    "from scipy.special import jn\n",
    "import pandas as pd\n",
    "from tqdm import tqdm\n",
    "from joblib import Parallel, delayed\n",
    "import scipy.special as sps\n",
    "\n",
    "from matplotlib.animation import FuncAnimation\n",
    "from mpl_toolkits.mplot3d import Axes3D\n",
    "from mpl_toolkits import mplot3d\n",
    "from mpl_toolkits.mplot3d.art3d import Poly3DCollection\n",
    "from eryn.ensemble import EnsembleSampler\n",
    "from eryn.state import State\n",
    "from eryn.prior import uniform_dist, ProbDistContainer\n",
    "from functools import partial\n",
    "\n",
    "#=== 5PN AAK imports ================\n",
    "\n",
    "from few.trajectory.inspiral import EMRIInspiral\n",
    "#from few.waveform import Pn5AAKWaveform # we don't need waveform generation\n",
    "#from few.utils.utility import get_fundamental_frequencies\n",
    "\n",
    "\n",
    "sys.path.append(os.path.abspath('../KerrOrbitalAngleConversion/build/lib.macosx-11.0-arm64-cpython-313/'))\n",
    "\n",
    "# Constants\n",
    "G = 6.674080e-11 #Gravitational constant in SI\n",
    "c = 299792458. #speed of light in SI\n",
    "MSUN = 1.98848e30 #Mass of sun in SI\n",
    "YRSID = 31558149.763545603 #seconds in one year "
   ]
  },
  {
   "cell_type": "markdown",
   "id": "9a0cd822",
   "metadata": {},
   "source": [
    "# Functions"
   ]
  },
  {
   "cell_type": "code",
   "execution_count": null,
   "id": "2bfb7996",
   "metadata": {},
   "outputs": [],
   "source": [
    "def Radial_Coordinate(p, e, Phi_r):\n",
    "    return p/(1 + e * np.cos(Phi_r))\n",
    "\n",
    "def Polar_Coordinate(x, Phi_theta):\n",
    "    return np.arccos(np.sqrt(1-x**2)*np.cos(Phi_theta))\n",
    "    #return np.arccos(x*np.cos(Phi_theta))\n",
    "\n",
    "def sph2cart(r,theta,phi):\n",
    "    x = r * np.sin(theta) * np.cos(phi)\n",
    "    y = r * np.sin(theta) * np.sin(phi)\n",
    "    z = r * np.cos(theta)\n",
    "    return x,y,z\n",
    "\n",
    "def bl2kep2(t,a,p,e,x,Phi_r, Phi_theta, Phi_phi):\n",
    "    rr = Radial_Coordinate(p, e, Phi_r)\n",
    "    tt = Polar_Coordinate(x, Phi_theta)\n",
    "    return [t, *sph2cart(rr,tt,Phi_phi)]\n",
    "\n",
    "def bl2kep(t, a, p, e, x, Phi_r, Phi_theta, Phi_phi):\n",
    "    # Using https://arxiv.org/abs/2411.04955\n",
    "    bl_angles=[]\n",
    "    for i in np.arange(1,len(t)): #skipping the first, it always gives nan...\n",
    "        AA = kac.pyBoyerLindquistPhasesToDarwinPhases(a,p[i],e[i],x[i],Phi_r[i],Phi_theta[i],Phi_phi[i])\n",
    "        if np.any(np.isnan(AA)):\n",
    "            print(\"ALERT! Proper BoyerLidquist2Darwin failed, using less accurate version!!!\")\n",
    "            return bl2kep2(t,a,p,e,x,Phi_r, Phi_theta, Phi_phi)\n",
    "        else:\n",
    "            bl_angles.append(AA)\n",
    "    psi_from_AA,chi_from_AA,phi_from_AA = np.array(bl_angles).T\n",
    "    tt = t[1:len(bl_angles)+1]\n",
    "    pp = p[1:len(bl_angles)+1]\n",
    "    ee = e[1:len(bl_angles)+1]\n",
    "    xx = x[1:len(bl_angles)+1]\n",
    "    r_from_AA = Radial_Coordinate(pp, ee, psi_from_AA)\n",
    "    theta_from_AA = Polar_Coordinate(xx, chi_from_AA)\n",
    "    x_coord_from_AA, y_coord_from_AA, z_coord_from_AA = sph2cart(r_from_AA ,theta_from_AA, phi_from_AA)\n",
    "    trajectory = [tt,x_coord_from_AA,y_coord_from_AA,z_coord_from_AA]\n",
    "    return trajectory\n",
    "\n",
    "def Keplerian_p_from_f(M, mu, f_orb_0, e0):\n",
    "    return c**2*(1-e0**2)/(2*np.pi*f_orb_0*G*(M+mu)*MSUN)**(2/3)\n",
    "\n",
    "def intersect_trajectory_with_disk(trajectory, disk_center, disk_normal, disk_radius):\n",
    "    intersections = []\n",
    "    disk_normal = np.array(disk_normal) / np.linalg.norm(disk_normal)  # Ensure unit normal\n",
    "    disk_center = np.array(disk_center)\n",
    "    trajectory = np.array(trajectory).T\n",
    "    for i in range(len(trajectory) - 1):\n",
    "        p1, p2 = np.array(trajectory[i]), np.array(trajectory[i + 1])\n",
    "        segment = p2 - p1\n",
    "        denom = np.dot(segment[1:], disk_normal)\n",
    "        if np.isclose(denom, 0, atol=1e-8):\n",
    "            print(\"Segment is parallel to the disk plane, skipping!\") # Should be better about this!!!\n",
    "            continue  \n",
    "        t = np.dot(disk_center - p1[1:], disk_normal) / denom\n",
    "        if 0 <= t <= 1:\n",
    "            intersection = p1 + t * segment\n",
    "            if np.linalg.norm(intersection[1:] - disk_center) <= disk_radius:\n",
    "                intersections.append(intersection.tolist())\n",
    "    \n",
    "    return np.array(intersections)\n",
    "\n",
    "def intersect_trajectory_with_rotating_disk(trajectory, disk_center0, disk_normal0, disk_radius, omega, tol=1e-8, max_iter=50, num_samples=200):\n",
    "    \"\"\"\n",
    "    Finds intersections between a trajectory and a disk that rotates about the z-axis \n",
    "    with angular frequency omega.\n",
    "    \n",
    "    The disk is defined in its body frame (time zero) by:\n",
    "      - disk_center0: center (3-vector)\n",
    "      - disk_normal0: unit normal (3-vector)\n",
    "      - disk_radius: scalar radius\n",
    "      \n",
    "    At time t the disk is rotated in the inertial frame as:\n",
    "      disk_center(t) = Rz(omega*t) @ disk_center0\n",
    "      disk_normal(t) = Rz(omega*t) @ disk_normal0\n",
    "      \n",
    "    A trajectory point p=(t,x,y,z) lies in the disk plane at time t if, after rotating by -omega*t,\n",
    "    its spatial part p_body satisfies:\n",
    "      (p_body - disk_center0) · disk_normal0 = 0.\n",
    "    \n",
    "    For non-coplanar segments (i.e. crossing the plane) a bisection routine is used to locate the unique crossing.\n",
    "    If a segment is (nearly) coplanar, then the entire segment lies in the disk plane, and we search\n",
    "    for intersections of the segment with the disk’s circular boundary.\n",
    "    \n",
    "    Parameters:\n",
    "      trajectory: list or tuple of 4 array-like objects [t, x, y, z] (each with shape (N,)).\n",
    "      disk_center0: array-like, initial center of the disk (3-vector).\n",
    "      disk_normal0: array-like, initial normal of the disk (3-vector; will be normalized).\n",
    "      disk_radius: scalar, radius of the disk.\n",
    "      omega: angular frequency of the disk's rotation about the z-axis.\n",
    "      tol: tolerance for root finding.\n",
    "      max_iter: maximum iterations for bisection.\n",
    "      num_samples: number of samples used in the coplanar case.\n",
    "      \n",
    "    Returns:\n",
    "      intersections: np.array of intersection points (each is (t,x,y,z)).\n",
    "    \"\"\"\n",
    "    intersections = []\n",
    "    disk_normal0 = np.array(disk_normal0, dtype=float)\n",
    "    disk_normal0 /= np.linalg.norm(disk_normal0)\n",
    "    disk_center0 = np.array(disk_center0, dtype=float)\n",
    "\n",
    "    # Expect trajectory to be [t array, x array, y array, z array].\n",
    "    if len(trajectory) != 4:\n",
    "        raise ValueError(\"Trajectory must be a list of 4 arrays: [t, x, y, z].\")\n",
    "    traj = np.column_stack(trajectory)\n",
    "\n",
    "    # Inline rotation: computes Rz(-omega*tau)*pos for a spatial 3-vector.\n",
    "    def rotate_z_neg(angle, pos):\n",
    "        c = np.cos(angle)\n",
    "        s = np.sin(angle)\n",
    "        return np.array([c * pos[0] + s * pos[1],\n",
    "                         -s * pos[0] + c * pos[1],\n",
    "                         pos[2]])\n",
    "\n",
    "    # Process each segment.\n",
    "    for i in range(len(traj) - 1):\n",
    "        p1 = traj[i]\n",
    "        p2 = traj[i + 1]\n",
    "        dt = p2[0] - p1[0]\n",
    "        if dt == 0:\n",
    "            continue  # Skip segments with zero time difference\n",
    "\n",
    "        pos_diff = p2[1:] - p1[1:]\n",
    "        t_diff = dt\n",
    "\n",
    "        # f(lam) measures how far the rotated spatial point is from the disk plane.\n",
    "        def f(lam):\n",
    "            tau = p1[0] + lam * t_diff\n",
    "            pos = p1[1:] + lam * pos_diff\n",
    "            pos_body = rotate_z_neg(omega * tau, pos)\n",
    "            return np.dot(pos_body - disk_center0, disk_normal0)\n",
    "        \n",
    "        f0 = f(0.0)\n",
    "        f1 = f(1.0)\n",
    "\n",
    "        # Check if the segment is nearly coplanar with the disk.\n",
    "        if np.abs(f0) < tol and np.abs(f1) < tol:\n",
    "            # Define g(lam): distance from disk center (in body frame) minus disk_radius.\n",
    "            def g(lam):\n",
    "                tau = p1[0] + lam * t_diff\n",
    "                pos = p1[1:] + lam * pos_diff\n",
    "                pos_body = rotate_z_neg(omega * tau, pos)\n",
    "                return np.linalg.norm(pos_body - disk_center0) - disk_radius\n",
    "\n",
    "            # Sample g(lam) over the segment.\n",
    "            lam_vals = np.linspace(0, 1, num_samples)\n",
    "            g_vals = np.array([g(lam) for lam in lam_vals])\n",
    "\n",
    "            # Look for sign changes or near-zero values.\n",
    "            for j in range(len(lam_vals) - 1):\n",
    "                if np.abs(g_vals[j]) < tol:\n",
    "                    lam_root = lam_vals[j]\n",
    "                elif g_vals[j] * g_vals[j+1] < 0:\n",
    "                    lam_low = lam_vals[j]\n",
    "                    lam_high = lam_vals[j+1]\n",
    "                    g_low = g_vals[j]\n",
    "                    for _ in range(max_iter):\n",
    "                        lam_mid = (lam_low + lam_high) / 2.0\n",
    "                        g_mid = g(lam_mid)\n",
    "                        if np.abs(g_mid) < tol:\n",
    "                            break\n",
    "                        if g_low * g_mid < 0:\n",
    "                            lam_high = lam_mid\n",
    "                        else:\n",
    "                            lam_low = lam_mid\n",
    "                            g_low = g_mid\n",
    "                    lam_root = (lam_low + lam_high) / 2.0\n",
    "                else:\n",
    "                    continue\n",
    "                tau_sol = p1[0] + lam_root * t_diff\n",
    "                pos_sol = p1[1:] + lam_root * pos_diff\n",
    "                intersection = np.hstack(([tau_sol], pos_sol))\n",
    "                if not any(np.allclose(intersection, x, atol=tol) for x in intersections):\n",
    "                    intersections.append(intersection)\n",
    "            continue\n",
    "\n",
    "        # For non-coplanar segments, check endpoints and then use bisection.\n",
    "        if np.abs(f0) < tol:\n",
    "            lam_sol = 0.0\n",
    "        elif np.abs(f1) < tol:\n",
    "            lam_sol = 1.0\n",
    "        elif f0 * f1 > 0:\n",
    "            continue  # No crossing.\n",
    "        else:\n",
    "            lam_low = 0.0\n",
    "            lam_high = 1.0\n",
    "            f_low = f0\n",
    "            lam_sol = None\n",
    "            for _ in range(max_iter):\n",
    "                lam_mid = (lam_low + lam_high) / 2.0\n",
    "                f_mid = f(lam_mid)\n",
    "                if np.abs(f_mid) < tol:\n",
    "                    lam_sol = lam_mid\n",
    "                    break\n",
    "                if f_low * f_mid < 0:\n",
    "                    lam_high = lam_mid\n",
    "                else:\n",
    "                    lam_low = lam_mid\n",
    "                    f_low = f_mid\n",
    "            if lam_sol is None:\n",
    "                lam_sol = (lam_low + lam_high) / 2.0\n",
    "\n",
    "        if lam_sol < 0 or lam_sol > 1:\n",
    "            continue\n",
    "\n",
    "        tau_sol = p1[0] + lam_sol * t_diff\n",
    "        pos_sol = p1[1:] + lam_sol * pos_diff\n",
    "        pos_body = rotate_z_neg(omega * tau_sol, pos_sol)\n",
    "        if np.linalg.norm(pos_body - disk_center0) <= disk_radius:\n",
    "            intersection = np.hstack(([tau_sol], pos_sol))\n",
    "            intersections.append(intersection)\n",
    "\n",
    "    return np.vstack(intersections) if intersections else np.array([])\n",
    "\n",
    "\n",
    "def plot_inclined_disk(ax, center, radius, normal, num_points=100, color='red', alpha=0.3):\n",
    "    \"\"\"\n",
    "    Plots a transparent disk in 3D, oriented according to the given normal vector.\n",
    "    \n",
    "    Parameters:\n",
    "      ax        : The 3D axes to plot on.\n",
    "      center    : Tuple (x, y, z) for the disk center.\n",
    "      radius    : Radius of the disk.\n",
    "      normal    : The desired normal vector (as an array-like of 3 numbers).\n",
    "      num_points: Number of points used to sample the circle.\n",
    "      color     : Disk color.\n",
    "      alpha     : Transparency (0 is fully transparent, 1 is opaque).\n",
    "    \"\"\"\n",
    "    # Create a circle in the xy-plane (z = 0)\n",
    "    theta = np.linspace(0, 2 * np.pi, num_points)\n",
    "    x = radius * np.cos(theta)\n",
    "    y = radius * np.sin(theta)\n",
    "    z = np.zeros_like(x)\n",
    "    points = np.vstack((x, y, z))  # shape: (3, num_points)\n",
    "    \n",
    "    # Normalize the input normal vector\n",
    "    normal = np.array(normal, dtype=float)\n",
    "    normal /= np.linalg.norm(normal)\n",
    "    \n",
    "    # The default disk normal is along the z-axis\n",
    "    z_axis = np.array([0, 0, 1])\n",
    "    \n",
    "    # Compute the rotation axis (cross product) and angle (via dot product)\n",
    "    v = np.cross(z_axis, normal)\n",
    "    s = np.linalg.norm(v)\n",
    "    c = np.dot(z_axis, normal)\n",
    "    # If s is close to zero, the normals are parallel.\n",
    "    if np.isclose(s, 0):\n",
    "        if c < 0:\n",
    "            # 180 degree rotation: flip x and y.\n",
    "            R = np.array([[-1,  0,  0],\n",
    "                          [ 0, -1,  0],\n",
    "                          [ 0,  0,  1]])\n",
    "        else:\n",
    "            R = np.eye(3)\n",
    "    else:\n",
    "        # Rodrigues' rotation formula components\n",
    "        vx = np.array([[0, -v[2], v[1]],\n",
    "                       [v[2], 0, -v[0]],\n",
    "                       [-v[1], v[0], 0]])\n",
    "        R = np.eye(3) + vx + np.dot(vx, vx) * ((1 - c) / (s**2))\n",
    "    \n",
    "    # Rotate the circle points\n",
    "    points_rot = R.dot(points)\n",
    "    \n",
    "    # Translate points to the specified center\n",
    "    points_rot[0, :] += center[0]\n",
    "    points_rot[1, :] += center[1]\n",
    "    points_rot[2, :] += center[2]\n",
    "    \n",
    "    # Create a 3D polygon from the points and add it to the axes\n",
    "    poly = Poly3DCollection([points_rot.T], color=color, alpha=alpha,edgecolors='none')\n",
    "    ax.add_collection3d(poly)\n",
    "\n",
    "def gaussian_peaks(t, crossing_times, width=0.05):\n",
    "    \"\"\"\n",
    "    Generates a sum of Gaussian peaks centered at given crossing times.\n",
    "\n",
    "    Parameters:\n",
    "    t : array-like\n",
    "        Time values for evaluation.\n",
    "    crossing_times : list or array\n",
    "        List of times where Gaussians should peak.\n",
    "    width : float\n",
    "        Standard deviation of the Gaussians (controls peak width).\n",
    "\n",
    "    Returns:\n",
    "    array:\n",
    "        Sum of Gaussian peaks evaluated at t.\n",
    "    \"\"\"\n",
    "    t = np.asarray(t)\n",
    "    result = np.zeros_like(t)\n",
    "\n",
    "    for crossing in crossing_times:\n",
    "        result += np.exp(-((t - crossing) ** 2) / (2 * width ** 2)) #* np.exp(1j * width * (t - crossing)).real\n",
    "\n",
    "    return result\n",
    "\n",
    "def generate_template(x1, x2, dt=20):\n",
    "    # System Parameters\n",
    "    M = x1\n",
    "    m = x2\n",
    "    f1_measured = 0.0007380463140752472\n",
    "    e0 = 0.22865665220266215\n",
    "    a = 0.0\n",
    "    p0 = Keplerian_p_from_f(M, m, f1_measured, e0)\n",
    "    iota0 = 0.0\n",
    "    #iota0 = 0.001\n",
    "    Y0 = np.cos(iota0)\n",
    "    Phi_phi0 = 0.\n",
    "    Phi_theta0 = 1.2\n",
    "    Phi_r0 = 3.5\n",
    "\n",
    "    # Extrinsic params\n",
    "    qS = 0.2\n",
    "    phiS = 0.2\n",
    "    qK = 0.8\n",
    "    phiK = 0.8\n",
    "    dist = 5.235888314207546\n",
    "    mich = False\n",
    "    dt = dt\n",
    "    T = 0.001\n",
    "\n",
    "    # Disk Params\n",
    "    disk_center0 = [0.0, 0.0, 0.0]\n",
    "    disk_normal0 = [0.0, 2.0, 1.0]\n",
    "    disk_radius = 100000\n",
    "    omega = 2*np.pi/(60*60*24*3.5)  # disk rotates about the z-axis at 1 rad/s\n",
    "    omega = 0\n",
    "\n",
    "    # set initial parameters (default parameters in FEW AAK Documentation)\n",
    "    traj = EMRIInspiral(func='SchwarzEccFlux')\n",
    "\n",
    "\n",
    "    # Make the gravitational wave strain, 3D trajectory, crossings and EM signal\n",
    "    t, p, e, x, Phi_phi, Phi_theta, Phi_r = traj(M, m, a, p0, e0, Y0,\n",
    "                                Phi_phi0 = Phi_phi0, Phi_theta0 = Phi_theta0, Phi_r0 = Phi_r0,\n",
    "                                dt=dt, T=T,upsample=True,fix_t=True)\n",
    "\n",
    "\n",
    "    trajectory = bl2kep2(t, a, p, e, x, Phi_r, Phi_theta, Phi_phi)\n",
    "\n",
    "    intersections = intersect_trajectory_with_rotating_disk(trajectory, disk_center0, disk_normal0, disk_radius, omega)\n",
    "\n",
    "    data = gaussian_peaks(trajectory[0], intersections.T[0], width=10*2)  #NOTE: width is 10*2\n",
    "    return data\n",
    "\n",
    "def chi_squared_wrapper(x, data, dt, noise_factor):\n",
    "    x1, x2 = x[0], x[1]\n",
    "    template = generate_template(x1, x2, dt)\n",
    "    return chi_squared(data, template, dt, noise_factor)\n",
    "\n",
    "def chi_squared(data, template, dt, noise_factor=1):\n",
    "    return np.sum(data*template - 0.5*template*template)/noise_factor * dt"
   ]
  },
  {
   "cell_type": "code",
   "execution_count": 72,
   "id": "7c377cc5",
   "metadata": {},
   "outputs": [
    {
     "name": "stdout",
     "output_type": "stream",
     "text": [
      "10.819609027106658\n",
      "Chi squared is 846.9136612514724\n",
      "SNR is 41.15613347367491\n"
     ]
    },
    {
     "data": {
      "image/png": "[encoded data removed]",
      "text/plain": [
       "<Figure size 640x480 with 1 Axes>"
      ]
     },
     "metadata": {},
     "output_type": "display_data"
    }
   ],
   "source": [
    "\n",
    "dt = 20\n",
    "noise_factor = 1.0\n",
    "data_injection=generate_template(1134944.869275098, 29.489999547765798, dt=dt)\n",
    "plt.plot(data_injection)\n",
    "print(f'Chi squared is {chi_squared(data_injection, data_injection, dt, noise_factor=1.0)}')\n",
    "print(f'SNR is {np.sqrt(2*chi_squared(data_injection, data_injection, dt, noise_factor=1.0))}' )\n"
   ]
  },
  {
   "cell_type": "code",
   "execution_count": null,
   "id": "d45906e3",
   "metadata": {},
   "outputs": [
    {
     "name": "stdout",
     "output_type": "stream",
     "text": [
      "10.818039360498009\n",
      "10.825950392086895\n",
      "10.81510773607688\n",
      "10.821676397184248\n",
      "10.819904384968586\n",
      "10.819099661965144\n",
      "10.817731406970736\n",
      "10.813795900540331\n",
      "10.825533257212975\n",
      "10.813476952399341\n",
      "10.813907102953111\n",
      "10.820058944757488\n",
      "10.813737634759157\n",
      "10.818949434088271\n",
      "10.823712922430417\n",
      "10.816019271268624\n",
      "10.818438001560775\n",
      "10.820002836726719\n",
      "10.820596949607124\n",
      "10.821763141187734\n"
     ]
    },
    {
     "name": "stderr",
     "output_type": "stream",
     "text": [
      "  0%|          | 0/1000 [00:00<?, ?it/s]"
     ]
    },
    {
     "name": "stdout",
     "output_type": "stream",
     "text": [
      "10.822134503228728\n",
      "10.818682000273327\n",
      "10.822724014771612\n",
      "10.814970225037431\n",
      "10.818379846262111\n",
      "10.814682533802545\n",
      "10.815082820008335\n",
      "10.819062127761221\n",
      "10.814519233015744\n",
      "10.818452513394178\n",
      "10.820533611012292\n",
      "10.82131187780388\n"
     ]
    },
    {
     "name": "stderr",
     "output_type": "stream",
     "text": [
      "  0%|          | 1/1000 [00:00<12:36,  1.32it/s]"
     ]
    },
    {
     "name": "stdout",
     "output_type": "stream",
     "text": [
      "10.822885758679085\n",
      "10.824685147700912\n",
      "10.818586563704402\n",
      "10.820417302501527\n",
      "10.825983142276883\n",
      "10.817958170390668\n",
      "10.818443669698867\n",
      "10.82257115976558\n"
     ]
    },
    {
     "name": "stderr",
     "output_type": "stream",
     "text": [
      "  0%|          | 2/1000 [00:01<10:22,  1.60it/s]"
     ]
    },
    {
     "name": "stdout",
     "output_type": "stream",
     "text": [
      "10.814492636917816\n",
      "10.818472267367191\n",
      "10.819056786498061\n",
      "10.82083863153477\n",
      "10.822983404641807\n",
      "10.81462722157914\n",
      "10.817265477794296\n",
      "10.818344408357992\n",
      "10.818950395575111\n",
      "10.821442504794375\n",
      "10.815355005037055\n",
      "10.817737648838795\n",
      "10.818422285741603\n",
      "10.818554279061669\n",
      "10.824301531448413\n",
      "10.823839476291429\n"
     ]
    },
    {
     "name": "stderr",
     "output_type": "stream",
     "text": [
      "  0%|          | 3/1000 [00:01<10:54,  1.52it/s]"
     ]
    },
    {
     "name": "stdout",
     "output_type": "stream",
     "text": [
      "10.823435051029891\n",
      "10.816256366200669\n",
      "10.824226746266874\n",
      "10.81832652871548\n",
      "10.821445890389244\n",
      "10.820617919288711\n",
      "10.821901051559543\n",
      "10.818414311183789\n",
      "10.825552129943757\n",
      "10.813490192301249\n",
      "10.818564148609603\n"
     ]
    },
    {
     "name": "stderr",
     "output_type": "stream",
     "text": [
      "  0%|          | 4/1000 [00:02<11:14,  1.48it/s]"
     ]
    },
    {
     "name": "stdout",
     "output_type": "stream",
     "text": [
      "10.818802374785589\n",
      "10.819996796286945\n",
      "10.816354110414954\n",
      "10.817622584945466\n",
      "10.81970769208114\n",
      "10.817855484584795\n",
      "10.820014669291394\n",
      "10.81982969101272\n",
      "10.825012235995839\n",
      "10.821501716763079\n",
      "10.815872337240371\n",
      "10.82582137794515\n",
      "10.825277242102487\n",
      "10.82003587871816\n",
      "10.822148513970019\n",
      "10.821152744525541\n"
     ]
    },
    {
     "name": "stderr",
     "output_type": "stream",
     "text": [
      "  0%|          | 5/1000 [00:03<11:54,  1.39it/s]"
     ]
    },
    {
     "name": "stdout",
     "output_type": "stream",
     "text": [
      "10.814476844551871\n",
      "10.825891687505298\n",
      "10.818033677391632\n",
      "10.820019129372069\n",
      "10.818496740998023\n",
      "10.81989981993864\n",
      "10.820894655933161\n",
      "10.823338113158878\n",
      "10.814341508656808\n",
      "10.824361059100596\n",
      "10.820015211598836\n",
      "10.821360042939924\n"
     ]
    },
    {
     "name": "stderr",
     "output_type": "stream",
     "text": [
      "  1%|          | 6/1000 [00:04<11:27,  1.45it/s]"
     ]
    },
    {
     "name": "stdout",
     "output_type": "stream",
     "text": [
      "10.815224501660508\n",
      "10.824859986540243\n",
      "10.814317804364785\n",
      "10.82042782103081\n",
      "10.816813151243846\n",
      "10.818726601815984\n",
      "10.82266137160047\n",
      "10.820913351047018\n",
      "10.818007491277307\n",
      "10.819210042450404\n",
      "10.814672969942576\n",
      "10.822879181179255\n"
     ]
    },
    {
     "name": "stderr",
     "output_type": "stream",
     "text": [
      "  1%|          | 7/1000 [00:04<11:43,  1.41it/s]"
     ]
    },
    {
     "name": "stdout",
     "output_type": "stream",
     "text": [
      "10.820110094897165\n",
      "10.819549356733878\n",
      "10.817848550180953\n",
      "10.81943643116145\n",
      "10.817309385525412\n",
      "10.815300261568959\n",
      "10.820176360958719\n",
      "10.820075289553625\n",
      "10.822731786805772\n",
      "10.822534603747279\n",
      "10.815769126966194\n",
      "10.816460912122876\n",
      "10.814944195056666\n",
      "10.81867024194664\n",
      "10.820313784909098\n",
      "10.820852375061913\n"
     ]
    },
    {
     "name": "stderr",
     "output_type": "stream",
     "text": [
      "  1%|          | 8/1000 [00:05<11:54,  1.39it/s]"
     ]
    },
    {
     "name": "stdout",
     "output_type": "stream",
     "text": [
      "10.823554487209446\n",
      "10.814185804406861\n",
      "10.814687883858475\n",
      "10.814377700636335\n",
      "10.818741772239836\n",
      "10.820491626493437\n",
      "10.818733651293428\n",
      "10.817086734373284\n",
      "10.817039388205917\n",
      "10.822124166634579\n",
      "10.819738198851383\n",
      "10.820574113085112\n"
     ]
    },
    {
     "name": "stderr",
     "output_type": "stream",
     "text": [
      "  1%|          | 9/1000 [00:06<11:27,  1.44it/s]"
     ]
    },
    {
     "name": "stdout",
     "output_type": "stream",
     "text": [
      "10.818919951201647\n",
      "10.820423376608794\n",
      "10.816362732255277\n",
      "10.818785556149841\n",
      "10.824070297821178\n",
      "10.82347981042623\n",
      "10.815355939709006\n",
      "10.814700454769815\n",
      "10.818473679690157\n",
      "10.81738245301045\n",
      "10.823609650375982\n",
      "10.819835920772503\n"
     ]
    },
    {
     "name": "stderr",
     "output_type": "stream",
     "text": [
      "  1%|          | 10/1000 [00:06<11:41,  1.41it/s]"
     ]
    },
    {
     "name": "stdout",
     "output_type": "stream",
     "text": [
      "10.820519298917539\n",
      "10.824872447579414\n",
      "10.819016902092148\n",
      "10.820505052685988\n",
      "10.81712206953269\n",
      "10.818529293436479\n",
      "10.819883126862466\n",
      "10.819699491387066\n",
      "10.824282159616178\n",
      "10.81944656002736\n",
      "10.825850446280768\n",
      "10.819161006076671\n"
     ]
    },
    {
     "name": "stderr",
     "output_type": "stream",
     "text": [
      "  1%|          | 11/1000 [00:07<11:34,  1.42it/s]"
     ]
    },
    {
     "name": "stdout",
     "output_type": "stream",
     "text": [
      "10.816906773101117\n",
      "10.81891124392754\n",
      "10.821658664794503\n",
      "10.819210988927658\n",
      "10.819613568702245\n",
      "10.81677756467837\n",
      "10.822263639101962\n",
      "10.8196865687868\n",
      "10.819440431219038\n",
      "10.815007735438757\n",
      "10.818860093337467\n",
      "10.820621793213386\n",
      "10.817851426411424\n",
      "10.816218043904316\n",
      "10.816580504231062\n",
      "10.82470412771156\n"
     ]
    },
    {
     "name": "stderr",
     "output_type": "stream",
     "text": [
      "  1%|          | 12/1000 [00:08<12:29,  1.32it/s]"
     ]
    },
    {
     "name": "stdout",
     "output_type": "stream",
     "text": [
      "10.820113696488255\n",
      "10.82447370442653\n",
      "10.81853911357054\n",
      "10.818634505910799\n",
      "10.81688718126087\n",
      "10.817401784693383\n",
      "10.819308083444012\n",
      "10.814626092012494\n",
      "10.821740090251327\n",
      "10.820587621544197\n",
      "10.820332123104174\n",
      "10.824152885187914\n",
      "10.81631425294586\n",
      "10.821417108767221\n",
      "10.81408392529845\n"
     ]
    },
    {
     "name": "stderr",
     "output_type": "stream",
     "text": [
      "  1%|▏         | 13/1000 [00:09<12:53,  1.28it/s]"
     ]
    },
    {
     "name": "stdout",
     "output_type": "stream",
     "text": [
      "10.817504813108942\n",
      "10.816981009924698\n",
      "10.819870305910197\n",
      "10.817175855392506\n",
      "10.81695173545472\n",
      "10.815634253643676\n",
      "10.8162440317178\n",
      "10.822949032213373\n",
      "10.818503977983152\n",
      "10.816453820841335\n",
      "10.823261393699926\n",
      "10.817059754811499\n",
      "10.817943704474434\n",
      "10.814191889167237\n",
      "10.824651954796856\n",
      "10.818469258860688\n"
     ]
    },
    {
     "name": "stderr",
     "output_type": "stream",
     "text": [
      "  1%|▏         | 14/1000 [00:10<13:12,  1.24it/s]"
     ]
    },
    {
     "name": "stdout",
     "output_type": "stream",
     "text": [
      "10.817584320884336\n",
      "10.822748228787596\n",
      "10.81747436116818\n",
      "10.820259540270424\n",
      "10.818309878752823\n",
      "10.813757055311573\n",
      "10.818474907326435\n",
      "10.822926771168717\n",
      "10.816043429952396\n",
      "10.822662869703073\n",
      "10.821763539686948\n",
      "10.817538756860422\n",
      "10.815784045821902\n",
      "10.817539015038951\n",
      "10.825136827319387\n",
      "10.823248584312473\n"
     ]
    },
    {
     "name": "stderr",
     "output_type": "stream",
     "text": [
      "  2%|▏         | 15/1000 [00:11<13:42,  1.20it/s]"
     ]
    },
    {
     "name": "stdout",
     "output_type": "stream",
     "text": [
      "10.816254916736982\n",
      "10.818266394414499\n",
      "10.81943846635043\n",
      "10.8215444531953\n",
      "10.82402435809769\n",
      "10.818185758032902\n",
      "10.825799272013828\n",
      "10.814479041156687\n",
      "10.824260198333517\n",
      "10.817850495412053\n",
      "10.819113758696513\n",
      "10.818592845611093\n",
      "10.815518611996525\n",
      "10.81440993311765\n",
      "10.819861987262486\n",
      "10.81424363264413\n",
      "10.823356309108425\n",
      "10.818504079327559\n",
      "10.81860775124846\n",
      "10.823344102281235\n"
     ]
    },
    {
     "name": "stderr",
     "output_type": "stream",
     "text": [
      "  2%|▏         | 16/1000 [00:12<14:04,  1.17it/s]"
     ]
    },
    {
     "name": "stdout",
     "output_type": "stream",
     "text": [
      "10.815867497270432\n",
      "10.81450579276011\n",
      "10.818388794590335\n",
      "10.82119402592054\n",
      "10.820546863402935\n",
      "10.816199958103473\n",
      "10.820909759930844\n",
      "10.81736420650071\n",
      "10.821794688057066\n",
      "10.823549447976417\n",
      "10.817835390021942\n",
      "10.814169735067209\n",
      "10.825960375524058\n",
      "10.814882678315874\n",
      "10.818532411568803\n",
      "10.823095910922566\n"
     ]
    },
    {
     "name": "stderr",
     "output_type": "stream",
     "text": [
      "  2%|▏         | 17/1000 [00:13<14:32,  1.13it/s]"
     ]
    },
    {
     "name": "stdout",
     "output_type": "stream",
     "text": [
      "10.814729869114716\n",
      "10.819038824013424\n",
      "10.8168311335187\n",
      "10.815313696131783\n",
      "10.822023204589907\n",
      "10.819221942149579\n",
      "10.824977551217607\n",
      "10.815584726155521\n",
      "10.819689161131333\n",
      "10.824184252178187\n",
      "10.825001332397042\n",
      "10.81550941195283\n",
      "10.81944446639671\n",
      "10.818200901485454\n",
      "10.81430335216028\n",
      "10.822500122116772\n"
     ]
    },
    {
     "name": "stderr",
     "output_type": "stream",
     "text": [
      "  2%|▏         | 18/1000 [00:13<14:05,  1.16it/s]"
     ]
    },
    {
     "name": "stdout",
     "output_type": "stream",
     "text": [
      "10.82074937806611\n",
      "10.81676827594198\n",
      "10.823559549535025\n",
      "10.816300093573133\n",
      "10.81755956835797\n",
      "10.825950629175201\n",
      "10.815724802669546\n",
      "10.815721890388323\n",
      "10.821321456646382\n",
      "10.817859292130487\n",
      "10.822374851060424\n",
      "10.81590534320983\n",
      "10.821906725654975\n",
      "10.814052037475063\n",
      "10.823759686396281\n",
      "10.820035895352794\n"
     ]
    },
    {
     "name": "stderr",
     "output_type": "stream",
     "text": [
      "  2%|▏         | 19/1000 [00:14<13:45,  1.19it/s]"
     ]
    },
    {
     "name": "stdout",
     "output_type": "stream",
     "text": [
      "10.816967130813284\n",
      "10.824834159733065\n",
      "10.818345343748488\n",
      "10.815184533587805\n",
      "10.813861642116722\n",
      "10.82104343403142\n",
      "10.816559183975267\n",
      "10.82214235247688\n",
      "10.823976334343374\n",
      "10.81795521569345\n",
      "10.817141481829212\n",
      "10.821833427305423\n"
     ]
    },
    {
     "name": "stderr",
     "output_type": "stream",
     "text": [
      "  2%|▏         | 20/1000 [00:15<13:15,  1.23it/s]"
     ]
    },
    {
     "name": "stdout",
     "output_type": "stream",
     "text": [
      "10.815765617554705\n",
      "10.821675836736505\n",
      "10.817275402677366\n",
      "10.817638253399194\n",
      "10.815346837369772\n",
      "10.815681828063449\n",
      "10.820410218651853\n",
      "10.820847530203698\n",
      "10.823354574377722\n",
      "10.81598811341369\n",
      "10.815418919645264\n",
      "10.816846287408108\n",
      "10.816473747526615\n",
      "10.817430523096258\n",
      "10.822052075365491\n"
     ]
    },
    {
     "name": "stderr",
     "output_type": "stream",
     "text": [
      "  2%|▏         | 21/1000 [00:16<12:59,  1.26it/s]"
     ]
    },
    {
     "name": "stdout",
     "output_type": "stream",
     "text": [
      "10.818232928659265\n",
      "10.81497856756395\n",
      "10.814984613829207\n",
      "10.816509713632136\n",
      "10.819504652277953\n",
      "10.817822823769495\n",
      "10.821563283517593\n",
      "10.824436181066678\n",
      "10.824676159215352\n",
      "10.816554496101215\n",
      "10.8161139344828\n",
      "10.818619423384897\n",
      "10.819274846773657\n",
      "10.815742813805322\n",
      "10.81647439975488\n",
      "10.821289153671847\n"
     ]
    },
    {
     "name": "stderr",
     "output_type": "stream",
     "text": [
      "  2%|▏         | 22/1000 [00:16<13:19,  1.22it/s]"
     ]
    },
    {
     "name": "stdout",
     "output_type": "stream",
     "text": [
      "10.817746467583481\n",
      "10.82561966820118\n",
      "10.825507260436524\n",
      "10.818952002847466\n",
      "10.816457405467066\n",
      "10.81605835542513\n",
      "10.823217461015313\n",
      "10.821361482939738\n",
      "10.816574145357933\n",
      "10.815189788424172\n",
      "10.818467225202848\n",
      "10.817327791037348\n"
     ]
    },
    {
     "name": "stderr",
     "output_type": "stream",
     "text": [
      "  2%|▏         | 23/1000 [00:17<12:43,  1.28it/s]"
     ]
    },
    {
     "name": "stdout",
     "output_type": "stream",
     "text": [
      "10.822232413164098\n",
      "10.822214292158268\n",
      "10.81623780500807\n",
      "10.8189810158008\n",
      "10.816924503548263\n",
      "10.819754293822648\n",
      "10.823056850690786\n",
      "10.823309987997128\n",
      "10.821136039474164\n",
      "10.813946097286236\n",
      "10.817639637593253\n",
      "10.824549255431128\n"
     ]
    },
    {
     "name": "stderr",
     "output_type": "stream",
     "text": [
      "  2%|▏         | 24/1000 [00:18<12:17,  1.32it/s]"
     ]
    },
    {
     "name": "stdout",
     "output_type": "stream",
     "text": [
      "10.816649608562114\n",
      "10.821532831118503\n",
      "10.824317440267698\n",
      "10.817830349994676\n",
      "10.825802241150015\n",
      "10.817745019445741\n",
      "10.815026158800267\n",
      "10.820984445804028\n",
      "10.817575587858814\n",
      "10.821847875991681\n",
      "10.817661949993617\n",
      "10.819106670483912\n"
     ]
    },
    {
     "name": "stderr",
     "output_type": "stream",
     "text": [
      "  2%|▎         | 25/1000 [00:19<11:46,  1.38it/s]"
     ]
    },
    {
     "name": "stdout",
     "output_type": "stream",
     "text": [
      "10.818360342873621\n",
      "10.825017793164879\n",
      "10.825502932275995\n",
      "10.817692518922897\n",
      "10.81746190891874\n",
      "10.816895861011917\n",
      "10.819988508507086\n",
      "10.819872243228742\n",
      "10.822321603064077\n",
      "10.817457511766994\n",
      "10.81335944887229\n",
      "10.817091104218152\n"
     ]
    },
    {
     "name": "stderr",
     "output_type": "stream",
     "text": [
      "  3%|▎         | 26/1000 [00:19<11:22,  1.43it/s]"
     ]
    },
    {
     "name": "stdout",
     "output_type": "stream",
     "text": [
      "10.818483393540152\n",
      "10.823438546151083\n",
      "10.820076890854821\n",
      "10.81858067239549\n",
      "10.820091225442381\n",
      "10.819051429294234\n",
      "10.819498359259494\n",
      "10.821414520625778\n",
      "10.816129934736779\n",
      "10.817916128549824\n",
      "10.825114046658001\n",
      "10.816926140281051\n",
      "10.817227963627413\n",
      "10.817392906762532\n",
      "10.818677053696511\n",
      "10.82043351505219\n"
     ]
    },
    {
     "name": "stderr",
     "output_type": "stream",
     "text": [
      "  3%|▎         | 27/1000 [00:20<11:50,  1.37it/s]"
     ]
    },
    {
     "name": "stdout",
     "output_type": "stream",
     "text": [
      "10.823982615760361\n",
      "10.81765930834046\n",
      "10.815700042289297\n",
      "10.814440828850774\n",
      "10.820695895802423\n",
      "10.821278754279476\n",
      "10.81601134800024\n",
      "10.822676613854428\n",
      "10.820680902356788\n",
      "10.820760767605105\n",
      "10.823404290780855\n",
      "10.818803296223889\n"
     ]
    },
    {
     "name": "stderr",
     "output_type": "stream",
     "text": [
      "  3%|▎         | 28/1000 [00:21<11:44,  1.38it/s]"
     ]
    },
    {
     "name": "stdout",
     "output_type": "stream",
     "text": [
      "10.819731628200666\n",
      "10.819057622285051\n",
      "10.813317653209825\n",
      "10.8205438325739\n",
      "10.817151699885386\n",
      "10.814651384108249\n",
      "10.815950161590056\n",
      "10.81939455252409\n",
      "10.82247477834934\n",
      "10.821444571809197\n",
      "10.815676252204792\n",
      "10.819450718767719\n",
      "10.821407600460315\n",
      "10.822513624432478\n",
      "10.82488098706191\n",
      "10.819340539267952\n",
      "10.820020407691723\n",
      "10.819236170152177\n",
      "10.820989973220636\n"
     ]
    },
    {
     "name": "stderr",
     "output_type": "stream",
     "text": [
      "  3%|▎         | 29/1000 [00:22<13:17,  1.22it/s]"
     ]
    },
    {
     "name": "stdout",
     "output_type": "stream",
     "text": [
      "10.82349544865143\n",
      "10.821757025652369\n",
      "10.819345912596459\n",
      "10.816657614368902\n",
      "10.819391467091942\n",
      "10.82216129370383\n",
      "10.81844265333121\n",
      "10.82210756519155\n",
      "10.814178517509658\n",
      "10.813309861209898\n",
      "10.819339614793906\n",
      "10.815654848033027\n"
     ]
    },
    {
     "name": "stderr",
     "output_type": "stream",
     "text": [
      "  3%|▎         | 30/1000 [00:23<13:07,  1.23it/s]"
     ]
    },
    {
     "name": "stdout",
     "output_type": "stream",
     "text": [
      "10.816772311940067\n",
      "10.819437579314922\n",
      "10.821787993486558\n",
      "10.813577189830491\n",
      "10.824669253680216\n",
      "10.817225374787999\n",
      "10.821891878139072\n",
      "10.817091017851805\n",
      "10.819297607731126\n",
      "10.817032954470898\n",
      "10.820879340703858\n",
      "10.822923106229577\n",
      "10.825582405825033\n",
      "10.822956731781915\n",
      "10.81907819207264\n",
      "10.818994562314094\n",
      "10.820328094886252\n",
      "10.819452062963887\n",
      "10.820043213591699\n",
      "10.82119258615572\n"
     ]
    },
    {
     "name": "stderr",
     "output_type": "stream",
     "text": [
      "  3%|▎         | 31/1000 [00:23<13:44,  1.18it/s]"
     ]
    },
    {
     "name": "stdout",
     "output_type": "stream",
     "text": [
      "10.817564461514475\n",
      "10.817955426500165\n",
      "10.820424146832776\n",
      "10.818423328770626\n",
      "10.817862892611933\n",
      "10.818830809116982\n",
      "10.817744470267876\n",
      "10.823710893947158\n",
      "10.82516424895282\n",
      "10.817018711071249\n",
      "10.816165415130055\n",
      "10.81886781186358\n"
     ]
    },
    {
     "name": "stderr",
     "output_type": "stream",
     "text": [
      "  3%|▎         | 32/1000 [00:24<13:30,  1.19it/s]"
     ]
    },
    {
     "name": "stdout",
     "output_type": "stream",
     "text": [
      "10.818889887435876\n",
      "10.821201532854992\n",
      "10.82223140897453\n",
      "10.82324579901986\n",
      "10.818665886986674\n",
      "10.81616899490575\n",
      "10.818413375703125\n",
      "10.816284161468445\n",
      "10.81529732436682\n",
      "10.81840672325216\n",
      "10.82179515736277\n",
      "10.818806333658877\n"
     ]
    },
    {
     "name": "stderr",
     "output_type": "stream",
     "text": [
      "  3%|▎         | 33/1000 [00:25<12:03,  1.34it/s]"
     ]
    },
    {
     "name": "stdout",
     "output_type": "stream",
     "text": [
      "10.821914541081156\n",
      "10.822574922391306\n",
      "10.823588314123228\n",
      "10.815371428023333\n",
      "10.81549109388969\n",
      "10.820283884107273\n",
      "10.817603521218906\n",
      "10.820834157048933\n",
      "10.82576156766279\n",
      "10.816670517084713\n",
      "10.815157326637692\n",
      "10.815229289080651\n"
     ]
    },
    {
     "name": "stderr",
     "output_type": "stream",
     "text": [
      "  3%|▎         | 34/1000 [00:26<11:48,  1.36it/s]"
     ]
    },
    {
     "name": "stdout",
     "output_type": "stream",
     "text": [
      "10.820355089224275\n",
      "10.82129176930213\n",
      "10.82332018283361\n",
      "10.825379352042823\n",
      "10.814787899390204\n",
      "10.820065151977452\n",
      "10.819048764234994\n",
      "10.817385558657957\n",
      "10.819621274904828\n",
      "10.815231959745876\n",
      "10.819411836541676\n",
      "10.821998599922898\n",
      "10.817692931265116\n",
      "10.819090177811075\n",
      "10.817358171530188\n",
      "10.819688612273037\n",
      "10.816119237977867\n",
      "10.821750173968303\n",
      "10.821905209728849\n"
     ]
    },
    {
     "name": "stderr",
     "output_type": "stream",
     "text": [
      "  4%|▎         | 35/1000 [00:27<13:20,  1.21it/s]"
     ]
    },
    {
     "name": "stdout",
     "output_type": "stream",
     "text": [
      "10.821796538152354\n",
      "10.8136129189915\n",
      "10.81352260158812\n",
      "10.81962009922579\n",
      "10.814992253283101\n",
      "10.821455649677558\n",
      "10.82127143949561\n",
      "10.823487119169588\n",
      "10.823307911421074\n",
      "10.818134932440845\n",
      "10.81796249314634\n",
      "10.819369764645295\n",
      "10.820111959435161\n",
      "10.819730437451774\n",
      "10.816499514198414\n",
      "10.821885217213193\n"
     ]
    },
    {
     "name": "stderr",
     "output_type": "stream",
     "text": [
      "  4%|▎         | 36/1000 [00:27<13:38,  1.18it/s]"
     ]
    },
    {
     "name": "stdout",
     "output_type": "stream",
     "text": [
      "10.815543947142025\n",
      "10.818893289620178\n",
      "10.819987792789485\n",
      "10.81937694490045\n",
      "10.82060915154556\n",
      "10.81990662120834\n",
      "10.815471382018256\n",
      "10.821264172134734\n",
      "10.821511109160292\n",
      "10.822561031332304\n",
      "10.81428485900509\n",
      "10.818819669635216\n",
      "10.819562236936092\n",
      "10.814212606793966\n",
      "10.818382336751567\n",
      "10.822534103725493\n"
     ]
    },
    {
     "name": "stderr",
     "output_type": "stream",
     "text": [
      "  4%|▎         | 37/1000 [00:28<13:59,  1.15it/s]"
     ]
    },
    {
     "name": "stdout",
     "output_type": "stream",
     "text": [
      "10.822999020213421\n",
      "10.815739725816012\n",
      "10.81831268870376\n",
      "10.820676605267334\n",
      "10.81791213155887\n",
      "10.817156849223421\n",
      "10.81922783600939\n",
      "10.823299358600163\n",
      "10.819779453987868\n",
      "10.8238389245358\n",
      "10.820349538331692\n",
      "10.819529120406148\n"
     ]
    },
    {
     "name": "stderr",
     "output_type": "stream",
     "text": [
      "  4%|▍         | 38/1000 [00:29<12:52,  1.25it/s]"
     ]
    },
    {
     "name": "stdout",
     "output_type": "stream",
     "text": [
      "10.819550986169642\n",
      "10.817929231008902\n",
      "10.816338166243257\n",
      "10.818534037602129\n",
      "10.817973515997926\n",
      "10.8211574910306\n",
      "10.823552960519997\n",
      "10.820217912669943\n"
     ]
    },
    {
     "name": "stderr",
     "output_type": "stream",
     "text": [
      "  4%|▍         | 39/1000 [00:30<11:33,  1.39it/s]"
     ]
    },
    {
     "name": "stdout",
     "output_type": "stream",
     "text": [
      "10.825712802204032\n",
      "10.81909680955028\n",
      "10.820855854495504\n",
      "10.82050674023194\n",
      "10.81780931363492\n",
      "10.814652801413692\n",
      "10.81865898956288\n",
      "10.820467520379571\n",
      "10.816573876107583\n",
      "10.817935223043992\n",
      "10.8225322953072\n",
      "10.818784328536855\n",
      "10.820260208457666\n",
      "10.825067760248942\n",
      "10.81334635824139\n",
      "10.817885625534265\n",
      "10.819626668421398\n",
      "10.823927021292608\n",
      "10.818393231432411\n",
      "10.818244252911484\n"
     ]
    },
    {
     "name": "stderr",
     "output_type": "stream",
     "text": [
      "  4%|▍         | 40/1000 [00:31<12:51,  1.24it/s]"
     ]
    },
    {
     "name": "stdout",
     "output_type": "stream",
     "text": [
      "10.823354929047772\n",
      "10.821205540546313\n",
      "10.813595519908926\n",
      "10.819153198019045\n",
      "10.821589177556463\n",
      "10.813749699677555\n",
      "10.816402345047123\n",
      "10.81810306706332\n",
      "10.821058884629938\n",
      "10.818663769630891\n",
      "10.820861492322502\n",
      "10.824494337009192\n",
      "10.817375464065327\n",
      "10.821309936997046\n",
      "10.81663965817738\n",
      "10.817715246222274\n"
     ]
    },
    {
     "name": "stderr",
     "output_type": "stream",
     "text": [
      "  4%|▍         | 41/1000 [00:31<13:23,  1.19it/s]"
     ]
    },
    {
     "name": "stdout",
     "output_type": "stream",
     "text": [
      "10.816720163158271\n",
      "10.822717028301744\n",
      "10.820022673948824\n",
      "10.82008720910867\n",
      "10.824473290887273\n",
      "10.817543873808491\n",
      "10.81913770143253\n",
      "10.813897052354022\n",
      "10.816792139949111\n",
      "10.822421038809699\n",
      "10.821710806886518\n",
      "10.813352666378215\n",
      "10.821358235513395\n",
      "10.81605703477821\n",
      "10.818728563185868\n",
      "10.818159690450317\n",
      "10.817894083044648\n",
      "10.81826264964474\n",
      "10.820131199743596\n",
      "10.816528359232926\n"
     ]
    },
    {
     "name": "stderr",
     "output_type": "stream",
     "text": [
      "  4%|▍         | 42/1000 [00:33<14:37,  1.09it/s]"
     ]
    },
    {
     "name": "stdout",
     "output_type": "stream",
     "text": [
      "10.82192246144002\n",
      "10.821707086727931\n",
      "10.81350893370737\n",
      "10.818693242113808\n",
      "10.81664027781989\n",
      "10.818665367569318\n",
      "10.81735695512501\n",
      "10.820671909032741\n",
      "10.816697881074614\n",
      "10.818335786058114\n",
      "10.820939579161399\n",
      "10.8178939999316\n",
      "10.822773865804821\n",
      "10.822585192949083\n",
      "10.820137821595056\n",
      "10.818696926036914\n"
     ]
    },
    {
     "name": "stderr",
     "output_type": "stream",
     "text": [
      "  4%|▍         | 43/1000 [00:33<14:16,  1.12it/s]"
     ]
    },
    {
     "name": "stdout",
     "output_type": "stream",
     "text": [
      "10.816783351229363\n",
      "10.818978765776398\n",
      "10.820916839477652\n",
      "10.816011167849625\n",
      "10.819020768934694\n",
      "10.816321128065908\n",
      "10.821389084470912\n",
      "10.818615436683434\n",
      "10.817573791696173\n",
      "10.821541176535337\n",
      "10.81778680231299\n",
      "10.819677214987719\n"
     ]
    },
    {
     "name": "stderr",
     "output_type": "stream",
     "text": [
      "  4%|▍         | 44/1000 [00:34<13:03,  1.22it/s]"
     ]
    },
    {
     "name": "stdout",
     "output_type": "stream",
     "text": [
      "10.821606495320465\n",
      "10.819151067867839\n",
      "10.813439096927247\n",
      "10.815723276271294\n",
      "10.816289568717286\n",
      "10.820448209099613\n",
      "10.820466761172794\n",
      "10.819103495257266\n",
      "10.818181153013077\n",
      "10.82344703149023\n",
      "10.816666697665491\n",
      "10.818926091760607\n"
     ]
    },
    {
     "name": "stderr",
     "output_type": "stream",
     "text": [
      "  4%|▍         | 45/1000 [00:35<13:01,  1.22it/s]"
     ]
    },
    {
     "name": "stdout",
     "output_type": "stream",
     "text": [
      "10.819073516776927\n",
      "10.821543832147494\n",
      "10.816566282956483\n",
      "10.82170744433623\n",
      "10.81975237657115\n",
      "10.82235244679335\n",
      "10.818547894428038\n",
      "10.814304590105154\n",
      "10.817896948830992\n",
      "10.818526762481103\n",
      "10.823120867823125\n",
      "10.823400088501128\n",
      "10.818999206848636\n",
      "10.821365985055357\n",
      "10.8145678840516\n",
      "10.818922302144061\n",
      "10.815799821103505\n",
      "10.816945342937007\n",
      "10.81963147082756\n",
      "10.816540990269738\n"
     ]
    },
    {
     "name": "stderr",
     "output_type": "stream",
     "text": [
      "  5%|▍         | 46/1000 [00:36<13:40,  1.16it/s]"
     ]
    },
    {
     "name": "stdout",
     "output_type": "stream",
     "text": [
      "10.81483995455104\n",
      "10.819949115916863\n",
      "10.816480447778535\n",
      "10.817668493036903\n",
      "10.818700467245993\n",
      "10.819112278810325\n",
      "10.821496472929395\n",
      "10.821601019577875\n",
      "10.822154304476035\n",
      "10.821853752955336\n",
      "10.818554440656502\n",
      "10.81691049917111\n",
      "10.81585099832369\n",
      "10.819274426803739\n",
      "10.817866718194091\n",
      "10.818144046676657\n"
     ]
    },
    {
     "name": "stderr",
     "output_type": "stream",
     "text": [
      "  5%|▍         | 47/1000 [00:37<13:37,  1.17it/s]"
     ]
    },
    {
     "name": "stdout",
     "output_type": "stream",
     "text": [
      "10.822428928229236\n",
      "10.8223846480498\n",
      "10.81936575528916\n",
      "10.81770463630039\n",
      "10.818566308431533\n",
      "10.818293400418856\n",
      "10.819152009516966\n",
      "10.81999532321692\n",
      "10.81945367587582\n",
      "10.813753486341296\n",
      "10.81781128765462\n",
      "10.818497113233846\n",
      "10.820416828399507\n",
      "10.817595614907875\n",
      "10.818975747223165\n"
     ]
    },
    {
     "name": "stderr",
     "output_type": "stream",
     "text": [
      "  5%|▍         | 48/1000 [00:38<13:58,  1.14it/s]"
     ]
    },
    {
     "name": "stdout",
     "output_type": "stream",
     "text": [
      "10.820733917191102\n",
      "10.821765401842873\n",
      "10.820017989489793\n",
      "10.819424868914865\n",
      "10.819905878238517\n",
      "10.818868703995268\n",
      "10.81734253697075\n",
      "10.81872572606251\n",
      "10.81792951509785\n",
      "10.819905191967168\n",
      "10.821129542146183\n",
      "10.817429275730095\n",
      "10.81426538107527\n",
      "10.817106481793951\n",
      "10.819237294726193\n",
      "10.817609995747132\n"
     ]
    },
    {
     "name": "stderr",
     "output_type": "stream",
     "text": [
      "  5%|▍         | 49/1000 [00:38<13:52,  1.14it/s]"
     ]
    },
    {
     "name": "stdout",
     "output_type": "stream",
     "text": [
      "10.81828150837978\n",
      "10.821579305554192\n",
      "10.823591946254172\n",
      "10.814968207569668\n",
      "10.814152768511182\n",
      "10.819104867285096\n",
      "10.816555640228644\n",
      "10.817736208547096\n",
      "10.818437196419934\n",
      "10.817919633819983\n",
      "10.818877379145423\n",
      "10.818941390379248\n",
      "10.821071145963488\n",
      "10.81868107757546\n",
      "10.814789398172302\n"
     ]
    },
    {
     "name": "stderr",
     "output_type": "stream",
     "text": [
      "  5%|▌         | 50/1000 [00:39<13:58,  1.13it/s]"
     ]
    },
    {
     "name": "stdout",
     "output_type": "stream",
     "text": [
      "10.8205100147876\n",
      "10.81874049969029\n",
      "10.816684333676347\n",
      "10.81660969308118\n",
      "10.820134846715868\n",
      "10.817678269025917\n",
      "10.822397065945479\n",
      "10.819189219664025\n",
      "10.825847071937478\n",
      "10.816135589288034\n",
      "10.818264419902109\n",
      "10.818393720238413\n"
     ]
    },
    {
     "name": "stderr",
     "output_type": "stream",
     "text": [
      "  5%|▌         | 51/1000 [00:40<12:50,  1.23it/s]"
     ]
    },
    {
     "name": "stdout",
     "output_type": "stream",
     "text": [
      "10.818409668077006\n",
      "10.823271555609702\n",
      "10.823746167581493\n",
      "10.813426125894624\n",
      "10.816241807948346\n",
      "10.818622148843202\n",
      "10.818428009601606\n",
      "10.818215564872233\n",
      "10.81739749239398\n",
      "10.820532062786736\n",
      "10.82228965309136\n",
      "10.813717205768937\n"
     ]
    },
    {
     "name": "stderr",
     "output_type": "stream",
     "text": [
      "  5%|▌         | 52/1000 [00:41<12:31,  1.26it/s]"
     ]
    },
    {
     "name": "stdout",
     "output_type": "stream",
     "text": [
      "10.819765053992816\n",
      "10.822288814594346\n",
      "10.818403095584179\n",
      "10.819790479764078\n",
      "10.823332079407937\n",
      "10.82136708491734\n",
      "10.82091703859308\n",
      "10.813648050330498\n",
      "10.825612861338925\n",
      "10.817325379392406\n",
      "10.814127172634352\n",
      "10.823850332653633\n",
      "10.816733014148571\n",
      "10.816187346689574\n",
      "10.818684084086643\n",
      "10.814545848426336\n",
      "10.818241840172004\n",
      "10.816208901264659\n",
      "10.822288820494657\n",
      "10.818049974926279\n"
     ]
    },
    {
     "name": "stderr",
     "output_type": "stream",
     "text": [
      "  5%|▌         | 53/1000 [00:42<13:13,  1.19it/s]"
     ]
    },
    {
     "name": "stdout",
     "output_type": "stream",
     "text": [
      "10.819481122859836\n",
      "10.823945718930135\n",
      "10.823800870959342\n",
      "10.814926181943516\n",
      "10.81790572607587\n",
      "10.817216937503256\n",
      "10.824252747570728\n",
      "10.816605411848201\n"
     ]
    },
    {
     "name": "stderr",
     "output_type": "stream",
     "text": [
      "  5%|▌         | 54/1000 [00:42<11:36,  1.36it/s]"
     ]
    },
    {
     "name": "stdout",
     "output_type": "stream",
     "text": [
      "10.823252495681087\n",
      "10.822523387405003\n",
      "10.815622683587515\n",
      "10.817310245978312\n",
      "10.81665546368895\n",
      "10.819034515181107\n",
      "10.81467298378021\n",
      "10.81983184027339\n",
      "10.81729033959045\n",
      "10.817966399258014\n",
      "10.82378988040878\n"
     ]
    },
    {
     "name": "stderr",
     "output_type": "stream",
     "text": [
      "  6%|▌         | 55/1000 [00:43<11:48,  1.33it/s]"
     ]
    },
    {
     "name": "stdout",
     "output_type": "stream",
     "text": [
      "10.824368660238443\n",
      "10.824559081348287\n",
      "10.821558077730783\n",
      "10.82404896009167\n",
      "10.815780202297944\n",
      "10.817470824965394\n",
      "10.818902065308231\n",
      "10.813532041277181\n",
      "10.815806351422145\n",
      "10.815285871410138\n",
      "10.821113393510306\n",
      "10.817859160066561\n"
     ]
    },
    {
     "name": "stderr",
     "output_type": "stream",
     "text": [
      "  6%|▌         | 56/1000 [00:44<11:00,  1.43it/s]"
     ]
    },
    {
     "name": "stdout",
     "output_type": "stream",
     "text": [
      "10.81796390684249\n",
      "10.819812969201028\n",
      "10.81352307539606\n",
      "10.824587583986359\n",
      "10.822189806282532\n",
      "10.819596560633808\n",
      "10.817936191724746\n",
      "10.815356624939062\n",
      "10.814750085056563\n",
      "10.820413467971411\n",
      "10.819686076963611\n",
      "10.815684963998342\n",
      "10.816749703475171\n",
      "10.822684271836605\n",
      "10.816061109624023\n",
      "10.81963121173476\n"
     ]
    },
    {
     "name": "stderr",
     "output_type": "stream",
     "text": [
      "  6%|▌         | 57/1000 [00:44<11:56,  1.32it/s]"
     ]
    },
    {
     "name": "stdout",
     "output_type": "stream",
     "text": [
      "10.818044505159072\n",
      "10.81912725739304\n",
      "10.824743404388265\n",
      "10.823155200598213\n",
      "10.819737786639534\n",
      "10.823881406511477\n",
      "10.816224803850504\n",
      "10.814843163731075\n",
      "10.821249772345164\n",
      "10.814703602135605\n",
      "10.8173849680259\n",
      "10.81541239931863\n",
      "10.815817148073805\n",
      "10.815155941394766\n",
      "10.818038733407064\n",
      "10.816647394933678\n"
     ]
    },
    {
     "name": "stderr",
     "output_type": "stream",
     "text": [
      "  6%|▌         | 58/1000 [00:45<11:51,  1.32it/s]"
     ]
    },
    {
     "name": "stdout",
     "output_type": "stream",
     "text": [
      "10.82487992800051\n",
      "10.82053318572738\n",
      "10.813885316938931\n",
      "10.8228585917825\n",
      "10.820483226760722\n",
      "10.82325828057\n",
      "10.82476601292935\n",
      "10.822900271320085\n",
      "10.815238775763689\n",
      "10.81592491265696\n",
      "10.817258120276556\n",
      "10.8162530291901\n"
     ]
    },
    {
     "name": "stderr",
     "output_type": "stream",
     "text": [
      "  6%|▌         | 59/1000 [00:46<11:32,  1.36it/s]"
     ]
    },
    {
     "name": "stdout",
     "output_type": "stream",
     "text": [
      "10.815977297657158\n",
      "10.81926335147648\n",
      "10.815089210900148\n",
      "10.822022596186532\n",
      "10.816037318048524\n",
      "10.814862867499631\n",
      "10.822835078794311\n",
      "10.817227961370575\n",
      "10.814404254341502\n",
      "10.813976256147491\n",
      "10.815996773013888\n",
      "10.818981753702289\n",
      "10.816708325612687\n",
      "10.817322198266226\n",
      "10.821682432320246\n",
      "10.815859927241119\n"
     ]
    },
    {
     "name": "stderr",
     "output_type": "stream",
     "text": [
      "  6%|▌         | 60/1000 [00:47<11:38,  1.35it/s]"
     ]
    },
    {
     "name": "stdout",
     "output_type": "stream",
     "text": [
      "10.813286714540643\n",
      "10.823043904644264\n",
      "10.815415386305022\n",
      "10.817345363194098\n",
      "10.820557666882904\n",
      "10.816229875655994\n",
      "10.813979819453724\n",
      "10.814558014260909\n",
      "10.817980501139745\n",
      "10.815918422910388\n",
      "10.813759680469703\n",
      "10.819690949282727\n",
      "10.818814501766314\n",
      "10.819046696706424\n",
      "10.814847181089661\n"
     ]
    },
    {
     "name": "stderr",
     "output_type": "stream",
     "text": [
      "  6%|▌         | 61/1000 [00:48<12:22,  1.26it/s]"
     ]
    },
    {
     "name": "stdout",
     "output_type": "stream",
     "text": [
      "10.825017641512162\n",
      "10.814857067673524\n",
      "10.8258027310434\n",
      "10.817557964784616\n",
      "10.822118118510758\n",
      "10.818233516662625\n",
      "10.820713506704083\n",
      "10.81521437353394\n",
      "10.82223925180968\n",
      "10.82177695640681\n",
      "10.814648782735514\n",
      "10.818420029522251\n"
     ]
    },
    {
     "name": "stderr",
     "output_type": "stream",
     "text": [
      "  6%|▌         | 62/1000 [00:48<11:55,  1.31it/s]"
     ]
    },
    {
     "name": "stdout",
     "output_type": "stream",
     "text": [
      "10.819120037640877\n",
      "10.815275562358273\n",
      "10.819810138460916\n",
      "10.81954208107675\n",
      "10.817533577191819\n",
      "10.815808687737345\n",
      "10.82356114675434\n",
      "10.822556414838967\n",
      "10.813342438800285\n",
      "10.821433898118583\n",
      "10.815892236027757\n",
      "10.816215233488467\n"
     ]
    },
    {
     "name": "stderr",
     "output_type": "stream",
     "text": [
      "  6%|▋         | 63/1000 [00:49<11:24,  1.37it/s]"
     ]
    },
    {
     "name": "stdout",
     "output_type": "stream",
     "text": [
      "10.821237859609873\n",
      "10.813419980168156\n",
      "10.821169747193233\n",
      "10.816120707085473\n",
      "10.823576879477093\n",
      "10.814976273606227\n",
      "10.81748670896149\n",
      "10.820537295528965\n",
      "10.817172583872278\n",
      "10.824285721344904\n",
      "10.82039527999069\n",
      "10.814836075153195\n",
      "10.819634426916638\n",
      "10.813474841422627\n",
      "10.819663172330936\n",
      "10.815671099084192\n"
     ]
    },
    {
     "name": "stderr",
     "output_type": "stream",
     "text": [
      "  6%|▋         | 64/1000 [00:50<12:19,  1.27it/s]"
     ]
    },
    {
     "name": "stdout",
     "output_type": "stream",
     "text": [
      "10.815893440033236\n",
      "10.818291767819831\n",
      "10.819226707683436\n",
      "10.818604823207833\n",
      "10.819634653732427\n",
      "10.81922424138889\n",
      "10.816473748608258\n",
      "10.817897321837002\n",
      "10.814486038632936\n",
      "10.823055441286561\n",
      "10.813446581541303\n",
      "10.820048981570917\n"
     ]
    },
    {
     "name": "stderr",
     "output_type": "stream",
     "text": [
      "  6%|▋         | 65/1000 [00:51<11:57,  1.30it/s]"
     ]
    },
    {
     "name": "stdout",
     "output_type": "stream",
     "text": [
      "10.823190774363754\n",
      "10.816346111225307\n",
      "10.825603639160219\n",
      "10.819486715273655\n",
      "10.814886345600584\n",
      "10.814212645799413\n",
      "10.814814566804575\n",
      "10.817170224392349\n",
      "10.82354982612174\n",
      "10.8154311672868\n",
      "10.817680863744348\n",
      "10.820137480008306\n",
      "10.814954544996652\n",
      "10.820423140925918\n",
      "10.823137485355689\n",
      "10.819045551366086\n",
      "10.820861984884797\n",
      "10.817678305812475\n",
      "10.815516023394485\n",
      "10.818513573440041\n"
     ]
    },
    {
     "name": "stderr",
     "output_type": "stream",
     "text": [
      "  7%|▋         | 66/1000 [00:52<12:41,  1.23it/s]"
     ]
    },
    {
     "name": "stdout",
     "output_type": "stream",
     "text": [
      "10.819079918427148\n",
      "10.817076197235268\n",
      "10.814273638446036\n",
      "10.824483529755678\n",
      "10.81552624310854\n",
      "10.818296152572248\n",
      "10.820707930818706\n",
      "10.81876261797018\n",
      "10.817556646047244\n",
      "10.819580935088613\n",
      "10.814947864059377\n",
      "10.820829961399236\n",
      "10.817721797318502\n",
      "10.821217737595724\n",
      "10.81677916591507\n",
      "10.816994313544566\n"
     ]
    },
    {
     "name": "stderr",
     "output_type": "stream",
     "text": [
      "  7%|▋         | 67/1000 [00:52<12:55,  1.20it/s]"
     ]
    },
    {
     "name": "stdout",
     "output_type": "stream",
     "text": [
      "10.816051229510572\n",
      "10.815220011369297\n",
      "10.819079898314891\n",
      "10.815538942997168\n",
      "10.820657826603858\n",
      "10.81685180366126\n",
      "10.82022975773607\n",
      "10.816966871595111\n",
      "10.817690536779038\n",
      "10.814790633437909\n",
      "10.815171783614987\n",
      "10.81783614787718\n"
     ]
    },
    {
     "name": "stderr",
     "output_type": "stream",
     "text": [
      "  7%|▋         | 68/1000 [00:53<12:28,  1.24it/s]"
     ]
    },
    {
     "name": "stdout",
     "output_type": "stream",
     "text": [
      "10.819727556331989\n",
      "10.815602456242603\n",
      "10.82189018687844\n",
      "10.81740896414481\n",
      "10.821997195183462\n",
      "10.817039512884213\n",
      "10.817884387349373\n",
      "10.818363518069958\n",
      "10.81742610406979\n",
      "10.815196718065375\n",
      "10.816148863574211\n",
      "10.819408182128429\n",
      "10.819693693734278\n",
      "10.817163051593889\n",
      "10.81451466712865\n"
     ]
    },
    {
     "name": "stderr",
     "output_type": "stream",
     "text": [
      "  7%|▋         | 69/1000 [00:54<12:53,  1.20it/s]"
     ]
    },
    {
     "name": "stdout",
     "output_type": "stream",
     "text": [
      "10.814740592588585\n",
      "10.821257564372006\n",
      "10.818499163947836\n",
      "10.81866818680464\n",
      "10.823799140233799\n",
      "10.818012909075678\n",
      "10.814649183548548\n",
      "10.82206651417985\n",
      "10.813573429813978\n",
      "10.817266413248925\n",
      "10.814319639701337\n",
      "10.821272837090172\n",
      "10.817056163367683\n",
      "10.81652107061749\n",
      "10.816312776274865\n",
      "10.819791215333918\n",
      "10.819335716202685\n",
      "10.818966510069858\n",
      "10.82053359462547\n",
      "10.821109797304258\n"
     ]
    },
    {
     "name": "stderr",
     "output_type": "stream",
     "text": [
      "  7%|▋         | 70/1000 [00:55<13:26,  1.15it/s]"
     ]
    },
    {
     "name": "stdout",
     "output_type": "stream",
     "text": [
      "10.816649996200928\n",
      "10.816723370710928\n",
      "10.817701716998124\n",
      "10.815873996211911\n",
      "10.81911905929357\n",
      "10.821235418020539\n",
      "10.818228785122901\n",
      "10.817616090927821\n",
      "10.821536977637006\n",
      "10.814845723877214\n",
      "10.818319639050292\n",
      "10.82016382590656\n"
     ]
    },
    {
     "name": "stderr",
     "output_type": "stream",
     "text": [
      "  7%|▋         | 71/1000 [00:56<12:55,  1.20it/s]"
     ]
    },
    {
     "name": "stdout",
     "output_type": "stream",
     "text": [
      "10.817057478085262\n",
      "10.819978614097385\n",
      "10.819622124719594\n",
      "10.815650253623028\n",
      "10.816681637032397\n",
      "10.81736821308385\n",
      "10.817533928978241\n",
      "10.814551410969244\n",
      "10.815434984244702\n",
      "10.818914709641833\n",
      "10.825735514245567\n",
      "10.818901314219953\n",
      "10.815838069703288\n",
      "10.822568735053778\n",
      "10.815308349400336\n",
      "10.817299888579036\n",
      "10.816272748542275\n",
      "10.820942439853216\n",
      "10.819239166931505\n",
      "10.815427093232566\n"
     ]
    },
    {
     "name": "stderr",
     "output_type": "stream",
     "text": [
      "  7%|▋         | 72/1000 [00:57<13:13,  1.17it/s]"
     ]
    },
    {
     "name": "stdout",
     "output_type": "stream",
     "text": [
      "10.81553274460551\n",
      "10.822187849907603\n",
      "10.815295719654161\n",
      "10.820117607874927\n",
      "10.817202469180115\n",
      "10.817538575147518\n",
      "10.821917368379586\n",
      "10.820467876174188\n",
      "10.816030265047972\n",
      "10.819748402989237\n",
      "10.81687956184656\n",
      "10.817102320770845\n",
      "10.817437364455419\n",
      "10.821799941135946\n",
      "10.823150156586426\n",
      "10.815275172763583\n"
     ]
    },
    {
     "name": "stderr",
     "output_type": "stream",
     "text": [
      "  7%|▋         | 73/1000 [00:58<13:29,  1.15it/s]"
     ]
    },
    {
     "name": "stdout",
     "output_type": "stream",
     "text": [
      "10.817942126345296\n",
      "10.818928012575688\n",
      "10.823892783153212\n",
      "10.820961862407602\n",
      "10.817244345440175\n",
      "10.821030274692628\n",
      "10.824637815611313\n",
      "10.815282782292432\n",
      "10.818137707560156\n",
      "10.819391459082839\n",
      "10.817220690987249\n",
      "10.81736677104716\n"
     ]
    },
    {
     "name": "stderr",
     "output_type": "stream",
     "text": [
      "  7%|▋         | 74/1000 [00:58<13:02,  1.18it/s]"
     ]
    },
    {
     "name": "stdout",
     "output_type": "stream",
     "text": [
      "10.81727400021891\n",
      "10.82191566732819\n",
      "10.819502899947205\n",
      "10.819509690084413\n",
      "10.821729939845156\n",
      "10.814534148158652\n",
      "10.818994090408715\n",
      "10.818335505792321\n",
      "10.818074817050428\n",
      "10.818593263561027\n",
      "10.820629299756167\n",
      "10.81953117322981\n",
      "10.814579974588906\n",
      "10.81976161931885\n",
      "10.817372175530783\n",
      "10.821457835819668\n"
     ]
    },
    {
     "name": "stderr",
     "output_type": "stream",
     "text": [
      "  8%|▊         | 75/1000 [00:59<13:28,  1.14it/s]"
     ]
    },
    {
     "name": "stdout",
     "output_type": "stream",
     "text": [
      "10.820906866584926\n",
      "10.81421249709527\n",
      "10.818723984078524\n",
      "10.81984880235721\n",
      "10.815002431515234\n",
      "10.81796074901454\n",
      "10.818005089494536\n",
      "10.817272209949031\n",
      "10.817938148858936\n",
      "10.820518246207943\n",
      "10.819035519666416\n",
      "10.818077940257973\n",
      "10.820381500402737\n",
      "10.823479116522453\n",
      "10.818200138287459\n",
      "10.81974518929314\n",
      "10.825629595486491\n",
      "10.82247049982463\n",
      "10.814031794280348\n",
      "10.818785852471628\n"
     ]
    },
    {
     "name": "stderr",
     "output_type": "stream",
     "text": [
      "  8%|▊         | 76/1000 [01:00<13:32,  1.14it/s]"
     ]
    },
    {
     "name": "stdout",
     "output_type": "stream",
     "text": [
      "10.815165823725536\n",
      "10.818629508002633\n",
      "10.819944337028607\n",
      "10.819331332046778\n",
      "10.817823468113009\n",
      "10.825714132502066\n",
      "10.816335319128054\n",
      "10.824372292851992\n",
      "10.817443352626588\n",
      "10.818851168592294\n",
      "10.82452820178992\n",
      "10.823696349276487\n"
     ]
    },
    {
     "name": "stderr",
     "output_type": "stream",
     "text": [
      "  8%|▊         | 77/1000 [01:01<12:35,  1.22it/s]"
     ]
    },
    {
     "name": "stdout",
     "output_type": "stream",
     "text": [
      "10.823369711922048\n",
      "10.817380942216456\n",
      "10.824159025596948\n",
      "10.814423885024116\n",
      "10.817600147876453\n",
      "10.819047115409393\n",
      "10.817789941408195\n",
      "10.822661650591407\n",
      "10.818399645006718\n",
      "10.822304171353293\n",
      "10.81843110315893\n",
      "10.82285764744329\n",
      "10.814044603977344\n",
      "10.818828271081738\n",
      "10.816070786223257\n",
      "10.825502056113514\n"
     ]
    },
    {
     "name": "stderr",
     "output_type": "stream",
     "text": [
      "  8%|▊         | 78/1000 [01:02<12:53,  1.19it/s]"
     ]
    },
    {
     "name": "stdout",
     "output_type": "stream",
     "text": [
      "10.814296100743297\n",
      "10.822798178355754\n",
      "10.81844414239622\n",
      "10.818137688558501\n",
      "10.81940942280854\n",
      "10.822599860752046\n",
      "10.82359354337894\n",
      "10.815641438852516\n",
      "10.822800467468568\n",
      "10.818711823753372\n",
      "10.818803567225293\n",
      "10.8185057840924\n"
     ]
    },
    {
     "name": "stderr",
     "output_type": "stream",
     "text": [
      "  8%|▊         | 79/1000 [01:02<12:18,  1.25it/s]"
     ]
    },
    {
     "name": "stdout",
     "output_type": "stream",
     "text": [
      "10.819837603454367\n",
      "10.816695791475778\n",
      "10.82039268533311\n",
      "10.822928136394937\n",
      "10.813314956868554\n",
      "10.818700502920487\n",
      "10.820026060175413\n",
      "10.81820619134305\n",
      "10.822255394872942\n",
      "10.814194347084019\n",
      "10.81583553555101\n",
      "10.822083819599198\n",
      "10.81485374149804\n",
      "10.818568100247225\n",
      "10.823216865138532\n",
      "10.815746906830494\n",
      "10.818217190364317\n",
      "10.820261484026584\n",
      "10.823733151554174\n"
     ]
    },
    {
     "name": "stderr",
     "output_type": "stream",
     "text": [
      "  8%|▊         | 80/1000 [01:03<13:04,  1.17it/s]"
     ]
    },
    {
     "name": "stdout",
     "output_type": "stream",
     "text": [
      "10.823684143533319\n",
      "10.817805167206744\n",
      "10.817498473145104\n",
      "10.818203167223936\n",
      "10.81915357871673\n",
      "10.8222656116683\n",
      "10.822868875061127\n",
      "10.817118539959294\n",
      "10.816451344474268\n",
      "10.824939486408296\n",
      "10.817972929844165\n",
      "10.823187575145683\n",
      "10.81975946447608\n",
      "10.817041596506158\n",
      "10.825649040589411\n",
      "10.822698661210158\n"
     ]
    },
    {
     "name": "stderr",
     "output_type": "stream",
     "text": [
      "  8%|▊         | 81/1000 [01:04<12:47,  1.20it/s]"
     ]
    },
    {
     "name": "stdout",
     "output_type": "stream",
     "text": [
      "10.814177253796618\n",
      "10.824670924779063\n",
      "10.81358592583679\n",
      "10.81592677361446\n",
      "10.819866247581336\n",
      "10.821257063172128\n",
      "10.82536370272397\n",
      "10.81676929182027\n",
      "10.81662393103938\n",
      "10.822042054118615\n",
      "10.8187252621521\n",
      "10.817141492185462\n"
     ]
    },
    {
     "name": "stderr",
     "output_type": "stream",
     "text": [
      "  8%|▊         | 82/1000 [01:05<12:34,  1.22it/s]"
     ]
    },
    {
     "name": "stdout",
     "output_type": "stream",
     "text": [
      "10.817790017422837\n",
      "10.814400697858225\n",
      "10.822894703790658\n",
      "10.819280922977482\n",
      "10.824467525703524\n",
      "10.82138477363113\n",
      "10.819412691741396\n",
      "10.821419631631011\n",
      "10.82140277358055\n",
      "10.817636971607978\n",
      "10.81607432796815\n",
      "10.81767481473319\n"
     ]
    },
    {
     "name": "stderr",
     "output_type": "stream",
     "text": [
      "  8%|▊         | 83/1000 [01:06<11:13,  1.36it/s]"
     ]
    },
    {
     "name": "stdout",
     "output_type": "stream",
     "text": [
      "10.82500895432684\n",
      "10.817123946819864\n",
      "10.815828474117275\n",
      "10.818405415724857\n",
      "10.821100506789524\n",
      "10.818360384060735\n",
      "10.817612117555123\n",
      "10.818241241031208\n",
      "10.820023038327047\n",
      "10.823703261080512\n",
      "10.819080673597156\n",
      "10.825431889173787\n"
     ]
    },
    {
     "name": "stderr",
     "output_type": "stream",
     "text": [
      "  8%|▊         | 84/1000 [01:06<10:49,  1.41it/s]"
     ]
    },
    {
     "name": "stdout",
     "output_type": "stream",
     "text": [
      "10.814805901772125\n",
      "10.824901935748722\n",
      "10.81354579074601\n",
      "10.815862931081723\n",
      "10.819286361886284\n",
      "10.822594251023022\n",
      "10.82363173082155\n",
      "10.815792539659299\n",
      "10.817821124289852\n",
      "10.819620714489874\n",
      "10.821032645711366\n",
      "10.819908630813757\n",
      "10.823145512952877\n",
      "10.816363991336276\n",
      "10.818782421712422\n",
      "10.821468014065504\n"
     ]
    },
    {
     "name": "stderr",
     "output_type": "stream",
     "text": [
      "  8%|▊         | 85/1000 [01:07<11:25,  1.34it/s]"
     ]
    },
    {
     "name": "stdout",
     "output_type": "stream",
     "text": [
      "10.818055712655191\n",
      "10.81444248646369\n",
      "10.8196757541889\n",
      "10.815540440298937\n",
      "10.82507196199249\n",
      "10.814872381103074\n",
      "10.822284887940787\n",
      "10.814994769422585\n",
      "10.819081412149977\n",
      "10.825347354702533\n",
      "10.81753494061216\n",
      "10.818500609299631\n",
      "10.819587247665826\n",
      "10.82316234029297\n",
      "10.819059376483478\n",
      "10.818055536675386\n"
     ]
    },
    {
     "name": "stderr",
     "output_type": "stream",
     "text": [
      "  9%|▊         | 86/1000 [01:08<11:36,  1.31it/s]"
     ]
    },
    {
     "name": "stdout",
     "output_type": "stream",
     "text": [
      "10.814137970941164\n",
      "10.819093371139278\n",
      "10.82551716107436\n",
      "10.818754131058862\n",
      "10.819312906731284\n",
      "10.822436251827696\n",
      "10.823501232743117\n",
      "10.817947244271618\n",
      "10.8137875835732\n",
      "10.81811572293861\n",
      "10.819950562069543\n",
      "10.825452112045127\n",
      "10.816284837759751\n",
      "10.819115224740232\n",
      "10.81941887398687\n",
      "10.81845499092646\n"
     ]
    },
    {
     "name": "stderr",
     "output_type": "stream",
     "text": [
      "  9%|▊         | 87/1000 [01:09<11:58,  1.27it/s]"
     ]
    },
    {
     "name": "stdout",
     "output_type": "stream",
     "text": [
      "10.823648693527108\n",
      "10.818265190201068\n",
      "10.821842398961959\n",
      "10.81793654362788\n",
      "10.82215026901768\n",
      "10.819336038236381\n",
      "10.816928110387643\n"
     ]
    },
    {
     "name": "stderr",
     "output_type": "stream",
     "text": [
      "  9%|▉         | 88/1000 [01:09<10:58,  1.39it/s]"
     ]
    },
    {
     "name": "stdout",
     "output_type": "stream",
     "text": [
      "10.817726816272497\n",
      "10.818704504790183\n",
      "10.822552173099172\n",
      "10.819534967648886\n",
      "10.81867467021905\n",
      "10.82278561194589\n",
      "10.81470418986253\n",
      "10.820073179555413\n",
      "10.815504638911296\n",
      "10.821837127654584\n",
      "10.819646978994005\n",
      "10.819534196958903\n",
      "10.814215234770518\n",
      "10.820948371316888\n",
      "10.819614782789836\n",
      "10.822324124542973\n"
     ]
    },
    {
     "name": "stderr",
     "output_type": "stream",
     "text": [
      "  9%|▉         | 89/1000 [01:10<10:55,  1.39it/s]"
     ]
    },
    {
     "name": "stdout",
     "output_type": "stream",
     "text": [
      "10.814884087825012\n",
      "10.818779679282413\n",
      "10.819007127859514\n",
      "10.82296956017987\n",
      "10.81792018341463\n",
      "10.825661440690066\n",
      "10.81708143399148\n",
      "10.81989766273204\n",
      "10.823624550960217\n",
      "10.820257345602105\n",
      "10.815683414319217\n",
      "10.819530706163304\n",
      "10.81386304463389\n",
      "10.819106699889817\n",
      "10.821573013265033\n",
      "10.818774910975511\n"
     ]
    },
    {
     "name": "stderr",
     "output_type": "stream",
     "text": [
      "  9%|▉         | 90/1000 [01:11<11:51,  1.28it/s]"
     ]
    },
    {
     "name": "stdout",
     "output_type": "stream",
     "text": [
      "10.823724455396473\n",
      "10.82118787037626\n",
      "10.81573986769615\n",
      "10.8227446580198\n",
      "10.819040091023755\n",
      "10.819268780163247\n",
      "10.818006610306002\n",
      "10.8200869915401\n",
      "10.817627976075519\n",
      "10.81854835969917\n",
      "10.814487657128169\n",
      "10.821159019690677\n"
     ]
    },
    {
     "name": "stderr",
     "output_type": "stream",
     "text": [
      "  9%|▉         | 91/1000 [01:12<11:40,  1.30it/s]"
     ]
    },
    {
     "name": "stdout",
     "output_type": "stream",
     "text": [
      "10.819571718508811\n",
      "10.815011843584104\n",
      "10.8225225378548\n",
      "10.823376529894478\n",
      "10.814522060141494\n",
      "10.821504588735502\n",
      "10.82108714084831\n",
      "10.823910225589426\n",
      "10.819421868337379\n",
      "10.815870794254367\n",
      "10.8175770168951\n",
      "10.821143593403386\n",
      "10.81932631278221\n",
      "10.823518135977364\n",
      "10.817742424872586\n",
      "10.819222466178209\n",
      "10.817218861327392\n",
      "10.822123937122074\n",
      "10.821817367648396\n",
      "10.817884011042539\n"
     ]
    },
    {
     "name": "stderr",
     "output_type": "stream",
     "text": [
      "  9%|▉         | 92/1000 [01:13<12:19,  1.23it/s]"
     ]
    },
    {
     "name": "stdout",
     "output_type": "stream",
     "text": [
      "10.820794598450966\n",
      "10.822890760248605\n",
      "10.818148669173771\n",
      "10.815391190309931\n",
      "10.820359040174212\n",
      "10.816744816746402\n",
      "10.821928087637211\n",
      "10.816272795027952\n",
      "10.818593520225175\n",
      "10.82143073666404\n",
      "10.819638915743534\n",
      "10.81862248977266\n"
     ]
    },
    {
     "name": "stderr",
     "output_type": "stream",
     "text": [
      "  9%|▉         | 93/1000 [01:13<12:06,  1.25it/s]"
     ]
    },
    {
     "name": "stdout",
     "output_type": "stream",
     "text": [
      "10.819197775896358\n",
      "10.817802022062374\n",
      "10.820031612055557\n",
      "10.82485468501006\n",
      "10.824939493431042\n",
      "10.819275833209582\n",
      "10.82039078448012\n",
      "10.820161487173715\n",
      "10.81946527706406\n",
      "10.82339899187758\n",
      "10.819603492249412\n",
      "10.821713803864814\n",
      "10.818288935004166\n",
      "10.825595601964167\n",
      "10.81651147864404\n",
      "10.822648371054699\n",
      "10.819717295051293\n",
      "10.816268266152507\n",
      "10.818352975029988\n",
      "10.821218961113813\n"
     ]
    },
    {
     "name": "stderr",
     "output_type": "stream",
     "text": [
      "  9%|▉         | 94/1000 [01:14<12:48,  1.18it/s]"
     ]
    },
    {
     "name": "stdout",
     "output_type": "stream",
     "text": [
      "10.823262924243984\n",
      "10.819226184547153\n",
      "10.819445512237223\n",
      "10.822751180352723\n",
      "10.819949073163807\n",
      "10.815181051511384\n",
      "10.819199045604815\n",
      "10.821846335384029\n",
      "10.821618981126347\n",
      "10.820912988802688\n",
      "10.824821014090547\n",
      "10.818811847731263\n",
      "10.813421451404144\n",
      "10.820310476727954\n",
      "10.822384116084711\n"
     ]
    },
    {
     "name": "stderr",
     "output_type": "stream",
     "text": [
      " 10%|▉         | 95/1000 [01:15<13:15,  1.14it/s]"
     ]
    },
    {
     "name": "stdout",
     "output_type": "stream",
     "text": [
      "10.822936578739071\n",
      "10.819810338230642\n",
      "10.818982632068513\n",
      "10.823134646525576\n",
      "10.81808043129411\n",
      "10.822615922681113\n",
      "10.825616834826718\n",
      "10.814761307360849\n",
      "10.819294780383022\n",
      "10.816424374736314\n",
      "10.822254468291279\n",
      "10.820868562815374\n",
      "10.8192920551725\n",
      "10.819465906023465\n",
      "10.820740509417192\n",
      "10.823952370703033\n"
     ]
    },
    {
     "name": "stderr",
     "output_type": "stream",
     "text": [
      " 10%|▉         | 96/1000 [01:16<13:04,  1.15it/s]"
     ]
    },
    {
     "name": "stdout",
     "output_type": "stream",
     "text": [
      "10.819110759501482\n",
      "10.818981443261688\n",
      "10.820340907151312\n",
      "10.816569412036213\n",
      "10.820941587568104\n",
      "10.816283209634458\n",
      "10.821659596564402\n",
      "10.822189190890368\n",
      "10.816178860352945\n",
      "10.82178039940871\n",
      "10.823386688769757\n",
      "10.81644490897775\n"
     ]
    },
    {
     "name": "stderr",
     "output_type": "stream",
     "text": [
      " 10%|▉         | 97/1000 [01:17<12:20,  1.22it/s]"
     ]
    },
    {
     "name": "stdout",
     "output_type": "stream",
     "text": [
      "10.81977668483789\n",
      "10.820233327283859\n",
      "10.819597583477293\n",
      "10.819686327277891\n",
      "10.822836007741829\n",
      "10.819955944552056\n",
      "10.819401449868373\n",
      "10.81933868899279\n",
      "10.816248762393133\n",
      "10.820477304145017\n",
      "10.819354037562093\n",
      "10.815126720362576\n",
      "10.817704287397847\n",
      "10.816767292878763\n",
      "10.823643854395984\n",
      "10.819927461503505\n"
     ]
    },
    {
     "name": "stderr",
     "output_type": "stream",
     "text": [
      " 10%|▉         | 98/1000 [01:18<12:12,  1.23it/s]"
     ]
    },
    {
     "name": "stdout",
     "output_type": "stream",
     "text": [
      "10.818262397306974\n",
      "10.82184453628207\n",
      "10.822878610871529\n",
      "10.819436244587163\n",
      "10.822244107839728\n",
      "10.818234170219954\n",
      "10.822167020796215\n",
      "10.816717345690867\n",
      "10.814841193613928\n",
      "10.819624494053297\n",
      "10.821146256425024\n",
      "10.8231431559712\n",
      "10.817635468062242\n",
      "10.817948656994442\n",
      "10.819402043544883\n",
      "10.820049649581463\n",
      "10.824316253133205\n",
      "10.818697131611708\n",
      "10.818683826964326\n",
      "10.817951915713248\n"
     ]
    },
    {
     "name": "stderr",
     "output_type": "stream",
     "text": [
      " 10%|▉         | 99/1000 [01:18<12:48,  1.17it/s]"
     ]
    },
    {
     "name": "stdout",
     "output_type": "stream",
     "text": [
      "10.818142720282044\n",
      "10.817900715120786\n",
      "10.819930421614284\n",
      "10.817172158062702\n",
      "10.820941999593376\n",
      "10.821012471466931\n",
      "10.817708508183081\n",
      "10.817948666987318\n",
      "10.818568202592301\n",
      "10.825186206308313\n",
      "10.819194846573357\n",
      "10.822285651996054\n"
     ]
    },
    {
     "name": "stderr",
     "output_type": "stream",
     "text": [
      " 10%|█         | 100/1000 [01:19<12:03,  1.24it/s]"
     ]
    },
    {
     "name": "stdout",
     "output_type": "stream",
     "text": [
      "10.816955416295537\n",
      "10.817061790789609\n",
      "10.820944675509143\n",
      "10.823489321786424\n",
      "10.818935156444283\n",
      "10.820036559436165\n",
      "10.819289238184115\n",
      "10.817898495711937\n",
      "10.821695960072864\n",
      "10.82313016992129\n",
      "10.817874480895235\n",
      "10.821132548093562\n",
      "10.817961017148287\n",
      "10.824382356516734\n",
      "10.817120133250494\n",
      "10.822755776948464\n"
     ]
    },
    {
     "name": "stderr",
     "output_type": "stream",
     "text": [
      " 10%|█         | 101/1000 [01:20<12:19,  1.22it/s]"
     ]
    },
    {
     "name": "stdout",
     "output_type": "stream",
     "text": [
      "10.817956887738488\n",
      "10.817882953704558\n",
      "10.820970597118274\n",
      "10.825329556614902\n",
      "10.818163082065155\n",
      "10.821933655956244\n",
      "10.81778682891017\n",
      "10.819119296455469\n",
      "10.82117815493998\n",
      "10.817915529774504\n",
      "10.820911150644488\n",
      "10.817863576115004\n",
      "10.819039192677945\n",
      "10.825102837902882\n",
      "10.8198540899638\n",
      "10.817513798937794\n"
     ]
    },
    {
     "name": "stderr",
     "output_type": "stream",
     "text": [
      " 10%|█         | 102/1000 [01:21<12:38,  1.18it/s]"
     ]
    },
    {
     "name": "stdout",
     "output_type": "stream",
     "text": [
      "10.819146539482423\n",
      "10.815704089909833\n",
      "10.820930923602734\n",
      "10.822457709815492\n",
      "10.822466939691012\n",
      "10.824831033288506\n",
      "10.817740867579495\n",
      "10.821523282470222\n",
      "10.817735147727177\n",
      "10.817354412432483\n",
      "10.816712099301167\n",
      "10.815708411760376\n",
      "10.818779358103107\n",
      "10.818338216836032\n",
      "10.818985781666335\n"
     ]
    },
    {
     "name": "stderr",
     "output_type": "stream",
     "text": [
      " 10%|█         | 103/1000 [01:22<12:35,  1.19it/s]"
     ]
    },
    {
     "name": "stdout",
     "output_type": "stream",
     "text": [
      "10.819684587374867\n",
      "10.818233065130897\n",
      "10.81524728212239\n",
      "10.825037423101536\n",
      "10.819723576833436\n",
      "10.824359224248509\n",
      "10.819131890430434\n",
      "10.819957094686425\n",
      "10.821107507904273\n",
      "10.817530190394839\n",
      "10.824625938900102\n",
      "10.819161076294767\n"
     ]
    },
    {
     "name": "stderr",
     "output_type": "stream",
     "text": [
      " 10%|█         | 104/1000 [01:22<11:54,  1.25it/s]"
     ]
    },
    {
     "name": "stdout",
     "output_type": "stream",
     "text": [
      "10.817642298756425\n",
      "10.817667504468\n",
      "10.817237830159081\n",
      "10.819420765448651\n",
      "10.820543250707638\n",
      "10.816924629848058\n",
      "10.82222196652658\n",
      "10.817639629485575\n",
      "10.817456061035806\n",
      "10.820853563714305\n",
      "10.816230978734218\n",
      "10.815168724170231\n",
      "10.823653503123571\n",
      "10.814867740557387\n",
      "10.816157770093959\n",
      "10.819606500031751\n"
     ]
    },
    {
     "name": "stderr",
     "output_type": "stream",
     "text": [
      " 10%|█         | 105/1000 [01:23<12:12,  1.22it/s]"
     ]
    },
    {
     "name": "stdout",
     "output_type": "stream",
     "text": [
      "10.824051063650117\n",
      "10.8213012023844\n",
      "10.818323386619443\n",
      "10.825554584802157\n",
      "10.820281572267458\n",
      "10.817002933961692\n",
      "10.822921998765478\n",
      "10.822424929106939\n",
      "10.817172055498338\n",
      "10.818954206067835\n",
      "10.821225266134721\n",
      "10.819491043407105\n",
      "10.817896990857003\n",
      "10.816029184376433\n",
      "10.818719241758778\n",
      "10.817656223762874\n",
      "10.822241288060749\n",
      "10.82037501059573\n",
      "10.816341395001306\n",
      "10.818872682612504\n"
     ]
    },
    {
     "name": "stderr",
     "output_type": "stream",
     "text": [
      " 11%|█         | 106/1000 [01:24<13:02,  1.14it/s]"
     ]
    },
    {
     "name": "stdout",
     "output_type": "stream",
     "text": [
      "10.818557308390918\n",
      "10.816193605749964\n",
      "10.813861135823506\n",
      "10.82092955517896\n",
      "10.817175532290445\n",
      "10.822191632860402\n",
      "10.817548354440293\n",
      "10.814967248106292\n",
      "10.820757113775326\n",
      "10.8169793750609\n",
      "10.819942144898201\n",
      "10.817869181575066\n",
      "10.822912550344787\n",
      "10.82566345544233\n",
      "10.818239323126539\n",
      "10.82048705248769\n"
     ]
    },
    {
     "name": "stderr",
     "output_type": "stream",
     "text": [
      " 11%|█         | 107/1000 [01:25<12:53,  1.15it/s]"
     ]
    },
    {
     "name": "stdout",
     "output_type": "stream",
     "text": [
      "10.81801497254971\n",
      "10.817788647271348\n",
      "10.814587365676825\n",
      "10.820801415421334\n",
      "10.8221636765553\n",
      "10.813424824304734\n",
      "10.815256335913372\n",
      "10.821708442302704\n",
      "10.820141664038706\n",
      "10.817337334872196\n",
      "10.817465955013034\n",
      "10.823291890081398\n",
      "10.821835878866125\n",
      "10.819058811333784\n",
      "10.818596406516066\n",
      "10.81962020938174\n"
     ]
    },
    {
     "name": "stderr",
     "output_type": "stream",
     "text": [
      " 11%|█         | 108/1000 [01:26<12:46,  1.16it/s]"
     ]
    },
    {
     "name": "stdout",
     "output_type": "stream",
     "text": [
      "10.819034673833576\n",
      "10.817904138768585\n",
      "10.815112581427378\n",
      "10.817653189134273\n",
      "10.820916176725975\n",
      "10.821438497652954\n",
      "10.819543255644975\n",
      "10.816171810270573\n",
      "10.818671818853526\n",
      "10.818715952436623\n",
      "10.820415370453512\n",
      "10.823672169629308\n"
     ]
    },
    {
     "name": "stderr",
     "output_type": "stream",
     "text": [
      " 11%|█         | 109/1000 [01:27<12:04,  1.23it/s]"
     ]
    },
    {
     "name": "stdout",
     "output_type": "stream",
     "text": [
      "10.820906144000592\n",
      "10.818466539596578\n",
      "10.820342246155043\n",
      "10.819150144933927\n",
      "10.819582519453816\n",
      "10.81960035500536\n",
      "10.820891877464907\n",
      "10.815350767820672\n",
      "10.815647424913099\n",
      "10.820566870602017\n",
      "10.81929442331246\n",
      "10.818285416256494\n",
      "10.817848041784696\n",
      "10.822438737075611\n",
      "10.821011148900345\n",
      "10.819511408375279\n",
      "10.817542868198412\n",
      "10.81838902449782\n",
      "10.818908749309834\n",
      "10.816276491313353\n"
     ]
    },
    {
     "name": "stderr",
     "output_type": "stream",
     "text": [
      " 11%|█         | 110/1000 [01:28<12:39,  1.17it/s]"
     ]
    },
    {
     "name": "stdout",
     "output_type": "stream",
     "text": [
      "10.822318143262484\n",
      "10.81500944299888\n",
      "10.817321062379257\n",
      "10.825045782623079\n",
      "10.820419243637813\n",
      "10.824000123107554\n",
      "10.822142311639809\n",
      "10.819976037551983\n",
      "10.817786499093975\n",
      "10.81835474882005\n",
      "10.819455417639636\n",
      "10.81971700457534\n",
      "10.819985893434463\n",
      "10.815197965214985\n",
      "10.818985657752085\n",
      "10.816513737176626\n"
     ]
    },
    {
     "name": "stderr",
     "output_type": "stream",
     "text": [
      " 11%|█         | 111/1000 [01:29<13:17,  1.11it/s]"
     ]
    },
    {
     "name": "stdout",
     "output_type": "stream",
     "text": [
      "10.81749454260992\n",
      "10.81960921159021\n",
      "10.816829607502623\n",
      "10.82152991187966\n",
      "10.816782684323474\n",
      "10.824966927096057\n",
      "10.82092450806379\n",
      "10.822504567078068\n",
      "10.81697338485885\n",
      "10.821038455488921\n",
      "10.81779521323836\n",
      "10.818543618625116\n",
      "10.823189621764847\n",
      "10.819160151492573\n",
      "10.819021305774838\n",
      "10.822245610981247\n"
     ]
    },
    {
     "name": "stderr",
     "output_type": "stream",
     "text": [
      " 11%|█         | 112/1000 [01:30<13:03,  1.13it/s]"
     ]
    },
    {
     "name": "stdout",
     "output_type": "stream",
     "text": [
      "10.815103248271571\n",
      "10.818340955911161\n",
      "10.816512899738322\n",
      "10.815487304183515\n",
      "10.818702738860823\n",
      "10.818440316553582\n",
      "10.817004522289343\n",
      "10.822243215193453\n",
      "10.823196915170502\n",
      "10.815246744771406\n",
      "10.818820157707632\n",
      "10.822908076757024\n",
      "10.821074117248967\n",
      "10.81974270487603\n",
      "10.814489541031193\n",
      "10.81695558870836\n"
     ]
    },
    {
     "name": "stderr",
     "output_type": "stream",
     "text": [
      " 11%|█▏        | 113/1000 [01:30<12:58,  1.14it/s]"
     ]
    },
    {
     "name": "stdout",
     "output_type": "stream",
     "text": [
      "10.820213764680965\n",
      "10.8174493400756\n",
      "10.815359166715442\n",
      "10.82161104595395\n",
      "10.821217985235476\n",
      "10.818183590826491\n",
      "10.817295681218445\n",
      "10.82180088799472\n",
      "10.817145553877896\n",
      "10.817794480482092\n",
      "10.823511301668226\n",
      "10.81973823184136\n",
      "10.822266467890254\n",
      "10.815799758008067\n",
      "10.818608555227096\n",
      "10.817289270485114\n"
     ]
    },
    {
     "name": "stderr",
     "output_type": "stream",
     "text": [
      " 11%|█▏        | 114/1000 [01:31<13:06,  1.13it/s]"
     ]
    },
    {
     "name": "stdout",
     "output_type": "stream",
     "text": [
      "10.820448633099653\n",
      "10.818864942328448\n",
      "10.822552001588909\n",
      "10.820925136724103\n",
      "10.81906978191584\n",
      "10.821513586776335\n",
      "10.818994101295798\n",
      "10.818688214610985\n",
      "10.819247881481505\n",
      "10.81805413857747\n",
      "10.822114309126617\n",
      "10.81770344265039\n",
      "10.82281264735152\n",
      "10.819556423638653\n",
      "10.818502168404105\n",
      "10.818975337486343\n"
     ]
    },
    {
     "name": "stderr",
     "output_type": "stream",
     "text": [
      " 12%|█▏        | 115/1000 [01:32<13:17,  1.11it/s]"
     ]
    },
    {
     "name": "stdout",
     "output_type": "stream",
     "text": [
      "10.818250875364493\n",
      "10.815628432231636\n",
      "10.817099446054108\n",
      "10.815604204517829\n",
      "10.82214912944088\n",
      "10.82411019894812\n",
      "10.82064492061773\n",
      "10.814087578774595\n",
      "10.820303962018993\n",
      "10.818161296389308\n",
      "10.818613357088484\n",
      "10.81674171510369\n",
      "10.823372516376233\n",
      "10.82431677821945\n",
      "10.818115591237577\n",
      "10.817476125593197\n",
      "10.819649097858823\n",
      "10.818623278253842\n",
      "10.817438839304371\n"
     ]
    },
    {
     "name": "stderr",
     "output_type": "stream",
     "text": [
      " 12%|█▏        | 116/1000 [01:33<13:47,  1.07it/s]"
     ]
    },
    {
     "name": "stdout",
     "output_type": "stream",
     "text": [
      "10.820848928076567\n",
      "10.816394115986254\n",
      "10.819307966126834\n",
      "10.82001725534758\n",
      "10.81993720866721\n",
      "10.814786136256457\n",
      "10.817599264660311\n",
      "10.818011832749242\n",
      "10.81858701396555\n",
      "10.817006064717647\n",
      "10.822114930134175\n",
      "10.824205016704399\n",
      "10.821094764418424\n",
      "10.81914732790408\n",
      "10.819099592849811\n",
      "10.817342209952185\n"
     ]
    },
    {
     "name": "stderr",
     "output_type": "stream",
     "text": [
      " 12%|█▏        | 117/1000 [01:34<13:08,  1.12it/s]"
     ]
    },
    {
     "name": "stdout",
     "output_type": "stream",
     "text": [
      "10.814699767572822\n",
      "10.818325064556875\n",
      "10.824624184988554\n",
      "10.819648776413976\n",
      "10.816158741748366\n",
      "10.816296723107602\n",
      "10.820565342420599\n",
      "10.8175289260437\n",
      "10.819071674809786\n",
      "10.819712707772798\n",
      "10.82281638598302\n",
      "10.816008866883761\n",
      "10.817794520266014\n",
      "10.817479145712275\n",
      "10.824025834764548\n",
      "10.81922617204856\n"
     ]
    },
    {
     "name": "stderr",
     "output_type": "stream",
     "text": [
      " 12%|█▏        | 118/1000 [01:35<13:07,  1.12it/s]"
     ]
    },
    {
     "name": "stdout",
     "output_type": "stream",
     "text": [
      "10.818862808724266\n",
      "10.819445500302486\n",
      "10.820818148996183\n",
      "10.816629400541744\n",
      "10.818893764383013\n",
      "10.818731866872614\n",
      "10.82300234762471\n",
      "10.81954608372472\n",
      "10.82029932138105\n",
      "10.819349260193594\n",
      "10.819691978865839\n",
      "10.816756171615022\n",
      "10.818595479337278\n",
      "10.822710468260697\n",
      "10.819633124351322\n",
      "10.814709009874749\n"
     ]
    },
    {
     "name": "stderr",
     "output_type": "stream",
     "text": [
      " 12%|█▏        | 119/1000 [01:36<13:03,  1.12it/s]"
     ]
    },
    {
     "name": "stdout",
     "output_type": "stream",
     "text": [
      "10.820221368669083\n",
      "10.820177500051521\n",
      "10.816632485162705\n",
      "10.816720449402865\n",
      "10.818749536897155\n",
      "10.823958879804994\n",
      "10.814705237464539\n",
      "10.819307349124715\n",
      "10.820312025567137\n",
      "10.818652013127968\n",
      "10.819085576463578\n",
      "10.818052327335847\n",
      "10.82380499532263\n",
      "10.816547384935522\n",
      "10.820185512350669\n",
      "10.818229891182689\n"
     ]
    },
    {
     "name": "stderr",
     "output_type": "stream",
     "text": [
      " 12%|█▏        | 120/1000 [01:37<12:46,  1.15it/s]"
     ]
    },
    {
     "name": "stdout",
     "output_type": "stream",
     "text": [
      "10.822989489895438\n",
      "10.82203326892295\n",
      "10.821654767317789\n",
      "10.820597592908204\n",
      "10.81963591577621\n",
      "10.822547452820274\n",
      "10.818530745779682\n",
      "10.818546830619956\n",
      "10.820560909151222\n",
      "10.819943205855946\n",
      "10.81561540980622\n",
      "10.815356829968898\n",
      "10.819711017678527\n",
      "10.82292209892261\n",
      "10.814706136852108\n",
      "10.81949130132478\n"
     ]
    },
    {
     "name": "stderr",
     "output_type": "stream",
     "text": [
      " 12%|█▏        | 121/1000 [01:37<12:34,  1.17it/s]"
     ]
    },
    {
     "name": "stdout",
     "output_type": "stream",
     "text": [
      "10.819290428082924\n",
      "10.818184181356708\n",
      "10.817236572728213\n",
      "10.823540431746638\n",
      "10.815613197388183\n",
      "10.822804541061988\n",
      "10.818223733419867\n",
      "10.817748567740965\n",
      "10.824180898253024\n",
      "10.819147733177932\n",
      "10.820914981169182\n",
      "10.81431933199422\n",
      "10.824393015157147\n",
      "10.821819786191119\n",
      "10.814984091709388\n",
      "10.816941027619869\n"
     ]
    },
    {
     "name": "stderr",
     "output_type": "stream",
     "text": [
      " 12%|█▏        | 122/1000 [01:38<12:26,  1.18it/s]"
     ]
    },
    {
     "name": "stdout",
     "output_type": "stream",
     "text": [
      "10.820397921417417\n",
      "10.813989230497347\n",
      "10.81946702834144\n",
      "10.822982940795708\n",
      "10.818694729445511\n",
      "10.825094069099146\n",
      "10.818451470103811\n",
      "10.819488929968047\n",
      "10.820180071337289\n",
      "10.817823534266823\n",
      "10.816562456048244\n",
      "10.82390467774687\n",
      "10.818634456195557\n",
      "10.819611374874212\n",
      "10.820331265839009\n",
      "10.819075686925544\n"
     ]
    },
    {
     "name": "stderr",
     "output_type": "stream",
     "text": [
      " 12%|█▏        | 123/1000 [01:39<11:40,  1.25it/s]"
     ]
    },
    {
     "name": "stdout",
     "output_type": "stream",
     "text": [
      "10.824229064790842\n",
      "10.818699527488942\n",
      "10.816061659751803\n",
      "10.824149648195284\n",
      "10.81736061631062\n",
      "10.820386726864193\n",
      "10.815538165334731\n",
      "10.816642858491788\n",
      "10.820492315208108\n",
      "10.815075205265705\n",
      "10.820140002785676\n",
      "10.823728606909334\n",
      "10.82419008094581\n",
      "10.818407003013466\n",
      "10.820503618148145\n",
      "10.819028758882903\n"
     ]
    },
    {
     "name": "stderr",
     "output_type": "stream",
     "text": [
      " 12%|█▏        | 124/1000 [01:40<12:00,  1.22it/s]"
     ]
    },
    {
     "name": "stdout",
     "output_type": "stream",
     "text": [
      "10.817113810139325\n",
      "10.820619647181726\n",
      "10.817354203401711\n",
      "10.815797980796347\n",
      "10.821561794403333\n",
      "10.82423943256782\n",
      "10.817979242285137\n",
      "10.825106732894119\n",
      "10.820017154913861\n",
      "10.824230767165009\n",
      "10.82133113085449\n",
      "10.82034714266843\n"
     ]
    },
    {
     "name": "stderr",
     "output_type": "stream",
     "text": [
      " 12%|█▎        | 125/1000 [01:41<11:33,  1.26it/s]"
     ]
    },
    {
     "name": "stdout",
     "output_type": "stream",
     "text": [
      "10.818455148327304\n",
      "10.81832319405533\n",
      "10.816128662371025\n",
      "10.82275440899413\n",
      "10.815301795036405\n",
      "10.815647991245388\n",
      "10.824077898532307\n",
      "10.818850236838871\n",
      "10.82135715966122\n",
      "10.822732379012523\n",
      "10.819156869929133\n",
      "10.818230814127565\n",
      "10.816698617114184\n",
      "10.816167258429418\n",
      "10.818056600381537\n",
      "10.817404385227045\n"
     ]
    },
    {
     "name": "stderr",
     "output_type": "stream",
     "text": [
      " 13%|█▎        | 126/1000 [01:41<11:15,  1.29it/s]"
     ]
    },
    {
     "name": "stdout",
     "output_type": "stream",
     "text": [
      "10.815437924418811\n",
      "10.81792012090466\n",
      "10.816334461328147\n",
      "10.822748195972764\n",
      "10.824574903166498\n",
      "10.818544572882896\n",
      "10.816921113354011\n",
      "10.815543314782916\n",
      "10.816305897533852\n",
      "10.820359952966896\n",
      "10.816810034725632\n",
      "10.821487758838487\n",
      "10.820446294336667\n",
      "10.820396125440155\n",
      "10.81432640265829\n",
      "10.815563439671811\n"
     ]
    },
    {
     "name": "stderr",
     "output_type": "stream",
     "text": [
      " 13%|█▎        | 127/1000 [01:42<11:15,  1.29it/s]"
     ]
    },
    {
     "name": "stdout",
     "output_type": "stream",
     "text": [
      "10.819471340171555\n",
      "10.816950502432134\n",
      "10.823010961181158\n",
      "10.821539935171838\n",
      "10.823361537022825\n",
      "10.816681659362231\n",
      "10.819107660878496\n",
      "10.823325815360704\n",
      "10.813541778166035\n",
      "10.818191542769908\n",
      "10.821078947123533\n",
      "10.815502864479846\n",
      "10.822986248085162\n",
      "10.815968484660763\n",
      "10.818519384647152\n",
      "10.817239446645504\n"
     ]
    },
    {
     "name": "stderr",
     "output_type": "stream",
     "text": [
      " 13%|█▎        | 128/1000 [01:43<11:56,  1.22it/s]"
     ]
    },
    {
     "name": "stdout",
     "output_type": "stream",
     "text": [
      "10.815726422317452\n",
      "10.814972748642704\n",
      "10.81666425245086\n",
      "10.821989914036234\n",
      "10.81920669571402\n",
      "10.820755474497469\n",
      "10.816191256279659\n",
      "10.822760198870991\n",
      "10.82299708335317\n",
      "10.819088148234382\n",
      "10.815792313617282\n",
      "10.820487634122696\n"
     ]
    },
    {
     "name": "stderr",
     "output_type": "stream",
     "text": [
      " 13%|█▎        | 129/1000 [01:44<11:20,  1.28it/s]"
     ]
    },
    {
     "name": "stdout",
     "output_type": "stream",
     "text": [
      "10.824102894269114\n",
      "10.817718806859032\n",
      "10.81794904049398\n",
      "10.81935643383981\n",
      "10.815777791545681\n",
      "10.8183158185497\n",
      "10.825714388913083\n",
      "10.817690968440129\n",
      "10.821307162860615\n",
      "10.82353486310119\n",
      "10.81880844912029\n",
      "10.818723803899193\n",
      "10.820607401812644\n",
      "10.814974774505549\n",
      "10.815757708356484\n",
      "10.816341828903074\n"
     ]
    },
    {
     "name": "stderr",
     "output_type": "stream",
     "text": [
      " 13%|█▎        | 130/1000 [01:45<11:20,  1.28it/s]"
     ]
    },
    {
     "name": "stdout",
     "output_type": "stream",
     "text": [
      "10.817597214673437\n",
      "10.819977720123617\n",
      "10.823934855183513\n",
      "10.818680522903206\n",
      "10.824360741548498\n",
      "10.818545234942178\n",
      "10.820986333489232\n",
      "10.818366423477121\n",
      "10.825787511090065\n",
      "10.815543778825816\n",
      "10.818120819464983\n",
      "10.81850556544421\n"
     ]
    },
    {
     "name": "stderr",
     "output_type": "stream",
     "text": [
      " 13%|█▎        | 131/1000 [01:45<10:40,  1.36it/s]"
     ]
    },
    {
     "name": "stdout",
     "output_type": "stream",
     "text": [
      "10.820058187958788\n",
      "10.824853904476395\n",
      "10.821891998303997\n",
      "10.81717063433979\n",
      "10.820921899591319\n",
      "10.824590406998777\n",
      "10.821044128622535\n",
      "10.817228604461064\n",
      "10.818929160198808\n",
      "10.819017674438047\n",
      "10.820594120347913\n",
      "10.81392726312575\n",
      "10.818649179558504\n",
      "10.825881605296207\n",
      "10.814375277210793\n",
      "10.819353888535327\n"
     ]
    },
    {
     "name": "stderr",
     "output_type": "stream",
     "text": [
      " 13%|█▎        | 132/1000 [01:46<11:46,  1.23it/s]"
     ]
    },
    {
     "name": "stdout",
     "output_type": "stream",
     "text": [
      "10.815964441837334\n",
      "10.81889227220786\n",
      "10.81633300332866\n",
      "10.81636039189016\n",
      "10.820780395703062\n",
      "10.81806138181061\n",
      "10.82010210171694\n",
      "10.813737611979178\n",
      "10.819116217432564\n",
      "10.819711285624663\n",
      "10.818727995898215\n",
      "10.821570265709388\n",
      "10.82058261849439\n",
      "10.816318483851113\n",
      "10.821259514923806\n",
      "10.825564668897346\n",
      "10.81663931810096\n",
      "10.822828614745676\n"
     ]
    },
    {
     "name": "stderr",
     "output_type": "stream",
     "text": [
      " 13%|█▎        | 133/1000 [01:47<12:53,  1.12it/s]"
     ]
    },
    {
     "name": "stdout",
     "output_type": "stream",
     "text": [
      "10.816455332059384\n",
      "10.821547357881633\n",
      "10.824862236646382\n",
      "10.817701746226295\n",
      "10.822320714544045\n",
      "10.820468237371609\n",
      "10.815196822419862\n",
      "10.821804967918466\n",
      "10.819485280380205\n",
      "10.821700830223527\n",
      "10.821315467022384\n",
      "10.818294349581567\n",
      "10.813897815924511\n",
      "10.818249153035913\n",
      "10.820835913131937\n",
      "10.815622498309404\n"
     ]
    },
    {
     "name": "stderr",
     "output_type": "stream",
     "text": [
      " 13%|█▎        | 134/1000 [01:48<12:39,  1.14it/s]"
     ]
    },
    {
     "name": "stdout",
     "output_type": "stream",
     "text": [
      "10.81923289193982\n",
      "10.818706659560275\n",
      "10.821234576697742\n",
      "10.815513060810364\n",
      "10.819432802860447\n",
      "10.81572551662465\n",
      "10.824783101394717\n",
      "10.820117800378284\n",
      "10.824296190357256\n",
      "10.82321000053\n",
      "10.81356004683175\n",
      "10.81922909876895\n"
     ]
    },
    {
     "name": "stderr",
     "output_type": "stream",
     "text": [
      " 14%|█▎        | 135/1000 [01:49<11:47,  1.22it/s]"
     ]
    },
    {
     "name": "stdout",
     "output_type": "stream",
     "text": [
      "10.819635888430922\n",
      "10.81825406995222\n",
      "10.81862728276017\n",
      "10.821336187374735\n",
      "10.820449658766794\n",
      "10.8142772472687\n",
      "10.82298391908798\n",
      "10.816809599874853\n",
      "10.818548924695092\n",
      "10.818574430093616\n",
      "10.81641050569841\n",
      "10.817407786725074\n",
      "10.818208882532774\n",
      "10.816737153933003\n",
      "10.822130467305767\n",
      "10.816367348634296\n",
      "10.821259190100609\n",
      "10.816159449868028\n",
      "10.824167792578328\n",
      "10.823174061528617\n"
     ]
    },
    {
     "name": "stderr",
     "output_type": "stream",
     "text": [
      " 14%|█▎        | 136/1000 [01:50<12:31,  1.15it/s]"
     ]
    },
    {
     "name": "stdout",
     "output_type": "stream",
     "text": [
      "10.815665049078477\n",
      "10.821368971230147\n",
      "10.821268407180831\n",
      "10.817629059211786\n",
      "10.81984309200295\n",
      "10.821515878308215\n",
      "10.81474589153732\n",
      "10.82341360331852\n",
      "10.823618786384142\n",
      "10.815084537866637\n",
      "10.815804266857853\n",
      "10.822614868413405\n",
      "10.818741330912156\n",
      "10.823327312857547\n",
      "10.816561385552994\n",
      "10.82003864489394\n",
      "10.81620107954148\n",
      "10.819434084367282\n",
      "10.818287383151892\n",
      "10.820656497273102\n"
     ]
    },
    {
     "name": "stderr",
     "output_type": "stream",
     "text": [
      " 14%|█▎        | 137/1000 [01:51<12:48,  1.12it/s]"
     ]
    },
    {
     "name": "stdout",
     "output_type": "stream",
     "text": [
      "10.825719479872852\n",
      "10.815004318596497\n",
      "10.81728681127257\n",
      "10.814824154437368\n",
      "10.823443552719812\n",
      "10.814384016324404\n",
      "10.817767672618523\n",
      "10.817577014982712\n",
      "10.817172564157282\n",
      "10.820824878890546\n",
      "10.817615340085654\n",
      "10.817451821410364\n",
      "10.822411108104472\n",
      "10.820539825139527\n",
      "10.825219016200924\n",
      "10.8173636042825\n",
      "10.82360820386456\n",
      "10.815447286975497\n",
      "10.8162816448612\n",
      "10.819634287316298\n"
     ]
    },
    {
     "name": "stderr",
     "output_type": "stream",
     "text": [
      " 14%|█▍        | 138/1000 [01:52<13:26,  1.07it/s]"
     ]
    },
    {
     "name": "stdout",
     "output_type": "stream",
     "text": [
      "10.824558354338754\n",
      "10.813707863008956\n",
      "10.818683858033982\n",
      "10.822530254695044\n",
      "10.822000394332642\n",
      "10.823816512991707\n",
      "10.816644098230743\n",
      "10.816522391390713\n",
      "10.82043882032246\n",
      "10.82549109518918\n",
      "10.813398078931636\n",
      "10.817896811253553\n",
      "10.814892857309795\n",
      "10.81799130088201\n",
      "10.819185430289453\n",
      "10.815364787589598\n"
     ]
    },
    {
     "name": "stderr",
     "output_type": "stream",
     "text": [
      " 14%|█▍        | 139/1000 [01:53<13:11,  1.09it/s]"
     ]
    },
    {
     "name": "stdout",
     "output_type": "stream",
     "text": [
      "10.819006552249457\n",
      "10.815194370619338\n",
      "10.815506946219012\n",
      "10.814938307935611\n",
      "10.819885084714956\n",
      "10.81657739744684\n",
      "10.816152747491746\n",
      "10.820610164141288\n",
      "10.818386144536213\n",
      "10.818656244169452\n",
      "10.817061266690672\n",
      "10.82362564009498\n"
     ]
    },
    {
     "name": "stderr",
     "output_type": "stream",
     "text": [
      " 14%|█▍        | 140/1000 [01:53<12:21,  1.16it/s]"
     ]
    },
    {
     "name": "stdout",
     "output_type": "stream",
     "text": [
      "10.823318912373471\n",
      "10.823934640089163\n",
      "10.815893841130544\n",
      "10.81398863623972\n",
      "10.816872163657038\n",
      "10.822168182101096\n",
      "10.819684901122598\n",
      "10.823251630449617\n",
      "10.822153569553198\n",
      "10.815804270612837\n",
      "10.815464094679255\n",
      "10.81638578522072\n",
      "10.819616341356667\n",
      "10.815280970698023\n",
      "10.816554013023786\n",
      "10.815761418997779\n"
     ]
    },
    {
     "name": "stderr",
     "output_type": "stream",
     "text": [
      " 14%|█▍        | 141/1000 [01:54<11:32,  1.24it/s]"
     ]
    },
    {
     "name": "stdout",
     "output_type": "stream",
     "text": [
      "10.815596425286662\n",
      "10.81955141696372\n",
      "10.823337665356481\n",
      "10.814328348528555\n",
      "10.818421160982247\n",
      "10.81600152371176\n",
      "10.817388153597117\n",
      "10.816670182412974\n",
      "10.822652432274536\n",
      "10.814921044649875\n",
      "10.81709854007353\n",
      "10.815697245307419\n"
     ]
    },
    {
     "name": "stderr",
     "output_type": "stream",
     "text": [
      " 14%|█▍        | 142/1000 [01:55<10:56,  1.31it/s]"
     ]
    },
    {
     "name": "stdout",
     "output_type": "stream",
     "text": [
      "10.821538824815057\n",
      "10.81743529353145\n",
      "10.819190053187711\n",
      "10.822556468849788\n",
      "10.814523743582718\n",
      "10.82229305313354\n",
      "10.823177229319404\n",
      "10.8150958051924\n",
      "10.819245473323726\n",
      "10.816243376950325\n",
      "10.825890962059361\n",
      "10.813654926134582\n",
      "10.822521119410387\n",
      "10.820904490347077\n",
      "10.817859229224174\n",
      "10.81420924086805\n"
     ]
    },
    {
     "name": "stderr",
     "output_type": "stream",
     "text": [
      " 14%|█▍        | 143/1000 [01:56<11:24,  1.25it/s]"
     ]
    },
    {
     "name": "stdout",
     "output_type": "stream",
     "text": [
      "10.81857999281593\n",
      "10.822265673735775\n",
      "10.822430593752442\n",
      "10.818465895687586\n",
      "10.814993281815422\n",
      "10.822301151456742\n",
      "10.824794375993527\n",
      "10.820143071235512\n",
      "10.814848375930655\n",
      "10.818602175951295\n",
      "10.817268857243374\n",
      "10.815741229020384\n",
      "10.817535124940685\n",
      "10.822854704439246\n",
      "10.815849413170673\n",
      "10.822268305720518\n"
     ]
    },
    {
     "name": "stderr",
     "output_type": "stream",
     "text": [
      " 14%|█▍        | 144/1000 [01:56<11:04,  1.29it/s]"
     ]
    },
    {
     "name": "stdout",
     "output_type": "stream",
     "text": [
      "10.821315696843017\n",
      "10.813498986548417\n",
      "10.824107476604492\n",
      "10.815793276176272\n",
      "10.820880151993507\n",
      "10.814878771232415\n",
      "10.818417851493155\n",
      "10.82226111682388\n",
      "10.817791725047998\n",
      "10.822389657894284\n",
      "10.8162831778919\n",
      "10.822401660310156\n",
      "10.817383038396628\n",
      "10.82381831592152\n",
      "10.815476685774094\n",
      "10.819075938599296\n"
     ]
    },
    {
     "name": "stderr",
     "output_type": "stream",
     "text": [
      " 14%|█▍        | 145/1000 [01:57<11:16,  1.26it/s]"
     ]
    },
    {
     "name": "stdout",
     "output_type": "stream",
     "text": [
      "10.820097186710491\n",
      "10.816560326854388\n",
      "10.823353040012234\n",
      "10.815953359651207\n",
      "10.824674529367073\n",
      "10.82405250902733\n",
      "10.818482749905046\n",
      "10.816138008888052\n",
      "10.81799534532124\n",
      "10.821904630256363\n",
      "10.821746201567217\n",
      "10.813461047701653\n",
      "10.814995295515448\n",
      "10.821351117373688\n",
      "10.816327973733575\n",
      "10.816738485536073\n"
     ]
    },
    {
     "name": "stderr",
     "output_type": "stream",
     "text": [
      " 15%|█▍        | 146/1000 [01:58<12:16,  1.16it/s]"
     ]
    },
    {
     "name": "stdout",
     "output_type": "stream",
     "text": [
      "10.823860851347519\n",
      "10.81540447215644\n",
      "10.816236053169025\n",
      "10.815436688015152\n",
      "10.824485373055117\n",
      "10.81475799087577\n",
      "10.82225723176058\n",
      "10.815054366705759\n",
      "10.816014203785466\n",
      "10.823390715726362\n",
      "10.821489604866057\n",
      "10.815934825632464\n",
      "10.822656765334443\n",
      "10.823708999981951\n",
      "10.814443153126055\n",
      "10.821480628949136\n",
      "10.81609350966735\n",
      "10.816275520709059\n",
      "10.820478402627234\n",
      "10.821843472043204\n"
     ]
    },
    {
     "name": "stderr",
     "output_type": "stream",
     "text": [
      " 15%|█▍        | 147/1000 [01:59<12:20,  1.15it/s]"
     ]
    },
    {
     "name": "stdout",
     "output_type": "stream",
     "text": [
      "10.816048638092056\n",
      "10.82315742650214\n",
      "10.821919556638987\n",
      "10.814935964650816\n",
      "10.81612823596717\n",
      "10.815570762775433\n",
      "10.814128596102801\n",
      "10.81807752239562\n",
      "10.81602837094844\n",
      "10.820593604239127\n",
      "10.815753466473396\n",
      "10.816216312403201\n"
     ]
    },
    {
     "name": "stderr",
     "output_type": "stream",
     "text": [
      " 15%|█▍        | 148/1000 [02:00<11:29,  1.24it/s]"
     ]
    },
    {
     "name": "stdout",
     "output_type": "stream",
     "text": [
      "10.820708838316179\n",
      "10.815749766134456\n",
      "10.815360560870372\n",
      "10.822360947193516\n",
      "10.821334123326771\n",
      "10.814735770914433\n",
      "10.821179983368346\n",
      "10.823027696902153\n",
      "10.8232378256968\n",
      "10.818491369067551\n",
      "10.823358170943527\n",
      "10.817898139395007\n",
      "10.820937927118333\n",
      "10.815102544406512\n",
      "10.813623817319161\n",
      "10.8200726302149\n"
     ]
    },
    {
     "name": "stderr",
     "output_type": "stream",
     "text": [
      " 15%|█▍        | 149/1000 [02:00<11:22,  1.25it/s]"
     ]
    },
    {
     "name": "stdout",
     "output_type": "stream",
     "text": [
      "10.816269020619654\n",
      "10.815159884409631\n",
      "10.823450194369395\n",
      "10.814336389826808\n",
      "10.821689119210577\n",
      "10.816879824334352\n",
      "10.815188808298133\n",
      "10.819504213198588\n",
      "10.816410860808508\n",
      "10.825606974618525\n",
      "10.816393661779871\n",
      "10.824283854907023\n"
     ]
    },
    {
     "name": "stderr",
     "output_type": "stream",
     "text": [
      " 15%|█▌        | 150/1000 [02:01<11:20,  1.25it/s]"
     ]
    },
    {
     "name": "stdout",
     "output_type": "stream",
     "text": [
      "10.8153655995773\n",
      "10.814657654043177\n",
      "10.819532727428989\n",
      "10.82392295379752\n",
      "10.819068607750372\n",
      "10.822761571174103\n",
      "10.818871691459835\n",
      "10.816693492348355\n",
      "10.814563561822933\n",
      "10.81771531359619\n",
      "10.81556191681008\n",
      "10.816111747893762\n",
      "10.820016270140467\n",
      "10.820998776580536\n",
      "10.81358288330786\n",
      "10.823774644706836\n"
     ]
    },
    {
     "name": "stderr",
     "output_type": "stream",
     "text": [
      " 15%|█▌        | 151/1000 [02:02<11:36,  1.22it/s]"
     ]
    },
    {
     "name": "stdout",
     "output_type": "stream",
     "text": [
      "10.818462043707912\n",
      "10.817475720793276\n",
      "10.821136183920968\n",
      "10.81510753230461\n",
      "10.817887737790416\n",
      "10.81879605686272\n",
      "10.818731158488081\n",
      "10.82151479724606\n",
      "10.817540648572143\n",
      "10.819546711051721\n",
      "10.81839060829863\n",
      "10.825484391875339\n",
      "10.815966581691756\n",
      "10.82584074046538\n",
      "10.818231634817362\n",
      "10.815202272141736\n",
      "10.815027294724173\n",
      "10.818258587887422\n"
     ]
    },
    {
     "name": "stderr",
     "output_type": "stream",
     "text": [
      " 15%|█▌        | 152/1000 [02:03<12:02,  1.17it/s]"
     ]
    },
    {
     "name": "stdout",
     "output_type": "stream",
     "text": [
      "10.819742707653633\n",
      "10.817929203703759\n",
      "10.820062619792553\n",
      "10.82006069401284\n",
      "10.825922070451675\n",
      "10.815005601097953\n",
      "10.819731634315778\n",
      "10.814226430468322\n",
      "10.81786416749203\n",
      "10.82118241683617\n",
      "10.818746077986443\n",
      "10.819757963145907\n"
     ]
    },
    {
     "name": "stderr",
     "output_type": "stream",
     "text": [
      " 15%|█▌        | 153/1000 [02:04<11:31,  1.22it/s]"
     ]
    },
    {
     "name": "stdout",
     "output_type": "stream",
     "text": [
      "10.8173837322943\n",
      "10.81997733841855\n",
      "10.817933002001247\n",
      "10.82051662498402\n",
      "10.820538868677291\n",
      "10.815578624804344\n",
      "10.820664314925152\n",
      "10.822930202694563\n",
      "10.817166359861881\n",
      "10.820259132216727\n",
      "10.82090956182751\n",
      "10.817986197251248\n",
      "10.815894939756316\n",
      "10.818526197954599\n",
      "10.814629903822498\n",
      "10.815925825535016\n"
     ]
    },
    {
     "name": "stderr",
     "output_type": "stream",
     "text": [
      " 15%|█▌        | 154/1000 [02:05<11:37,  1.21it/s]"
     ]
    },
    {
     "name": "stdout",
     "output_type": "stream",
     "text": [
      "10.81743849492379\n",
      "10.819335541294445\n",
      "10.815009904563933\n",
      "10.81743438525486\n",
      "10.813562338815517\n",
      "10.818248345303278\n",
      "10.82014765414341\n",
      "10.816059974569363\n",
      "10.817337220651567\n",
      "10.818412752601983\n",
      "10.825170857151004\n",
      "10.820616020086176\n",
      "10.823910006372893\n",
      "10.815912545054656\n",
      "10.82279187107944\n",
      "10.821812835669673\n",
      "10.814318417015777\n",
      "10.825304828057938\n",
      "10.819701628819187\n",
      "10.819741941926031\n"
     ]
    },
    {
     "name": "stderr",
     "output_type": "stream",
     "text": [
      " 16%|█▌        | 155/1000 [02:06<12:03,  1.17it/s]"
     ]
    },
    {
     "name": "stdout",
     "output_type": "stream",
     "text": [
      "10.819228761020186\n",
      "10.821580530774172\n",
      "10.82583099136933\n",
      "10.819127359774988\n",
      "10.820317925820323\n",
      "10.818150778286327\n",
      "10.814407570928923\n",
      "10.816438879595928\n",
      "10.822712115432555\n",
      "10.816518583325163\n",
      "10.82260744184815\n",
      "10.816379239640602\n"
     ]
    },
    {
     "name": "stderr",
     "output_type": "stream",
     "text": [
      " 16%|█▌        | 156/1000 [02:06<11:19,  1.24it/s]"
     ]
    },
    {
     "name": "stdout",
     "output_type": "stream",
     "text": [
      "10.815490761067714\n",
      "10.819825239243409\n",
      "10.81819806930185\n",
      "10.82265743648196\n",
      "10.817867462748326\n",
      "10.819010150630785\n",
      "10.816845802333766\n",
      "10.813861890547072\n",
      "10.823836906930168\n",
      "10.815987263674403\n",
      "10.816491243710862\n",
      "10.81910242992411\n"
     ]
    },
    {
     "name": "stderr",
     "output_type": "stream",
     "text": [
      " 16%|█▌        | 157/1000 [02:07<10:33,  1.33it/s]"
     ]
    },
    {
     "name": "stdout",
     "output_type": "stream",
     "text": [
      "10.81972680016306\n",
      "10.821108930875766\n",
      "10.817776374447119\n",
      "10.824557323591726\n",
      "10.81434753097912\n",
      "10.822577390577322\n",
      "10.816484415560598\n",
      "10.816188096652075\n",
      "10.824169891452035\n",
      "10.818631795061156\n",
      "10.824433771339308\n",
      "10.817201059605662\n"
     ]
    },
    {
     "name": "stderr",
     "output_type": "stream",
     "text": [
      " 16%|█▌        | 158/1000 [02:08<10:13,  1.37it/s]"
     ]
    },
    {
     "name": "stdout",
     "output_type": "stream",
     "text": [
      "10.815513032092719\n",
      "10.81537114698523\n",
      "10.814444585925756\n",
      "10.81613633173877\n",
      "10.822055567460708\n",
      "10.820805404937053\n",
      "10.822102068111727\n",
      "10.82345477005916\n",
      "10.816159061475098\n",
      "10.817603893813596\n",
      "10.820398495659779\n",
      "10.820081655627282\n",
      "10.822606973220012\n",
      "10.814337221237823\n",
      "10.816372581012866\n",
      "10.814654876934773\n"
     ]
    },
    {
     "name": "stderr",
     "output_type": "stream",
     "text": [
      " 16%|█▌        | 159/1000 [02:08<10:37,  1.32it/s]"
     ]
    },
    {
     "name": "stdout",
     "output_type": "stream",
     "text": [
      "10.819090690112198\n",
      "10.818394610050243\n",
      "10.818473579977988\n",
      "10.814370368179818\n",
      "10.81493300634939\n",
      "10.822919312062194\n",
      "10.818239163354422\n",
      "10.815408484802575\n",
      "10.81657273709366\n",
      "10.814493792787578\n",
      "10.821184143880165\n",
      "10.821248453987495\n",
      "10.821304438329113\n",
      "10.824439435568902\n",
      "10.81590866937769\n",
      "10.818806196659214\n"
     ]
    },
    {
     "name": "stderr",
     "output_type": "stream",
     "text": [
      " 16%|█▌        | 160/1000 [02:09<10:28,  1.34it/s]"
     ]
    },
    {
     "name": "stdout",
     "output_type": "stream",
     "text": [
      "10.81453276227684\n",
      "10.816780162928909\n",
      "10.820532116523362\n",
      "10.822561716608963\n",
      "10.822175444334691\n",
      "10.816799257257358\n",
      "10.81988227581814\n",
      "10.817677607482729\n",
      "10.822545308809941\n",
      "10.81754003122021\n",
      "10.815262052599037\n",
      "10.824343437085675\n",
      "10.825653739194742\n",
      "10.815844710494078\n",
      "10.817866329959235\n",
      "10.819158504721404\n"
     ]
    },
    {
     "name": "stderr",
     "output_type": "stream",
     "text": [
      " 16%|█▌        | 161/1000 [02:10<10:52,  1.29it/s]"
     ]
    },
    {
     "name": "stdout",
     "output_type": "stream",
     "text": [
      "10.821869739389653\n",
      "10.815441502807525\n",
      "10.819424036309266\n",
      "10.824290905648802\n",
      "10.817376562515959\n",
      "10.818836447920935\n",
      "10.815653867658886\n",
      "10.821449709926387\n",
      "10.822469806799166\n",
      "10.821357974526947\n",
      "10.822189706639533\n",
      "10.81752852785657\n"
     ]
    },
    {
     "name": "stderr",
     "output_type": "stream",
     "text": [
      " 16%|█▌        | 162/1000 [02:11<10:40,  1.31it/s]"
     ]
    },
    {
     "name": "stdout",
     "output_type": "stream",
     "text": [
      "10.81887884974391\n",
      "10.819235932699675\n",
      "10.82175640231903\n",
      "10.820381682358427\n",
      "10.821874955451893\n",
      "10.818484998484038\n",
      "10.81907126587834\n",
      "10.822585264402287\n",
      "10.822037267376297\n",
      "10.824460546339786\n",
      "10.824345602408066\n",
      "10.816970420798278\n"
     ]
    },
    {
     "name": "stderr",
     "output_type": "stream",
     "text": [
      " 16%|█▋        | 163/1000 [02:11<09:51,  1.41it/s]"
     ]
    },
    {
     "name": "stdout",
     "output_type": "stream",
     "text": [
      "10.818131240170995\n",
      "10.822018209274612\n",
      "10.818455953391092\n",
      "10.82182250083206\n",
      "10.820746001196738\n",
      "10.820800552252608\n",
      "10.821589957314877\n",
      "10.82221514978994\n",
      "10.814845492258273\n",
      "10.817587570136604\n",
      "10.825259550571916\n",
      "10.821758471140177\n",
      "10.82314025830703\n",
      "10.817112638697363\n",
      "10.81993579685635\n",
      "10.8175204759077\n"
     ]
    },
    {
     "name": "stderr",
     "output_type": "stream",
     "text": [
      " 16%|█▋        | 164/1000 [02:12<10:21,  1.35it/s]"
     ]
    },
    {
     "name": "stdout",
     "output_type": "stream",
     "text": [
      "10.818434667895188\n",
      "10.821753896415425\n",
      "10.818483437294672\n",
      "10.821924057247784\n",
      "10.824174177120623\n",
      "10.81539573055528\n",
      "10.822906054531568\n",
      "10.818192220163622\n",
      "10.822325186980144\n",
      "10.821980048288511\n",
      "10.825523369129034\n",
      "10.815979903344427\n"
     ]
    },
    {
     "name": "stderr",
     "output_type": "stream",
     "text": [
      " 16%|█▋        | 165/1000 [02:13<10:17,  1.35it/s]"
     ]
    },
    {
     "name": "stdout",
     "output_type": "stream",
     "text": [
      "10.818174003043255\n",
      "10.814977986042466\n",
      "10.81745341210322\n",
      "10.822084592673741\n",
      "10.819879774986521\n",
      "10.824329015494332\n",
      "10.816378965537258\n",
      "10.81695083019031\n",
      "10.819981921372682\n",
      "10.819262682868725\n",
      "10.81642369509531\n",
      "10.819892086592505\n",
      "10.821456011783111\n",
      "10.818244919536522\n",
      "10.818677671321915\n",
      "10.813343209968059\n"
     ]
    },
    {
     "name": "stderr",
     "output_type": "stream",
     "text": [
      " 17%|█▋        | 166/1000 [02:14<10:12,  1.36it/s]"
     ]
    },
    {
     "name": "stdout",
     "output_type": "stream",
     "text": [
      "10.820870491500342\n",
      "10.818544052499078\n",
      "10.819185685471867\n",
      "10.820100761625307\n",
      "10.822805631735015\n",
      "10.818917660077446\n",
      "10.816720411667097\n",
      "10.816997439596472\n",
      "10.821697273352184\n",
      "10.820633622999736\n",
      "10.824967748177727\n",
      "10.823869581250424\n",
      "10.821679015357917\n",
      "10.821106579358979\n",
      "10.816788925041115\n",
      "10.818901388442901\n"
     ]
    },
    {
     "name": "stderr",
     "output_type": "stream",
     "text": [
      " 17%|█▋        | 167/1000 [02:14<10:37,  1.31it/s]"
     ]
    },
    {
     "name": "stdout",
     "output_type": "stream",
     "text": [
      "10.820016366043705\n",
      "10.824546673402748\n",
      "10.82020703193559\n",
      "10.819451441825754\n",
      "10.824990712287303\n",
      "10.817399605442757\n",
      "10.819747835362225\n",
      "10.818696151717655\n",
      "10.821631854481291\n",
      "10.820004301127884\n",
      "10.8204253233933\n",
      "10.819412082135974\n"
     ]
    },
    {
     "name": "stderr",
     "output_type": "stream",
     "text": [
      " 17%|█▋        | 168/1000 [02:15<10:39,  1.30it/s]"
     ]
    },
    {
     "name": "stdout",
     "output_type": "stream",
     "text": [
      "10.814387327423683\n",
      "10.815055076063754\n",
      "10.823406461365076\n",
      "10.821412903524246\n",
      "10.825108998253913\n",
      "10.819587899863874\n",
      "10.822826309715175\n",
      "10.82393153364899\n",
      "10.816273837672021\n",
      "10.819393254319994\n",
      "10.817909224480415\n",
      "10.817452932614712\n",
      "10.825772003598548\n",
      "10.818726548235997\n",
      "10.819487503489288\n",
      "10.820918969750982\n",
      "10.817297929681272\n",
      "10.823746225817196\n",
      "10.82000156629928\n",
      "10.818787138728862\n"
     ]
    },
    {
     "name": "stderr",
     "output_type": "stream",
     "text": [
      " 17%|█▋        | 169/1000 [02:16<11:06,  1.25it/s]"
     ]
    },
    {
     "name": "stdout",
     "output_type": "stream",
     "text": [
      "10.820940311021092\n",
      "10.817232208988738\n",
      "10.824055705540594\n",
      "10.820250535761524\n",
      "10.819967311885334\n",
      "10.822594699011656\n",
      "10.81773860049762\n",
      "10.817030546553756\n",
      "10.82406463954632\n",
      "10.819479035686856\n",
      "10.821644539385508\n",
      "10.820108761624445\n"
     ]
    },
    {
     "name": "stderr",
     "output_type": "stream",
     "text": [
      " 17%|█▋        | 170/1000 [02:17<10:46,  1.28it/s]"
     ]
    },
    {
     "name": "stdout",
     "output_type": "stream",
     "text": [
      "10.818662843733108\n",
      "10.819459436063713\n",
      "10.819830845185503\n",
      "10.82268687840156\n",
      "10.819116594903546\n",
      "10.823351965067596\n",
      "10.824252670401668\n",
      "10.817856241527862\n",
      "10.820798929002267\n",
      "10.824125259020052\n",
      "10.818312504668384\n",
      "10.821210808599982\n",
      "10.81732843624662\n",
      "10.823263458125039\n",
      "10.82013302301995\n",
      "10.819068386845741\n"
     ]
    },
    {
     "name": "stderr",
     "output_type": "stream",
     "text": [
      " 17%|█▋        | 171/1000 [02:18<10:57,  1.26it/s]"
     ]
    },
    {
     "name": "stdout",
     "output_type": "stream",
     "text": [
      "10.818486442928974\n",
      "10.823247811726986\n",
      "10.81867931968695\n",
      "10.824094451871272\n",
      "10.81816457523381\n",
      "10.823884113525775\n",
      "10.820783200135502\n",
      "10.82298412104034\n",
      "10.819080138969673\n",
      "10.819884899098714\n",
      "10.819459285032293\n",
      "10.817275320047784\n",
      "10.82115991709534\n",
      "10.818406057520257\n",
      "10.818005779373934\n",
      "10.823418574230763\n"
     ]
    },
    {
     "name": "stderr",
     "output_type": "stream",
     "text": [
      " 17%|█▋        | 172/1000 [02:18<10:40,  1.29it/s]"
     ]
    },
    {
     "name": "stdout",
     "output_type": "stream",
     "text": [
      "10.820236941102669\n",
      "10.823679685006425\n",
      "10.820850799423251\n",
      "10.820515456113666\n",
      "10.816771850069562\n",
      "10.823657451789414\n",
      "10.8183003310879\n",
      "10.818539174693923\n",
      "10.818523386695237\n",
      "10.818702551359763\n",
      "10.822073873722617\n",
      "10.82418552424827\n"
     ]
    },
    {
     "name": "stderr",
     "output_type": "stream",
     "text": [
      " 17%|█▋        | 173/1000 [02:19<10:14,  1.35it/s]"
     ]
    },
    {
     "name": "stdout",
     "output_type": "stream",
     "text": [
      "10.823942961081002\n",
      "10.818717270264253\n",
      "10.817177103199146\n",
      "10.824034127259972\n",
      "10.818963162735868\n",
      "10.82238652892031\n",
      "10.820753616218113\n",
      "10.822216826744176\n",
      "10.81982288650996\n",
      "10.81840667330774\n",
      "10.822132569611897\n",
      "10.823245974502832\n",
      "10.823361932284769\n",
      "10.81750532350303\n",
      "10.818330894273203\n",
      "10.818181722324786\n"
     ]
    },
    {
     "name": "stderr",
     "output_type": "stream",
     "text": [
      " 17%|█▋        | 174/1000 [02:20<10:34,  1.30it/s]"
     ]
    },
    {
     "name": "stdout",
     "output_type": "stream",
     "text": [
      "10.820925221723702\n",
      "10.822366863711174\n",
      "10.81815354957216\n",
      "10.82354822296985\n",
      "10.820604412230399\n",
      "10.821727731374406\n",
      "10.816932804677519\n",
      "10.820933578539723\n",
      "10.82025044114282\n",
      "10.81987726232564\n",
      "10.822662042292478\n",
      "10.82254881424185\n"
     ]
    },
    {
     "name": "stderr",
     "output_type": "stream",
     "text": [
      " 18%|█▊        | 175/1000 [02:20<10:10,  1.35it/s]"
     ]
    },
    {
     "name": "stdout",
     "output_type": "stream",
     "text": [
      "10.818371613520934\n",
      "10.816138509436147\n",
      "10.819959594344045\n",
      "10.816801869243669\n",
      "10.82131365498582\n",
      "10.821490189812527\n",
      "10.822249989901495\n",
      "10.822782552522709\n",
      "10.817938120190622\n",
      "10.817153254650703\n",
      "10.81783458124972\n",
      "10.823030256289277\n",
      "10.823974550917345\n",
      "10.820793300192319\n",
      "10.819592248936987\n",
      "10.814297629051245\n"
     ]
    },
    {
     "name": "stderr",
     "output_type": "stream",
     "text": [
      " 18%|█▊        | 176/1000 [02:21<10:31,  1.30it/s]"
     ]
    },
    {
     "name": "stdout",
     "output_type": "stream",
     "text": [
      "10.821226048373646\n",
      "10.823088610159921\n",
      "10.82317313196969\n",
      "10.823996472665907\n",
      "10.82215391951525\n",
      "10.822107500850496\n",
      "10.824898074567429\n",
      "10.816477435285522\n",
      "10.816088366528907\n",
      "10.824448776413483\n",
      "10.820138552571722\n",
      "10.817461998589879\n",
      "10.825297994270151\n",
      "10.822959525059824\n",
      "10.81996712125525\n",
      "10.819689291760758\n"
     ]
    },
    {
     "name": "stderr",
     "output_type": "stream",
     "text": [
      " 18%|█▊        | 177/1000 [02:22<10:46,  1.27it/s]"
     ]
    },
    {
     "name": "stdout",
     "output_type": "stream",
     "text": [
      "10.818244734936949\n",
      "10.82097305102555\n",
      "10.816524061489071\n",
      "10.81831183285246\n",
      "10.823489520771785\n",
      "10.816594677331569\n",
      "10.822568520912771\n",
      "10.8199736204912\n",
      "10.818296012993933\n",
      "10.815595679468622\n",
      "10.823505957761807\n",
      "10.818080059733601\n",
      "10.824781680454667\n",
      "10.82030601861558\n",
      "10.822642123983465\n",
      "10.82173194962969\n"
     ]
    },
    {
     "name": "stderr",
     "output_type": "stream",
     "text": [
      " 18%|█▊        | 178/1000 [02:23<10:44,  1.28it/s]"
     ]
    },
    {
     "name": "stdout",
     "output_type": "stream",
     "text": [
      "10.814980949855988\n",
      "10.818754094144099\n",
      "10.820559794147483\n",
      "10.816306539077472\n",
      "10.821217587102522\n",
      "10.821428603276916\n",
      "10.82097217763826\n",
      "10.81519075840459\n",
      "10.815810338347825\n",
      "10.818034998187203\n",
      "10.816074402708969\n",
      "10.823339644253156\n",
      "10.820148044767098\n",
      "10.820600548002835\n",
      "10.823822295496399\n",
      "10.81554268414698\n"
     ]
    },
    {
     "name": "stderr",
     "output_type": "stream",
     "text": [
      " 18%|█▊        | 179/1000 [02:24<10:54,  1.25it/s]"
     ]
    },
    {
     "name": "stdout",
     "output_type": "stream",
     "text": [
      "10.820800145357378\n",
      "10.820399058334415\n",
      "10.824140875381406\n",
      "10.820003243610994\n",
      "10.821468556355587\n",
      "10.81571653921821\n",
      "10.815801633171935\n",
      "10.815937106596046\n",
      "10.818926895962273\n",
      "10.816013638819644\n",
      "10.823147133796766\n",
      "10.823058032391264\n",
      "10.821055850385193\n",
      "10.817602690944549\n",
      "10.818543930363143\n",
      "10.820223789715014\n"
     ]
    },
    {
     "name": "stderr",
     "output_type": "stream",
     "text": [
      " 18%|█▊        | 180/1000 [02:25<11:11,  1.22it/s]"
     ]
    },
    {
     "name": "stdout",
     "output_type": "stream",
     "text": [
      "10.823827176000512\n",
      "10.820325486116483\n",
      "10.81601681431281\n",
      "10.818534405075585\n",
      "10.824746627143973\n",
      "10.824856788286583\n",
      "10.818572117949456\n",
      "10.818176507435219\n",
      "10.822941087662526\n",
      "10.818655730273232\n",
      "10.823094554232979\n",
      "10.821765692920607\n"
     ]
    },
    {
     "name": "stderr",
     "output_type": "stream",
     "text": [
      " 18%|█▊        | 181/1000 [02:25<10:47,  1.27it/s]"
     ]
    },
    {
     "name": "stdout",
     "output_type": "stream",
     "text": [
      "10.819070020301954\n",
      "10.82152423073799\n",
      "10.815970887270037\n",
      "10.816772897103526\n",
      "10.823522554845042\n",
      "10.82044187170108\n",
      "10.821038884881016\n",
      "10.825870042850378\n",
      "10.818587949677433\n",
      "10.81584115902375\n",
      "10.813948947061316\n",
      "10.819234052185049\n",
      "10.818610031477677\n",
      "10.821299713394225\n",
      "10.818756977767556\n",
      "10.822214493845463\n",
      "10.818263719812096\n",
      "10.815778390996085\n",
      "10.818321864921637\n",
      "10.822048404840947\n"
     ]
    },
    {
     "name": "stderr",
     "output_type": "stream",
     "text": [
      " 18%|█▊        | 182/1000 [02:26<11:07,  1.22it/s]"
     ]
    },
    {
     "name": "stdout",
     "output_type": "stream",
     "text": [
      "10.817695011506727\n",
      "10.822650307777264\n",
      "10.819557567949722\n",
      "10.815893557226394\n",
      "10.814575811402431\n",
      "10.818220737261603\n",
      "10.817822881309196\n",
      "10.82106365030317\n",
      "10.818249061247526\n",
      "10.825734285599701\n",
      "10.820894485665876\n",
      "10.820232952686457\n"
     ]
    },
    {
     "name": "stderr",
     "output_type": "stream",
     "text": [
      " 18%|█▊        | 183/1000 [02:27<10:56,  1.24it/s]"
     ]
    },
    {
     "name": "stdout",
     "output_type": "stream",
     "text": [
      "10.822085587550458\n",
      "10.819492451336346\n",
      "10.822609413494517\n",
      "10.818301791415974\n",
      "10.821310219561239\n",
      "10.819982283202094\n",
      "10.822480905863507\n",
      "10.818081908418183\n",
      "10.815430158643162\n",
      "10.81759981832443\n",
      "10.818002336754402\n",
      "10.822415830066966\n",
      "10.823230110111275\n",
      "10.82114446074544\n",
      "10.820036719088208\n",
      "10.82233087608483\n"
     ]
    },
    {
     "name": "stderr",
     "output_type": "stream",
     "text": [
      " 18%|█▊        | 184/1000 [02:28<11:03,  1.23it/s]"
     ]
    },
    {
     "name": "stdout",
     "output_type": "stream",
     "text": [
      "10.815850084214889\n",
      "10.8173497034152\n",
      "10.820404504742514\n",
      "10.81910096293191\n",
      "10.81872236728761\n",
      "10.821661669363312\n",
      "10.822203854097323\n",
      "10.818127202441364\n",
      "10.818544440314284\n",
      "10.817303005139552\n",
      "10.817015012852396\n",
      "10.821241452966522\n",
      "10.818953865540104\n",
      "10.819553661110655\n",
      "10.822709985774617\n",
      "10.822736986843806\n",
      "10.825835625014468\n",
      "10.821264126277308\n",
      "10.814602679681697\n",
      "10.821717362186265\n"
     ]
    },
    {
     "name": "stderr",
     "output_type": "stream",
     "text": [
      " 18%|█▊        | 185/1000 [02:29<11:18,  1.20it/s]"
     ]
    },
    {
     "name": "stdout",
     "output_type": "stream",
     "text": [
      "10.823930052522227\n",
      "10.82452736352988\n",
      "10.822029158568165\n",
      "10.823145408660064\n",
      "10.821048606781776\n",
      "10.813579625637537\n",
      "10.819947346481735\n",
      "10.823522061974696\n",
      "10.818181293617496\n",
      "10.821265549762735\n",
      "10.819468140338437\n",
      "10.822146566153338\n",
      "10.815991836431465\n",
      "10.818043483418856\n",
      "10.814622829970949\n",
      "10.818026289748863\n"
     ]
    },
    {
     "name": "stderr",
     "output_type": "stream",
     "text": [
      " 19%|█▊        | 186/1000 [02:30<11:15,  1.20it/s]"
     ]
    },
    {
     "name": "stdout",
     "output_type": "stream",
     "text": [
      "10.818653817198284\n",
      "10.822178029858817\n",
      "10.821749035231914\n",
      "10.825358610031676\n",
      "10.814871650906557\n",
      "10.824728953593192\n",
      "10.81525943898714\n",
      "10.813827197493499\n",
      "10.823735056395481\n",
      "10.820841843628305\n",
      "10.82038164271082\n",
      "10.818104327981477\n",
      "10.82097239027945\n",
      "10.823982648303506\n",
      "10.821857207372819\n",
      "10.816975142690945\n"
     ]
    },
    {
     "name": "stderr",
     "output_type": "stream",
     "text": [
      " 19%|█▊        | 187/1000 [02:30<11:40,  1.16it/s]"
     ]
    },
    {
     "name": "stdout",
     "output_type": "stream",
     "text": [
      "10.815578490592992\n",
      "10.819598832464894\n",
      "10.821752974295173\n",
      "10.819179185132002\n",
      "10.820097115676962\n",
      "10.815304220526283\n",
      "10.822876487994707\n",
      "10.815605325764396\n",
      "10.813501213971271\n",
      "10.818129016965699\n",
      "10.820461650022114\n",
      "10.821739631945464\n"
     ]
    },
    {
     "name": "stderr",
     "output_type": "stream",
     "text": [
      " 19%|█▉        | 188/1000 [02:31<10:54,  1.24it/s]"
     ]
    },
    {
     "name": "stdout",
     "output_type": "stream",
     "text": [
      "10.819157570136323\n",
      "10.824353597003249\n",
      "10.821412817579484\n",
      "10.820835711714873\n",
      "10.824819915535633\n",
      "10.821597728022523\n",
      "10.81783039872038\n",
      "10.81522633773714\n",
      "10.817362333704127\n",
      "10.8221430911927\n",
      "10.817618673051033\n",
      "10.821885801479029\n",
      "10.825071037390346\n",
      "10.816393709697206\n",
      "10.814832519876926\n",
      "10.820479256663441\n"
     ]
    },
    {
     "name": "stderr",
     "output_type": "stream",
     "text": [
      " 19%|█▉        | 189/1000 [02:32<10:34,  1.28it/s]"
     ]
    },
    {
     "name": "stdout",
     "output_type": "stream",
     "text": [
      "10.821003345307675\n",
      "10.823999876869632\n",
      "10.813988109804082\n",
      "10.8229165764935\n",
      "10.81775652865731\n",
      "10.819071788778379\n",
      "10.818048245360792\n",
      "10.817259866684386\n",
      "10.820970790735256\n",
      "10.823614230132609\n",
      "10.816490967932275\n",
      "10.825728697104555\n"
     ]
    },
    {
     "name": "stderr",
     "output_type": "stream",
     "text": [
      " 19%|█▉        | 190/1000 [02:33<10:21,  1.30it/s]"
     ]
    },
    {
     "name": "stdout",
     "output_type": "stream",
     "text": [
      "10.823683272744482\n",
      "10.81844327279011\n",
      "10.82115750684796\n",
      "10.819304160162295\n",
      "10.821344168065977\n",
      "10.822090247444\n",
      "10.818099760619496\n",
      "10.81401794187798\n",
      "10.823451958138703\n",
      "10.82314875493953\n",
      "10.823701668832737\n",
      "10.825050312847635\n"
     ]
    },
    {
     "name": "stderr",
     "output_type": "stream",
     "text": [
      " 19%|█▉        | 191/1000 [02:33<09:45,  1.38it/s]"
     ]
    },
    {
     "name": "stdout",
     "output_type": "stream",
     "text": [
      "10.818059265370628\n",
      "10.819439041816265\n",
      "10.818754043663175\n",
      "10.819712652944883\n",
      "10.822106750597973\n",
      "10.822762707686689\n",
      "10.818821368664867\n",
      "10.815565188882951\n",
      "10.823614281861255\n",
      "10.817401793523485\n",
      "10.813710823917313\n",
      "10.823467307054976\n"
     ]
    },
    {
     "name": "stderr",
     "output_type": "stream",
     "text": [
      " 19%|█▉        | 192/1000 [02:34<09:08,  1.47it/s]"
     ]
    },
    {
     "name": "stdout",
     "output_type": "stream",
     "text": [
      "10.82300800968471\n",
      "10.825792867579187\n",
      "10.82126028149032\n",
      "10.822380084732576\n",
      "10.820468731042627\n",
      "10.824668952486604\n",
      "10.825399843173559\n",
      "10.817298339531627\n",
      "10.815859825282399\n",
      "10.818017231621914\n",
      "10.81967922929312\n",
      "10.81910723520758\n",
      "10.819448015811082\n",
      "10.816028554562516\n",
      "10.816723664916825\n",
      "10.813980393979497\n",
      "10.81990488082971\n",
      "10.822072823732148\n",
      "10.81733848255565\n",
      "10.824663781149006\n"
     ]
    },
    {
     "name": "stderr",
     "output_type": "stream",
     "text": [
      " 19%|█▉        | 193/1000 [02:35<10:20,  1.30it/s]"
     ]
    },
    {
     "name": "stdout",
     "output_type": "stream",
     "text": [
      "10.823404350315206\n",
      "10.819263716033142\n",
      "10.820508993058045\n",
      "10.819648714961767\n",
      "10.820902753366735\n",
      "10.824725608253015\n",
      "10.81647267781504\n",
      "10.815786541934273\n",
      "10.825314210760155\n",
      "10.822666421892418\n",
      "10.813366491341807\n",
      "10.821862807573526\n",
      "10.823987755821879\n",
      "10.819044255491582\n",
      "10.81472730183327\n",
      "10.817267720418691\n"
     ]
    },
    {
     "name": "stderr",
     "output_type": "stream",
     "text": [
      " 19%|█▉        | 194/1000 [02:36<10:34,  1.27it/s]"
     ]
    },
    {
     "name": "stdout",
     "output_type": "stream",
     "text": [
      "10.822545723987375\n",
      "10.819823578454905\n",
      "10.820937604146632\n",
      "10.823536322318134\n",
      "10.813332625566199\n",
      "10.823608598230491\n",
      "10.820685393492534\n",
      "10.824039559226195\n",
      "10.823481850272845\n",
      "10.819198124667606\n",
      "10.821056181763463\n",
      "10.821854359393981\n",
      "10.816108202035487\n",
      "10.823316849402788\n",
      "10.815895350389606\n",
      "10.815370178465594\n"
     ]
    },
    {
     "name": "stderr",
     "output_type": "stream",
     "text": [
      " 20%|█▉        | 195/1000 [02:36<11:02,  1.22it/s]"
     ]
    },
    {
     "name": "stdout",
     "output_type": "stream",
     "text": [
      "10.81585770097437\n",
      "10.821667280473928\n",
      "10.816587470724453\n",
      "10.8204340896054\n",
      "10.821696295744776\n",
      "10.81495635758023\n",
      "10.82185751167808\n",
      "10.825156452996426\n",
      "10.81462648033566\n",
      "10.820622458591812\n",
      "10.824272149161471\n",
      "10.818225569441989\n",
      "10.821786557680989\n",
      "10.821439654374439\n",
      "10.819139601480035\n",
      "10.820281350756174\n"
     ]
    },
    {
     "name": "stderr",
     "output_type": "stream",
     "text": [
      " 20%|█▉        | 196/1000 [02:37<10:51,  1.23it/s]"
     ]
    },
    {
     "name": "stdout",
     "output_type": "stream",
     "text": [
      "10.819486147885785\n",
      "10.821207186915055\n",
      "10.825306341900387\n",
      "10.822044908224779\n",
      "10.819771608881394\n",
      "10.824903206479227\n",
      "10.814532676359788\n",
      "10.815904437996991\n",
      "10.814242031043847\n",
      "10.821726824924552\n",
      "10.813651926394083\n",
      "10.815318490897502\n"
     ]
    },
    {
     "name": "stderr",
     "output_type": "stream",
     "text": [
      " 20%|█▉        | 197/1000 [02:38<10:43,  1.25it/s]"
     ]
    },
    {
     "name": "stdout",
     "output_type": "stream",
     "text": [
      "10.821041356077924\n",
      "10.81962922758926\n",
      "10.820952435910357\n",
      "10.821128765428222\n",
      "10.813985708045763\n",
      "10.824097974028867\n",
      "10.814267078309813\n",
      "10.824243851101379\n",
      "10.820941224910563\n",
      "10.82294808995691\n",
      "10.818275750060412\n",
      "10.813756038848796\n",
      "10.82060503009812\n",
      "10.817033503723737\n",
      "10.813966463815625\n",
      "10.820062283638395\n"
     ]
    },
    {
     "name": "stderr",
     "output_type": "stream",
     "text": [
      " 20%|█▉        | 198/1000 [02:39<10:49,  1.23it/s]"
     ]
    },
    {
     "name": "stdout",
     "output_type": "stream",
     "text": [
      "10.815291211315662\n",
      "10.820305587181055\n",
      "10.817496496363063\n",
      "10.824397145060907\n",
      "10.814271823298048\n",
      "10.818370127899941\n",
      "10.817290349064157\n",
      "10.819900709918697\n",
      "10.817694906200423\n",
      "10.82078647026724\n",
      "10.817625312383754\n",
      "10.822938117568883\n",
      "10.823105774592717\n",
      "10.82409252204741\n",
      "10.819141468612788\n",
      "10.819029284460461\n"
     ]
    },
    {
     "name": "stderr",
     "output_type": "stream",
     "text": [
      " 20%|█▉        | 199/1000 [02:40<10:28,  1.27it/s]"
     ]
    },
    {
     "name": "stdout",
     "output_type": "stream",
     "text": [
      "10.823266009054768\n",
      "10.821870302677885\n",
      "10.813301773389853\n",
      "10.82089833941167\n",
      "10.820674455746543\n",
      "10.819304228315097\n",
      "10.82163578738395\n",
      "10.82005444599123\n",
      "10.814720222179078\n",
      "10.81735395808019\n",
      "10.81540389762647\n",
      "10.818401843894282\n"
     ]
    },
    {
     "name": "stderr",
     "output_type": "stream",
     "text": [
      " 20%|██        | 200/1000 [02:40<10:13,  1.30it/s]"
     ]
    },
    {
     "name": "stdout",
     "output_type": "stream",
     "text": [
      "10.823696010819525\n",
      "10.820216638884984\n",
      "10.817051492950231\n",
      "10.814410841032656\n",
      "10.819541737470102\n",
      "10.822845136597246\n",
      "10.820926672439288\n",
      "10.816255366272669\n",
      "10.822293960673075\n",
      "10.817553677054116\n",
      "10.81940913200226\n",
      "10.819809160150225\n",
      "10.822914930390404\n",
      "10.824296424861565\n",
      "10.815342411478245\n",
      "10.814073795394336\n"
     ]
    },
    {
     "name": "stderr",
     "output_type": "stream",
     "text": [
      " 20%|██        | 201/1000 [02:41<10:15,  1.30it/s]"
     ]
    },
    {
     "name": "stdout",
     "output_type": "stream",
     "text": [
      "10.820148056124111\n",
      "10.815941359500135\n",
      "10.82159188338744\n",
      "10.822695644280682\n",
      "10.815385837996802\n",
      "10.82091854279372\n",
      "10.81583309128386\n",
      "10.81948269685401\n",
      "10.825732841440834\n",
      "10.816679169702393\n",
      "10.816136261099228\n",
      "10.818733051284543\n"
     ]
    },
    {
     "name": "stderr",
     "output_type": "stream",
     "text": [
      " 20%|██        | 202/1000 [02:42<09:51,  1.35it/s]"
     ]
    },
    {
     "name": "stdout",
     "output_type": "stream",
     "text": [
      "10.82229023191799\n",
      "10.819794065292378\n",
      "10.820779470733696\n",
      "10.823792163372548\n",
      "10.816376508813953\n",
      "10.822073720096373\n",
      "10.819353273623943\n",
      "10.819117886291698\n",
      "10.821025293492387\n",
      "10.818945162609024\n",
      "10.820937950985194\n",
      "10.82485430511593\n",
      "10.821948247116664\n",
      "10.81343274048189\n",
      "10.821375424601456\n",
      "10.82339011736631\n"
     ]
    },
    {
     "name": "stderr",
     "output_type": "stream",
     "text": [
      " 20%|██        | 203/1000 [02:43<10:12,  1.30it/s]"
     ]
    },
    {
     "name": "stdout",
     "output_type": "stream",
     "text": [
      "10.82155274799206\n",
      "10.818733133370083\n",
      "10.81397778177106\n",
      "10.816389677323347\n",
      "10.819292058803683\n",
      "10.816919319388045\n",
      "10.82289974816258\n",
      "10.820496481028137\n",
      "10.817116078403082\n",
      "10.821939120089631\n",
      "10.823805861486235\n",
      "10.82357610647822\n",
      "10.818695874788602\n",
      "10.81637590564471\n",
      "10.822034188964675\n",
      "10.82221414955994\n"
     ]
    },
    {
     "name": "stderr",
     "output_type": "stream",
     "text": [
      " 20%|██        | 204/1000 [02:43<10:14,  1.30it/s]"
     ]
    },
    {
     "name": "stdout",
     "output_type": "stream",
     "text": [
      "10.816390358677603\n",
      "10.813908648977264\n",
      "10.816384837107352\n",
      "10.822575203014436\n",
      "10.813603416644028\n",
      "10.819603054334035\n",
      "10.816797735398984\n",
      "10.816603819749275\n",
      "10.824751416950786\n",
      "10.825792417334078\n",
      "10.819555758499918\n",
      "10.816100297638494\n"
     ]
    },
    {
     "name": "stderr",
     "output_type": "stream",
     "text": [
      " 20%|██        | 205/1000 [02:44<09:50,  1.35it/s]"
     ]
    },
    {
     "name": "stdout",
     "output_type": "stream",
     "text": [
      "10.819912568887231\n",
      "10.823802697280367\n",
      "10.818003493314608\n",
      "10.823554307968568\n",
      "10.817420411267593\n",
      "10.821109965406261\n",
      "10.821276140256943\n",
      "10.819092474035163\n",
      "10.825036562190057\n",
      "10.818738672042393\n",
      "10.82085685705093\n",
      "10.81900844506219\n"
     ]
    },
    {
     "name": "stderr",
     "output_type": "stream",
     "text": [
      " 21%|██        | 206/1000 [02:45<09:08,  1.45it/s]"
     ]
    },
    {
     "name": "stdout",
     "output_type": "stream",
     "text": [
      "10.813326974862662\n",
      "10.817263680144933\n",
      "10.822038744775131\n",
      "10.814117991362236\n",
      "10.821253336502894\n",
      "10.822466063672302\n",
      "10.817310765236567\n",
      "10.816586696052683\n",
      "10.822119776086023\n",
      "10.82355911599528\n",
      "10.8196969534596\n",
      "10.817937289595196\n",
      "10.820042338807557\n",
      "10.816792217724938\n",
      "10.817197618500852\n",
      "10.823475661613244\n"
     ]
    },
    {
     "name": "stderr",
     "output_type": "stream",
     "text": [
      " 21%|██        | 207/1000 [02:45<09:39,  1.37it/s]"
     ]
    },
    {
     "name": "stdout",
     "output_type": "stream",
     "text": [
      "10.814437610226566\n",
      "10.822816749211295\n",
      "10.819723441731844\n",
      "10.81518383765258\n",
      "10.821238105790563\n",
      "10.819496999876396\n",
      "10.819132790709201\n",
      "10.814664472144667\n",
      "10.816770537173001\n",
      "10.821659501200678\n",
      "10.820794631480071\n",
      "10.813969575621137\n"
     ]
    },
    {
     "name": "stderr",
     "output_type": "stream",
     "text": [
      " 21%|██        | 208/1000 [02:46<09:37,  1.37it/s]"
     ]
    },
    {
     "name": "stdout",
     "output_type": "stream",
     "text": [
      "10.823515955349292\n",
      "10.817818128589293\n",
      "10.82481762189544\n",
      "10.821934306096262\n",
      "10.81858548222382\n",
      "10.821520458388132\n",
      "10.821446928284153\n",
      "10.81835377491385\n",
      "10.819787210875509\n",
      "10.817759622637253\n",
      "10.813890377651747\n",
      "10.822432691224924\n"
     ]
    },
    {
     "name": "stderr",
     "output_type": "stream",
     "text": [
      " 21%|██        | 209/1000 [02:47<09:11,  1.43it/s]"
     ]
    },
    {
     "name": "stdout",
     "output_type": "stream",
     "text": [
      "10.821951150534067\n",
      "10.818907413491921\n",
      "10.82291973446344\n",
      "10.822884509850253\n",
      "10.817698045536346\n",
      "10.81713375854225\n",
      "10.821590455728723\n",
      "10.81728504952049\n",
      "10.819682766284254\n",
      "10.821285036530744\n",
      "10.820874062339408\n",
      "10.816396477502673\n"
     ]
    },
    {
     "name": "stderr",
     "output_type": "stream",
     "text": [
      " 21%|██        | 210/1000 [02:47<08:41,  1.51it/s]"
     ]
    },
    {
     "name": "stdout",
     "output_type": "stream",
     "text": [
      "10.822539496155779\n",
      "10.816521360732914\n",
      "10.823302549676004\n",
      "10.821150508866541\n",
      "10.815937789965476\n",
      "10.821186475941877\n",
      "10.82233065691456\n",
      "10.815224551576929\n",
      "10.815332284526852\n",
      "10.822789607352187\n",
      "10.819712812022498\n",
      "10.817662927478636\n",
      "10.82246819078856\n",
      "10.821334352825316\n",
      "10.818312439685023\n",
      "10.821143334340462\n"
     ]
    },
    {
     "name": "stderr",
     "output_type": "stream",
     "text": [
      " 21%|██        | 211/1000 [02:48<09:32,  1.38it/s]"
     ]
    },
    {
     "name": "stdout",
     "output_type": "stream",
     "text": [
      "10.817241208871303\n",
      "10.818922770175922\n",
      "10.821520550756448\n",
      "10.81549818738424\n",
      "10.821490185546859\n",
      "10.815746392323588\n",
      "10.822448066740343\n",
      "10.825115148799737\n",
      "10.8235379394688\n",
      "10.816281670297274\n",
      "10.822755561102118\n",
      "10.814094833733913\n",
      "10.816120088755566\n",
      "10.818435080424061\n",
      "10.821441583789568\n",
      "10.82219757230297\n"
     ]
    },
    {
     "name": "stderr",
     "output_type": "stream",
     "text": [
      " 21%|██        | 212/1000 [02:49<09:44,  1.35it/s]"
     ]
    },
    {
     "name": "stdout",
     "output_type": "stream",
     "text": [
      "10.815053111910762\n",
      "10.822624414845583\n",
      "10.822949197853491\n",
      "10.815215695711506\n",
      "10.82117396817228\n",
      "10.819245632593393\n",
      "10.816096588208437\n",
      "10.818977971317677\n",
      "10.822841431380969\n",
      "10.820475477914933\n",
      "10.82169832316382\n",
      "10.822488785674391\n",
      "10.818026280235559\n",
      "10.820728741949106\n",
      "10.82240647543841\n",
      "10.821803600174315\n"
     ]
    },
    {
     "name": "stderr",
     "output_type": "stream",
     "text": [
      " 21%|██▏       | 213/1000 [02:50<09:51,  1.33it/s]"
     ]
    },
    {
     "name": "stdout",
     "output_type": "stream",
     "text": [
      "10.815228751711699\n",
      "10.814323306377146\n",
      "10.821776025419389\n",
      "10.819234720678436\n",
      "10.816901541430406\n",
      "10.814748655357292\n",
      "10.82070696941385\n",
      "10.821764739181475\n",
      "10.821741186888021\n",
      "10.821079313896\n",
      "10.81587390339608\n",
      "10.820409923771393\n"
     ]
    },
    {
     "name": "stderr",
     "output_type": "stream",
     "text": [
      " 21%|██▏       | 214/1000 [02:51<09:44,  1.34it/s]"
     ]
    },
    {
     "name": "stdout",
     "output_type": "stream",
     "text": [
      "10.822613566815408\n",
      "10.822292271397128\n",
      "10.815182848911762\n",
      "10.820470397465709\n",
      "10.817697839508385\n",
      "10.815466481365991\n",
      "10.820553814535602\n",
      "10.819750283423517\n",
      "10.82239147896792\n",
      "10.8258373764041\n",
      "10.815035080620836\n",
      "10.823351328696738\n",
      "10.815219278883337\n",
      "10.821077655702334\n",
      "10.824946937331376\n",
      "10.814910962703388\n"
     ]
    },
    {
     "name": "stderr",
     "output_type": "stream",
     "text": [
      " 22%|██▏       | 215/1000 [02:51<10:04,  1.30it/s]"
     ]
    },
    {
     "name": "stdout",
     "output_type": "stream",
     "text": [
      "10.817896627540103\n",
      "10.81834622278586\n",
      "10.820082839794958\n",
      "10.817874838046993\n",
      "10.823561494171802\n",
      "10.813549280701318\n",
      "10.821408289067957\n",
      "10.822128756359715\n",
      "10.818259064365662\n",
      "10.82263628123484\n",
      "10.815226888152178\n",
      "10.817091928750873\n",
      "10.817683270365926\n",
      "10.821421183656902\n",
      "10.823466233004869\n",
      "10.816491586345274\n"
     ]
    },
    {
     "name": "stderr",
     "output_type": "stream",
     "text": [
      " 22%|██▏       | 216/1000 [02:52<09:41,  1.35it/s]"
     ]
    },
    {
     "name": "stdout",
     "output_type": "stream",
     "text": [
      "10.823225163841022\n",
      "10.82228422993631\n",
      "10.817155071638538\n",
      "10.816376349268978\n",
      "10.824421129943746\n",
      "10.823876944784034\n",
      "10.822344168025083\n",
      "10.81990409309757\n",
      "10.822228252781958\n",
      "10.824607407489516\n",
      "10.818426472241512\n",
      "10.814928610203973\n"
     ]
    },
    {
     "name": "stderr",
     "output_type": "stream",
     "text": [
      " 22%|██▏       | 217/1000 [02:53<09:37,  1.36it/s]"
     ]
    },
    {
     "name": "stdout",
     "output_type": "stream",
     "text": [
      "10.815934752392472\n",
      "10.82349560179922\n",
      "10.819826913309708\n",
      "10.814934618875395\n",
      "10.824454565346064\n",
      "10.822157596370387\n",
      "10.816111660923518\n",
      "10.82458062723703\n",
      "10.822851075647774\n",
      "10.822768597362137\n",
      "10.82408904673907\n",
      "10.819803810479598\n",
      "10.814931524025821\n",
      "10.82238408951662\n",
      "10.824784041040685\n",
      "10.818607381995458\n"
     ]
    },
    {
     "name": "stderr",
     "output_type": "stream",
     "text": [
      " 22%|██▏       | 218/1000 [02:54<09:34,  1.36it/s]"
     ]
    },
    {
     "name": "stdout",
     "output_type": "stream",
     "text": [
      "10.814605002410918\n",
      "10.82469657180671\n",
      "10.81577700462136\n",
      "10.823696243937018\n",
      "10.822768327339727\n",
      "10.814932050833965\n",
      "10.822883272384091\n",
      "10.81539917648793\n",
      "10.81714579789718\n",
      "10.823674229797504\n",
      "10.821837357123895\n",
      "10.816575608060829\n",
      "10.820245359484343\n",
      "10.824829368677474\n",
      "10.819356906896697\n",
      "10.82375544178865\n"
     ]
    },
    {
     "name": "stderr",
     "output_type": "stream",
     "text": [
      " 22%|██▏       | 219/1000 [02:54<09:56,  1.31it/s]"
     ]
    },
    {
     "name": "stdout",
     "output_type": "stream",
     "text": [
      "10.824500248404565\n",
      "10.823359167642819\n",
      "10.824170455858246\n",
      "10.816281195653037\n",
      "10.8243630438331\n",
      "10.821505909580539\n",
      "10.815819837703508\n",
      "10.81758375090699\n",
      "10.821317087461034\n",
      "10.816079974496239\n",
      "10.8206908992601\n",
      "10.822473037271683\n"
     ]
    },
    {
     "name": "stderr",
     "output_type": "stream",
     "text": [
      " 22%|██▏       | 220/1000 [02:55<09:22,  1.39it/s]"
     ]
    },
    {
     "name": "stdout",
     "output_type": "stream",
     "text": [
      "10.823586315912614\n",
      "10.815075506724902\n",
      "10.815013143550525\n",
      "10.817927372753445\n",
      "10.817294494234867\n",
      "10.814985144029722\n",
      "10.82388688995749\n",
      "10.821022194794034\n",
      "10.822300876606166\n",
      "10.820902329487572\n",
      "10.824883221731069\n",
      "10.815845396976481\n"
     ]
    },
    {
     "name": "stderr",
     "output_type": "stream",
     "text": [
      " 22%|██▏       | 221/1000 [02:56<09:33,  1.36it/s]"
     ]
    },
    {
     "name": "stdout",
     "output_type": "stream",
     "text": [
      "10.82175178778589\n",
      "10.821391714173133\n",
      "10.819480377308107\n",
      "10.814575018597267\n",
      "10.822305937066375\n",
      "10.823597111063018\n",
      "10.81723400230279\n",
      "10.818194993626957\n",
      "10.822049399328739\n",
      "10.821311563408837\n",
      "10.815722526521084\n",
      "10.81584935080352\n",
      "10.816989604490484\n",
      "10.821266340230892\n",
      "10.822619769077068\n",
      "10.82395675940351\n"
     ]
    },
    {
     "name": "stderr",
     "output_type": "stream",
     "text": [
      " 22%|██▏       | 222/1000 [02:56<09:30,  1.36it/s]"
     ]
    },
    {
     "name": "stdout",
     "output_type": "stream",
     "text": [
      "10.821115224000414\n",
      "10.822630699455734\n",
      "10.814776855246954\n",
      "10.823405200623585\n",
      "10.825111214835658\n",
      "10.821660740519713\n",
      "10.822114783612014\n",
      "10.81976254413067\n",
      "10.816287911039343\n",
      "10.817305465470739\n",
      "10.824418317518196\n",
      "10.818497800000015\n"
     ]
    },
    {
     "name": "stderr",
     "output_type": "stream",
     "text": [
      " 22%|██▏       | 223/1000 [02:57<09:27,  1.37it/s]"
     ]
    },
    {
     "name": "stdout",
     "output_type": "stream",
     "text": [
      "10.825480643068532\n",
      "10.823070887976552\n",
      "10.820449043636785\n",
      "10.81955793397133\n",
      "10.824791538831755\n",
      "10.825573282003326\n",
      "10.81557784996327\n",
      "10.822051721802836\n",
      "10.816895368532206\n",
      "10.81728829554794\n",
      "10.815653793849135\n",
      "10.818374841163592\n",
      "10.822379805608021\n",
      "10.81840863483956\n",
      "10.819670878582453\n",
      "10.821246748589873\n"
     ]
    },
    {
     "name": "stderr",
     "output_type": "stream",
     "text": [
      " 22%|██▏       | 224/1000 [02:58<09:49,  1.32it/s]"
     ]
    },
    {
     "name": "stdout",
     "output_type": "stream",
     "text": [
      "10.821900174230457\n",
      "10.825463421211266\n",
      "10.822343301703155\n",
      "10.820911368425122\n",
      "10.822454287820559\n",
      "10.8216180751245\n",
      "10.819372035949069\n",
      "10.820665889591599\n",
      "10.825611570972312\n",
      "10.814547181768955\n",
      "10.817381966022937\n",
      "10.821849574962139\n",
      "10.821590005548\n",
      "10.814921097533785\n",
      "10.81822973711794\n",
      "10.815315645968191\n",
      "10.821246407288342\n",
      "10.821583091929915\n",
      "10.823891412052781\n"
     ]
    },
    {
     "name": "stderr",
     "output_type": "stream",
     "text": [
      " 22%|██▎       | 225/1000 [02:59<10:37,  1.22it/s]"
     ]
    },
    {
     "name": "stdout",
     "output_type": "stream",
     "text": [
      "10.817037730200292\n",
      "10.818129417289871\n",
      "10.820351402601519\n",
      "10.822964999730988\n",
      "10.817173932687203\n",
      "10.822774117429079\n",
      "10.82350506766234\n",
      "10.82172261643129\n",
      "10.819402563975496\n",
      "10.822733630990998\n",
      "10.816051410295882\n",
      "10.81895482744796\n"
     ]
    },
    {
     "name": "stderr",
     "output_type": "stream",
     "text": [
      " 23%|██▎       | 226/1000 [03:00<10:27,  1.23it/s]"
     ]
    },
    {
     "name": "stdout",
     "output_type": "stream",
     "text": [
      "10.823264942500755\n",
      "10.816845112004879\n",
      "10.821730999167464\n",
      "10.821733989774424\n",
      "10.825118057414771\n",
      "10.819536109961915\n",
      "10.825218855042884\n",
      "10.820307741615727\n",
      "10.818971636584504\n",
      "10.818739644342054\n",
      "10.81792807043495\n",
      "10.81459767845404\n",
      "10.823986523279489\n",
      "10.815223423446373\n",
      "10.817608564489655\n",
      "10.824420102008053\n"
     ]
    },
    {
     "name": "stderr",
     "output_type": "stream",
     "text": [
      " 23%|██▎       | 227/1000 [03:01<10:12,  1.26it/s]"
     ]
    },
    {
     "name": "stdout",
     "output_type": "stream",
     "text": [
      "10.82118678221808\n",
      "10.816445718122305\n",
      "10.817304211935431\n",
      "10.819477897507959\n",
      "10.814238235862208\n",
      "10.816284811186275\n",
      "10.824281966509549\n",
      "10.82127669191518\n",
      "10.815204173791436\n",
      "10.816240531127843\n",
      "10.82447357681356\n",
      "10.825822053823462\n"
     ]
    },
    {
     "name": "stderr",
     "output_type": "stream",
     "text": [
      " 23%|██▎       | 228/1000 [03:01<09:54,  1.30it/s]"
     ]
    },
    {
     "name": "stdout",
     "output_type": "stream",
     "text": [
      "10.824526612833832\n",
      "10.818141092679236\n",
      "10.820662750873286\n",
      "10.814966703325426\n",
      "10.817124625226382\n",
      "10.825160513128985\n",
      "10.825033262783563\n",
      "10.82072705104717\n",
      "10.82082985561024\n",
      "10.816168034500727\n",
      "10.821706115258337\n",
      "10.824093898611233\n"
     ]
    },
    {
     "name": "stderr",
     "output_type": "stream",
     "text": [
      " 23%|██▎       | 229/1000 [03:02<09:24,  1.37it/s]"
     ]
    },
    {
     "name": "stdout",
     "output_type": "stream",
     "text": [
      "10.818977247422172\n",
      "10.823850206836747\n",
      "10.822317779030648\n",
      "10.818763497579688\n",
      "10.817914604553351\n",
      "10.815998736481856\n",
      "10.82207179204124\n",
      "10.82094905782967\n",
      "10.823057505406071\n",
      "10.821086149281209\n",
      "10.817922056606454\n",
      "10.817265008243897\n"
     ]
    },
    {
     "name": "stderr",
     "output_type": "stream",
     "text": [
      " 23%|██▎       | 230/1000 [03:03<09:16,  1.38it/s]"
     ]
    },
    {
     "name": "stdout",
     "output_type": "stream",
     "text": [
      "10.823846293775192\n",
      "10.824914698656231\n",
      "10.817611908802862\n",
      "10.821420066636543\n",
      "10.820146114741018\n",
      "10.816828048044341\n",
      "10.813335102597565\n",
      "10.818838099557956\n",
      "10.825061668711372\n",
      "10.818311902447768\n",
      "10.820472888456733\n",
      "10.818465890073332\n",
      "10.823808622465144\n",
      "10.815691346179012\n",
      "10.816227305541563\n",
      "10.819697926392783\n"
     ]
    },
    {
     "name": "stderr",
     "output_type": "stream",
     "text": [
      " 23%|██▎       | 231/1000 [03:04<10:31,  1.22it/s]"
     ]
    },
    {
     "name": "stdout",
     "output_type": "stream",
     "text": [
      "10.822073386714788\n",
      "10.81646142528308\n",
      "10.817917082538932\n",
      "10.817206027658541\n",
      "10.82594429367721\n",
      "10.8166052694077\n",
      "10.819060277533918\n",
      "10.818972278628774\n",
      "10.818843363872293\n",
      "10.820848490328641\n",
      "10.815962044309199\n",
      "10.82384096740515\n"
     ]
    },
    {
     "name": "stderr",
     "output_type": "stream",
     "text": [
      " 23%|██▎       | 232/1000 [03:04<10:15,  1.25it/s]"
     ]
    },
    {
     "name": "stdout",
     "output_type": "stream",
     "text": [
      "10.813844183472405\n",
      "10.81954282107713\n",
      "10.825232023536493\n",
      "10.82112574824662\n",
      "10.816132382790475\n",
      "10.820070729538898\n",
      "10.817918749147347\n",
      "10.821626755434018\n",
      "10.825245495288748\n",
      "10.816211558049352\n",
      "10.819685627648282\n",
      "10.825060915940005\n",
      "10.825171886082705\n",
      "10.818393690131714\n",
      "10.816512534160326\n",
      "10.81382324265247\n",
      "10.816494887543305\n",
      "10.822236449598268\n",
      "10.814632821961471\n",
      "10.819067462997182\n"
     ]
    },
    {
     "name": "stderr",
     "output_type": "stream",
     "text": [
      " 23%|██▎       | 233/1000 [03:05<11:00,  1.16it/s]"
     ]
    },
    {
     "name": "stdout",
     "output_type": "stream",
     "text": [
      "10.81955982354025\n",
      "10.818255644659015\n",
      "10.820353549941471\n",
      "10.823516020532999\n",
      "10.816498542832038\n",
      "10.816117080763885\n",
      "10.818563862270327\n",
      "10.824969404814583\n",
      "10.825225038856368\n",
      "10.820018927703076\n",
      "10.82066280892509\n",
      "10.813482500871928\n",
      "10.821977859341246\n",
      "10.819376726670766\n",
      "10.817639640099841\n"
     ]
    },
    {
     "name": "stderr",
     "output_type": "stream",
     "text": [
      " 23%|██▎       | 234/1000 [03:06<11:01,  1.16it/s]"
     ]
    },
    {
     "name": "stdout",
     "output_type": "stream",
     "text": [
      "10.820202236946427\n",
      "10.820490171786524\n",
      "10.821975698222623\n",
      "10.822716036996564\n",
      "10.818200446780628\n",
      "10.816334488116816\n",
      "10.82213866849242\n",
      "10.820522993686689\n"
     ]
    },
    {
     "name": "stderr",
     "output_type": "stream",
     "text": [
      " 24%|██▎       | 235/1000 [03:07<09:44,  1.31it/s]"
     ]
    },
    {
     "name": "stdout",
     "output_type": "stream",
     "text": [
      "10.821745680402444\n",
      "10.822393573809398\n",
      "10.822355275224886\n",
      "10.81826682284264\n",
      "10.820700810078172\n",
      "10.823787825600899\n",
      "10.813375755091254\n",
      "10.825308176807619\n",
      "10.821343796389886\n",
      "10.82161918391091\n",
      "10.824284813943516\n",
      "10.824580138144128\n"
     ]
    },
    {
     "name": "stderr",
     "output_type": "stream",
     "text": [
      " 24%|██▎       | 236/1000 [03:07<09:15,  1.38it/s]"
     ]
    },
    {
     "name": "stdout",
     "output_type": "stream",
     "text": [
      "10.817570250425298\n",
      "10.824145575831055\n",
      "10.821681411133476\n",
      "10.822564111012731\n",
      "10.820727480313003\n",
      "10.819757430138782\n",
      "10.821518646272352\n",
      "10.822977973285845\n",
      "10.821364059543688\n",
      "10.824922248984397\n",
      "10.816744353569707\n",
      "10.824141494384826\n",
      "10.817921924158131\n",
      "10.817335615841465\n",
      "10.823180210765182\n",
      "10.816958675764289\n"
     ]
    },
    {
     "name": "stderr",
     "output_type": "stream",
     "text": [
      " 24%|██▎       | 237/1000 [03:08<09:42,  1.31it/s]"
     ]
    },
    {
     "name": "stdout",
     "output_type": "stream",
     "text": [
      "10.817052163791486\n",
      "10.823921577571516\n",
      "10.815758693839475\n",
      "10.8241409630642\n",
      "10.819797810286154\n",
      "10.816716737792978\n",
      "10.819186682379938\n",
      "10.816280813417436\n",
      "10.821596117088134\n",
      "10.814128580341741\n",
      "10.823391192007907\n",
      "10.825024827602991\n",
      "10.821562954085769\n",
      "10.817171184938958\n",
      "10.82440104601488\n",
      "10.816044498063217\n",
      "10.820023499248961\n",
      "10.823724790397874\n",
      "10.815635241183642\n",
      "10.821978546651962\n"
     ]
    },
    {
     "name": "stderr",
     "output_type": "stream",
     "text": [
      " 24%|██▍       | 238/1000 [03:09<10:16,  1.24it/s]"
     ]
    },
    {
     "name": "stdout",
     "output_type": "stream",
     "text": [
      "10.82348357530032\n",
      "10.819642747611674\n",
      "10.81624472431745\n",
      "10.82159764086019\n",
      "10.81527934226497\n",
      "10.822117481666314\n",
      "10.825018127780746\n",
      "10.82273244500689\n",
      "10.824935894420058\n",
      "10.817864367794357\n",
      "10.816520334608235\n",
      "10.821567915788822\n",
      "10.816750267441213\n",
      "10.824811996442474\n",
      "10.81512634514032\n",
      "10.823430848882888\n"
     ]
    },
    {
     "name": "stderr",
     "output_type": "stream",
     "text": [
      " 24%|██▍       | 239/1000 [03:10<10:50,  1.17it/s]"
     ]
    },
    {
     "name": "stdout",
     "output_type": "stream",
     "text": [
      "10.822677106214334\n",
      "10.815490476310236\n",
      "10.821836591677261\n",
      "10.819733029861371\n",
      "10.817575425951636\n",
      "10.82120623444121\n",
      "10.817472607100378\n",
      "10.819986607361036\n",
      "10.814129082669114\n",
      "10.822577309490562\n",
      "10.816851843212172\n",
      "10.824859041959867\n"
     ]
    },
    {
     "name": "stderr",
     "output_type": "stream",
     "text": [
      " 24%|██▍       | 240/1000 [03:11<10:13,  1.24it/s]"
     ]
    },
    {
     "name": "stdout",
     "output_type": "stream",
     "text": [
      "10.821739260528863\n",
      "10.82458178150354\n",
      "10.825113408276298\n",
      "10.82402704679252\n",
      "10.819024184020801\n",
      "10.819591767604674\n",
      "10.82378936905466\n",
      "10.816798457839456\n",
      "10.824917879937837\n",
      "10.822872987006903\n",
      "10.820824496153811\n",
      "10.817395504469673\n",
      "10.820642373798245\n",
      "10.819822349912348\n",
      "10.816737201635206\n",
      "10.824588541142136\n"
     ]
    },
    {
     "name": "stderr",
     "output_type": "stream",
     "text": [
      " 24%|██▍       | 241/1000 [03:12<10:09,  1.24it/s]"
     ]
    },
    {
     "name": "stdout",
     "output_type": "stream",
     "text": [
      "10.825048432481896\n",
      "10.825173810685822\n",
      "10.824167530014012\n",
      "10.816300449581938\n",
      "10.821434142371572\n",
      "10.818461458186006\n",
      "10.822423839694562\n",
      "10.816987556750925\n",
      "10.817301876228107\n",
      "10.822609831944947\n",
      "10.82461619724521\n",
      "10.824428830074067\n",
      "10.814283641684176\n",
      "10.818725717965899\n",
      "10.817529510365574\n",
      "10.82504743313352\n",
      "10.81337817061093\n",
      "10.822274660331475\n",
      "10.825046708555401\n"
     ]
    },
    {
     "name": "stderr",
     "output_type": "stream",
     "text": [
      " 24%|██▍       | 242/1000 [03:13<10:41,  1.18it/s]"
     ]
    },
    {
     "name": "stdout",
     "output_type": "stream",
     "text": [
      "10.819856358771391\n",
      "10.816249642708076\n",
      "10.81806577591305\n",
      "10.818907687715297\n",
      "10.815520745672591\n",
      "10.824915349589098\n",
      "10.818784115170512\n",
      "10.823502583684794\n",
      "10.816761527894606\n",
      "10.819810783215303\n",
      "10.815852185140956\n",
      "10.822507145813054\n"
     ]
    },
    {
     "name": "stderr",
     "output_type": "stream",
     "text": [
      " 24%|██▍       | 243/1000 [03:13<10:26,  1.21it/s]"
     ]
    },
    {
     "name": "stdout",
     "output_type": "stream",
     "text": [
      "10.82249400614863\n",
      "10.817060710138621\n",
      "10.818537284288663\n",
      "10.818036650798133\n",
      "10.822719449023532\n",
      "10.818092641033275\n",
      "10.817034266040375\n",
      "10.815569845057059\n",
      "10.822255823777168\n",
      "10.823163763478723\n",
      "10.822631176028775\n",
      "10.819090177869356\n",
      "10.82005976662215\n",
      "10.821245266220759\n",
      "10.820121049516914\n",
      "10.824221415366674\n",
      "10.817129474199405\n",
      "10.824552321000567\n",
      "10.816402128094284\n",
      "10.823370347096134\n"
     ]
    },
    {
     "name": "stderr",
     "output_type": "stream",
     "text": [
      " 24%|██▍       | 244/1000 [03:14<11:01,  1.14it/s]"
     ]
    },
    {
     "name": "stdout",
     "output_type": "stream",
     "text": [
      "10.817135024782344\n",
      "10.820653439952162\n",
      "10.817903833735524\n",
      "10.815971166511266\n",
      "10.825157020464172\n",
      "10.823487971174673\n",
      "10.818472001541878\n",
      "10.818848359102764\n",
      "10.816692684316731\n",
      "10.818425617449618\n",
      "10.824178661642238\n",
      "10.820084776592234\n"
     ]
    },
    {
     "name": "stderr",
     "output_type": "stream",
     "text": [
      " 24%|██▍       | 245/1000 [03:15<10:30,  1.20it/s]"
     ]
    },
    {
     "name": "stdout",
     "output_type": "stream",
     "text": [
      "10.824257832232599\n",
      "10.822108124365899\n",
      "10.81511291401495\n",
      "10.825235438207633\n",
      "10.81849787143042\n",
      "10.815718943428703\n",
      "10.81386574920365\n",
      "10.82192476603362\n",
      "10.825083338905419\n",
      "10.82318360506548\n",
      "10.817543046532457\n",
      "10.81749282951856\n",
      "10.822440993974771\n",
      "10.819234076732757\n",
      "10.820544683929327\n",
      "10.819115875448894\n"
     ]
    },
    {
     "name": "stderr",
     "output_type": "stream",
     "text": [
      " 25%|██▍       | 246/1000 [03:16<10:15,  1.22it/s]"
     ]
    },
    {
     "name": "stdout",
     "output_type": "stream",
     "text": [
      "10.818283761555529\n",
      "10.819490412220247\n",
      "10.816551083943\n",
      "10.820346963352247\n",
      "10.819766790456043\n",
      "10.823530637301522\n",
      "10.817665393616213\n",
      "10.818229835158254\n",
      "10.825350308064339\n",
      "10.816305397397874\n",
      "10.823149627418212\n"
     ]
    },
    {
     "name": "stderr",
     "output_type": "stream",
     "text": [
      " 25%|██▍       | 247/1000 [03:17<10:07,  1.24it/s]"
     ]
    },
    {
     "name": "stdout",
     "output_type": "stream",
     "text": [
      "10.821219773385868\n",
      "10.824901956363021\n",
      "10.81781271013379\n",
      "10.81626606169502\n",
      "10.819401581205867\n",
      "10.816486496670896\n",
      "10.815850658315268\n",
      "10.823425454920207\n",
      "10.824124063782202\n",
      "10.823979828122976\n",
      "10.819214075242495\n",
      "10.816144843373584\n",
      "10.82507406438689\n",
      "10.815566952092587\n",
      "10.823255691663016\n",
      "10.820875240678776\n",
      "10.82308831865505\n",
      "10.824604635351895\n",
      "10.822630001471344\n"
     ]
    },
    {
     "name": "stderr",
     "output_type": "stream",
     "text": [
      " 25%|██▍       | 248/1000 [03:18<11:03,  1.13it/s]"
     ]
    },
    {
     "name": "stdout",
     "output_type": "stream",
     "text": [
      "10.81660242560634\n",
      "10.816939881504355\n",
      "10.825139899645993\n",
      "10.819896480542495\n",
      "10.8231115707605\n",
      "10.820539050789664\n",
      "10.82410121164936\n",
      "10.817466080102225\n",
      "10.816168451366574\n",
      "10.818350008023662\n",
      "10.821577767690934\n",
      "10.813882006800647\n",
      "10.823995148116722\n",
      "10.816629044631766\n"
     ]
    },
    {
     "name": "stderr",
     "output_type": "stream",
     "text": [
      " 25%|██▍       | 249/1000 [03:19<11:13,  1.11it/s]"
     ]
    },
    {
     "name": "stdout",
     "output_type": "stream",
     "text": [
      "10.824070750602543\n",
      "10.817753983451064\n",
      "10.815476897407562\n",
      "10.82418608732201\n",
      "10.818391975560191\n",
      "10.824118810980023\n",
      "10.815465970268924\n",
      "10.823151894465992\n",
      "10.824405980370528\n",
      "10.813612910270026\n",
      "10.817871526151224\n",
      "10.821095886903999\n",
      "10.816478349407003\n",
      "10.824334136317352\n",
      "10.823985253883082\n",
      "10.818164602496758\n"
     ]
    },
    {
     "name": "stderr",
     "output_type": "stream",
     "text": [
      " 25%|██▌       | 250/1000 [03:19<10:57,  1.14it/s]"
     ]
    },
    {
     "name": "stdout",
     "output_type": "stream",
     "text": [
      "10.816502832668853\n",
      "10.82449313695082\n",
      "10.814410503981765\n",
      "10.81850944628565\n",
      "10.818020906913183\n",
      "10.824493288446302\n",
      "10.824394787034436\n",
      "10.823259194180375\n",
      "10.814681062512966\n",
      "10.814110683076606\n",
      "10.81539043631636\n",
      "10.816329783430197\n",
      "10.818194928020107\n",
      "10.82461666812025\n",
      "10.815862942854599\n",
      "10.82158111852789\n"
     ]
    },
    {
     "name": "stderr",
     "output_type": "stream",
     "text": [
      " 25%|██▌       | 251/1000 [03:20<10:50,  1.15it/s]"
     ]
    },
    {
     "name": "stdout",
     "output_type": "stream",
     "text": [
      "10.818967956226567\n",
      "10.822298376359582\n",
      "10.817192332225316\n",
      "10.8194762170766\n",
      "10.818531155100704\n",
      "10.824005025282506\n",
      "10.823950358801316\n",
      "10.817669032221058\n",
      "10.814722698266207\n",
      "10.814785088522385\n",
      "10.824228687867192\n",
      "10.817774919369256\n"
     ]
    },
    {
     "name": "stderr",
     "output_type": "stream",
     "text": [
      " 25%|██▌       | 252/1000 [03:21<10:11,  1.22it/s]"
     ]
    },
    {
     "name": "stdout",
     "output_type": "stream",
     "text": [
      "10.813985913224775\n",
      "10.823512449848959\n",
      "10.824698121684369\n",
      "10.822895697683604\n",
      "10.816821952673612\n",
      "10.821915806211202\n",
      "10.82103804743963\n",
      "10.824506250316043\n",
      "10.818209885700025\n",
      "10.819599178003438\n",
      "10.818284338007375\n",
      "10.820488773931709\n",
      "10.815205862711156\n",
      "10.81662286905028\n",
      "10.814141053790333\n",
      "10.823375910398287\n"
     ]
    },
    {
     "name": "stderr",
     "output_type": "stream",
     "text": [
      " 25%|██▌       | 253/1000 [03:22<10:10,  1.22it/s]"
     ]
    },
    {
     "name": "stdout",
     "output_type": "stream",
     "text": [
      "10.814947991154678\n",
      "10.820453982431337\n",
      "10.819869029136353\n",
      "10.825122547325565\n",
      "10.813805797374073\n",
      "10.824205832144711\n",
      "10.820680765834327\n",
      "10.818139692143795\n",
      "10.823016195665367\n",
      "10.813982825937128\n",
      "10.824196374900605\n",
      "10.815230983420244\n",
      "10.815688097449318\n",
      "10.823171842664758\n",
      "10.81500845173428\n"
     ]
    },
    {
     "name": "stderr",
     "output_type": "stream",
     "text": [
      " 25%|██▌       | 254/1000 [03:23<10:42,  1.16it/s]"
     ]
    },
    {
     "name": "stdout",
     "output_type": "stream",
     "text": [
      "10.818379396715605\n",
      "10.815789626472684\n",
      "10.824102448767002\n",
      "10.815066383664387\n",
      "10.817040909978465\n",
      "10.81931576050073\n",
      "10.823120807399071\n",
      "10.823949400627368\n",
      "10.821034874760349\n",
      "10.821125815832001\n",
      "10.813965756337202\n",
      "10.81864588699395\n"
     ]
    },
    {
     "name": "stderr",
     "output_type": "stream",
     "text": [
      " 26%|██▌       | 255/1000 [03:24<10:31,  1.18it/s]"
     ]
    },
    {
     "name": "stdout",
     "output_type": "stream",
     "text": [
      "10.813585829295821\n",
      "10.824196128510456\n",
      "10.815899043846647\n",
      "10.822377196718653\n",
      "10.816613228899955\n",
      "10.81392903668824\n",
      "10.824227325555258\n",
      "10.821894364142697\n",
      "10.823079127966905\n",
      "10.813330480617045\n",
      "10.8180525908243\n",
      "10.821209417657727\n",
      "10.82402594777296\n",
      "10.819158244936732\n",
      "10.815606202599966\n",
      "10.824803754728562\n"
     ]
    },
    {
     "name": "stderr",
     "output_type": "stream",
     "text": [
      " 26%|██▌       | 256/1000 [03:24<10:21,  1.20it/s]"
     ]
    },
    {
     "name": "stdout",
     "output_type": "stream",
     "text": [
      "10.81454704902793\n",
      "10.81517868770138\n",
      "10.823136385164682\n",
      "10.819885772734997\n",
      "10.820156188680624\n",
      "10.824047729553298\n",
      "10.817961029901301\n",
      "10.81441937952714\n",
      "10.819908380242943\n",
      "10.815184646438233\n",
      "10.818788394756536\n",
      "10.820778680493875\n",
      "10.818698775446583\n",
      "10.82228847317635\n",
      "10.822732364832993\n",
      "10.82304679657774\n"
     ]
    },
    {
     "name": "stderr",
     "output_type": "stream",
     "text": [
      " 26%|██▌       | 257/1000 [03:25<10:12,  1.21it/s]"
     ]
    },
    {
     "name": "stdout",
     "output_type": "stream",
     "text": [
      "10.824381036026091\n",
      "10.822417766206637\n",
      "10.816601315910242\n",
      "10.817936685676212\n",
      "10.814823668603466\n",
      "10.81474900690809\n",
      "10.821643354961136\n",
      "10.821167987428298\n",
      "10.814009116234985\n",
      "10.818577215459824\n",
      "10.818768620126253\n",
      "10.817001414591491\n",
      "10.822176698598728\n",
      "10.819181484083689\n",
      "10.823145008562756\n",
      "10.822984561051108\n"
     ]
    },
    {
     "name": "stderr",
     "output_type": "stream",
     "text": [
      " 26%|██▌       | 258/1000 [03:26<10:13,  1.21it/s]"
     ]
    },
    {
     "name": "stdout",
     "output_type": "stream",
     "text": [
      "10.82503524409806\n",
      "10.824042407627347\n",
      "10.820560709095869\n",
      "10.818592985572659\n",
      "10.820698046934428\n",
      "10.816231668188156\n",
      "10.820417461547356\n",
      "10.821414580706023\n",
      "10.814544598462934\n",
      "10.819289111543844\n",
      "10.817029149391958\n",
      "10.815636541814628\n",
      "10.818060202724475\n",
      "10.816134265475402\n",
      "10.823352046708123\n",
      "10.821295046692695\n"
     ]
    },
    {
     "name": "stderr",
     "output_type": "stream",
     "text": [
      " 26%|██▌       | 259/1000 [03:27<10:02,  1.23it/s]"
     ]
    },
    {
     "name": "stdout",
     "output_type": "stream",
     "text": [
      "10.817337815104512\n",
      "10.820507856757748\n",
      "10.817082614584267\n",
      "10.818161003806287\n",
      "10.820509428601202\n",
      "10.815495804655443\n",
      "10.822228366091677\n",
      "10.824471666919022\n",
      "10.81429267978276\n",
      "10.817010977100765\n",
      "10.81845589847415\n",
      "10.824034154373528\n",
      "10.815015108203905\n",
      "10.820337619935655\n",
      "10.82021468165864\n",
      "10.825230193018758\n"
     ]
    },
    {
     "name": "stderr",
     "output_type": "stream",
     "text": [
      " 26%|██▌       | 260/1000 [03:28<10:18,  1.20it/s]"
     ]
    },
    {
     "name": "stdout",
     "output_type": "stream",
     "text": [
      "10.824520899662302\n",
      "10.820389765550077\n",
      "10.817563789533915\n",
      "10.814015963067598\n",
      "10.81814079505425\n",
      "10.818155076515596\n",
      "10.824793307037408\n",
      "10.815599770729854\n",
      "10.822483305452321\n",
      "10.817513997810808\n",
      "10.823164704229422\n",
      "10.819375785502254\n",
      "10.818153142958879\n",
      "10.814641985650702\n",
      "10.820330323880398\n",
      "10.825275634233911\n"
     ]
    },
    {
     "name": "stderr",
     "output_type": "stream",
     "text": [
      " 26%|██▌       | 261/1000 [03:29<10:29,  1.17it/s]"
     ]
    },
    {
     "name": "stdout",
     "output_type": "stream",
     "text": [
      "10.824412455341484\n",
      "10.825644258300722\n",
      "10.824416275759614\n",
      "10.81844573754135\n",
      "10.820505358130053\n",
      "10.818128364088789\n",
      "10.821857801672111\n",
      "10.816717944718766\n",
      "10.814765540036579\n",
      "10.823084275389826\n",
      "10.82004068549085\n",
      "10.81377361056854\n",
      "10.81913201478525\n",
      "10.819421882086699\n",
      "10.82323792576447\n",
      "10.818547252158778\n"
     ]
    },
    {
     "name": "stderr",
     "output_type": "stream",
     "text": [
      " 26%|██▌       | 262/1000 [03:30<10:36,  1.16it/s]"
     ]
    },
    {
     "name": "stdout",
     "output_type": "stream",
     "text": [
      "10.82364462593587\n",
      "10.824717219774843\n",
      "10.825753332332487\n",
      "10.818375750598364\n",
      "10.820988616701204\n",
      "10.822062879262031\n",
      "10.814619287340923\n",
      "10.820340237079003\n",
      "10.82067803207672\n",
      "10.81735951892472\n",
      "10.825889733133353\n",
      "10.824925229337754\n",
      "10.82467588406388\n",
      "10.813819795327182\n",
      "10.817971245277192\n",
      "10.81761491978288\n",
      "10.825158741867563\n",
      "10.825626797303284\n",
      "10.823253179022206\n",
      "10.825742888091852\n"
     ]
    },
    {
     "name": "stderr",
     "output_type": "stream",
     "text": [
      " 26%|██▋       | 263/1000 [03:30<10:53,  1.13it/s]"
     ]
    },
    {
     "name": "stdout",
     "output_type": "stream",
     "text": [
      "10.82101595731355\n",
      "10.818620648142417\n",
      "10.825189882153442\n",
      "10.816671141219414\n",
      "10.821630564806721\n",
      "10.817946592587342\n",
      "10.81813841461635\n",
      "10.82545136205225\n"
     ]
    },
    {
     "name": "stderr",
     "output_type": "stream",
     "text": [
      " 26%|██▋       | 264/1000 [03:31<09:42,  1.26it/s]"
     ]
    },
    {
     "name": "stdout",
     "output_type": "stream",
     "text": [
      "10.813457652459293\n",
      "10.81595248918256\n",
      "10.824208052655674\n",
      "10.821952559330166\n",
      "10.818419420106155\n",
      "10.814095229111452\n",
      "10.82112100232625\n",
      "10.819536960703344\n",
      "10.816374053780168\n",
      "10.824886497830907\n",
      "10.816065210366807\n",
      "10.825292230709293\n",
      "10.819179124351198\n",
      "10.81862988243194\n",
      "10.815228838545876\n",
      "10.82041546165512\n",
      "10.819297096302227\n",
      "10.825776633213323\n",
      "10.821860780150175\n",
      "10.823227860222348\n"
     ]
    },
    {
     "name": "stderr",
     "output_type": "stream",
     "text": [
      " 26%|██▋       | 265/1000 [03:32<10:15,  1.19it/s]"
     ]
    },
    {
     "name": "stdout",
     "output_type": "stream",
     "text": [
      "10.82464146995149\n",
      "10.823272012733737\n",
      "10.814651231815937\n",
      "10.818957614988753\n",
      "10.816422275321132\n",
      "10.820454025374913\n",
      "10.82154097555863\n",
      "10.823570083750313\n",
      "10.823793660397367\n",
      "10.818965533228896\n",
      "10.814099125740103\n",
      "10.815438198760761\n",
      "10.820024395537438\n",
      "10.819652416715074\n",
      "10.825554665905633\n",
      "10.825250112313869\n"
     ]
    },
    {
     "name": "stderr",
     "output_type": "stream",
     "text": [
      " 27%|██▋       | 266/1000 [03:33<10:02,  1.22it/s]"
     ]
    },
    {
     "name": "stdout",
     "output_type": "stream",
     "text": [
      "10.81461674349405\n",
      "10.816892796352723\n",
      "10.820258786197154\n",
      "10.82491674676151\n",
      "10.814080986437427\n",
      "10.821786585486706\n",
      "10.82321062969336\n",
      "10.817946069463613\n",
      "10.81763615001554\n",
      "10.814976527573256\n",
      "10.81936755344998\n",
      "10.823627286870463\n"
     ]
    },
    {
     "name": "stderr",
     "output_type": "stream",
     "text": [
      " 27%|██▋       | 267/1000 [03:33<09:21,  1.31it/s]"
     ]
    },
    {
     "name": "stdout",
     "output_type": "stream",
     "text": [
      "10.8149489694475\n",
      "10.820552660979253\n",
      "10.815073657440221\n",
      "10.825181258144971\n",
      "10.825501811921255\n",
      "10.817006659083594\n",
      "10.816019025539754\n",
      "10.814965712352574\n",
      "10.81852460971203\n",
      "10.825159792278557\n",
      "10.820289707785147\n",
      "10.82353415913727\n"
     ]
    },
    {
     "name": "stderr",
     "output_type": "stream",
     "text": [
      " 27%|██▋       | 268/1000 [03:34<09:03,  1.35it/s]"
     ]
    },
    {
     "name": "stdout",
     "output_type": "stream",
     "text": [
      "10.820047854834469\n",
      "10.81898733410871\n",
      "10.817578972452877\n",
      "10.814427996638257\n",
      "10.825086316413602\n",
      "10.821053332432585\n",
      "10.825042307336771\n",
      "10.823118434809755\n",
      "10.82014972956556\n",
      "10.82272238545959\n",
      "10.819603937013673\n",
      "10.81709057905278\n",
      "10.816894726450082\n",
      "10.815003013109854\n",
      "10.824971042204199\n",
      "10.82230903429176\n"
     ]
    },
    {
     "name": "stderr",
     "output_type": "stream",
     "text": [
      " 27%|██▋       | 269/1000 [03:35<09:24,  1.29it/s]"
     ]
    },
    {
     "name": "stdout",
     "output_type": "stream",
     "text": [
      "10.825296369567702\n",
      "10.822517584009095\n",
      "10.817014840131614\n",
      "10.824487328259073\n",
      "10.825179919998154\n",
      "10.822508729572972\n",
      "10.823805979774455\n",
      "10.820165963109423\n",
      "10.819479620736931\n",
      "10.81767641323917\n",
      "10.817723374796762\n",
      "10.824933363066458\n"
     ]
    },
    {
     "name": "stderr",
     "output_type": "stream",
     "text": [
      " 27%|██▋       | 270/1000 [03:36<09:05,  1.34it/s]"
     ]
    },
    {
     "name": "stdout",
     "output_type": "stream",
     "text": [
      "10.824547346940891\n",
      "10.819000466163626\n",
      "10.820346548282\n",
      "10.819224044344258\n",
      "10.818943548040618\n",
      "10.816022074795082\n",
      "10.823304658246908\n",
      "10.825688016124586\n",
      "10.825328737828482\n",
      "10.825345809779515\n",
      "10.82105731737999\n",
      "10.817771715903005\n",
      "10.815263530108837\n",
      "10.82482792037001\n",
      "10.825224039442213\n",
      "10.814081205942797\n"
     ]
    },
    {
     "name": "stderr",
     "output_type": "stream",
     "text": [
      " 27%|██▋       | 271/1000 [03:36<09:26,  1.29it/s]"
     ]
    },
    {
     "name": "stdout",
     "output_type": "stream",
     "text": [
      "10.823714171217004\n",
      "10.818986073018106\n",
      "10.820938158185264\n",
      "10.821869442631321\n",
      "10.81640871677867\n",
      "10.824506332997672\n",
      "10.825039589780122\n",
      "10.815219095368212\n",
      "10.825678853724787\n",
      "10.823687677844903\n",
      "10.819588038161008\n",
      "10.8162299925252\n",
      "10.815107644739753\n",
      "10.82323251629796\n",
      "10.825088681128623\n",
      "10.820643715413775\n"
     ]
    },
    {
     "name": "stderr",
     "output_type": "stream",
     "text": [
      " 27%|██▋       | 272/1000 [03:37<09:39,  1.26it/s]"
     ]
    },
    {
     "name": "stdout",
     "output_type": "stream",
     "text": [
      "10.824831593675016\n",
      "10.816931061806912\n",
      "10.81830730798444\n",
      "10.820800891539507\n",
      "10.820496154925998\n",
      "10.815409722244285\n",
      "10.815596684924078\n",
      "10.824254005400435\n",
      "10.82511384987489\n",
      "10.820432478481095\n",
      "10.820381935787218\n",
      "10.814212479397536\n",
      "10.816044341077419\n",
      "10.823914216353002\n",
      "10.813977823033397\n",
      "10.824770952072244\n"
     ]
    },
    {
     "name": "stderr",
     "output_type": "stream",
     "text": [
      " 27%|██▋       | 273/1000 [03:38<09:45,  1.24it/s]"
     ]
    },
    {
     "name": "stdout",
     "output_type": "stream",
     "text": [
      "10.825477158917309\n",
      "10.82440295886719\n",
      "10.82098368068202\n",
      "10.816208358526886\n",
      "10.815143090948116\n",
      "10.821923402265687\n",
      "10.820440048450717\n",
      "10.824549725007715\n",
      "10.818403045767583\n",
      "10.823763748420165\n",
      "10.820542862783915\n",
      "10.815100551097103\n",
      "10.820086041734575\n",
      "10.823394907727822\n",
      "10.815875294575005\n",
      "10.824187568261495\n"
     ]
    },
    {
     "name": "stderr",
     "output_type": "stream",
     "text": [
      " 27%|██▋       | 274/1000 [03:39<09:26,  1.28it/s]"
     ]
    },
    {
     "name": "stdout",
     "output_type": "stream",
     "text": [
      "10.824236343572645\n",
      "10.815706707995924\n",
      "10.825144996691513\n",
      "10.813429602515718\n",
      "10.82096220324155\n",
      "10.814266135915155\n",
      "10.82405236169305\n",
      "10.821045449247721\n",
      "10.820997738473539\n",
      "10.819172092346664\n",
      "10.820989704246365\n",
      "10.816295733396228\n",
      "10.81473136171292\n",
      "10.821417946398952\n",
      "10.824984341264832\n",
      "10.825860549761288\n"
     ]
    },
    {
     "name": "stderr",
     "output_type": "stream",
     "text": [
      " 28%|██▊       | 275/1000 [03:40<09:59,  1.21it/s]"
     ]
    },
    {
     "name": "stdout",
     "output_type": "stream",
     "text": [
      "10.815186442165963\n",
      "10.822852385391744\n",
      "10.823463917033555\n",
      "10.814988963452299\n",
      "10.818307486676833\n",
      "10.822466200161832\n",
      "10.814558257169095\n",
      "10.823625615773583\n",
      "10.82033360893091\n",
      "10.81992913074441\n",
      "10.816152961982038\n",
      "10.816030703800491\n",
      "10.820425391888698\n",
      "10.816458569302043\n",
      "10.825534959413307\n",
      "10.822010474858264\n"
     ]
    },
    {
     "name": "stderr",
     "output_type": "stream",
     "text": [
      " 28%|██▊       | 276/1000 [03:41<09:58,  1.21it/s]"
     ]
    },
    {
     "name": "stdout",
     "output_type": "stream",
     "text": [
      "10.823948182046701\n",
      "10.824005355110312\n",
      "10.823236712824245\n",
      "10.814090420227613\n",
      "10.818254381467096\n",
      "10.814889924264234\n",
      "10.820681812038876\n",
      "10.818063813706187\n",
      "10.817639936091417\n",
      "10.820177196911954\n",
      "10.823622332219024\n",
      "10.821587455351422\n"
     ]
    },
    {
     "name": "stderr",
     "output_type": "stream",
     "text": [
      " 28%|██▊       | 277/1000 [03:41<09:34,  1.26it/s]"
     ]
    },
    {
     "name": "stdout",
     "output_type": "stream",
     "text": [
      "10.819771816296626\n",
      "10.824123952569623\n",
      "10.823844013748035\n",
      "10.817138219333575\n",
      "10.822780153550656\n",
      "10.814014192310937\n",
      "10.82029520009382\n",
      "10.81999361451993\n",
      "10.818601412087194\n",
      "10.8224687061314\n",
      "10.818934266683586\n",
      "10.820302703668382\n",
      "10.820116576686301\n",
      "10.814681773099052\n",
      "10.82209537564713\n",
      "10.823684674716997\n"
     ]
    },
    {
     "name": "stderr",
     "output_type": "stream",
     "text": [
      " 28%|██▊       | 278/1000 [03:42<09:07,  1.32it/s]"
     ]
    },
    {
     "name": "stdout",
     "output_type": "stream",
     "text": [
      "10.822741312460032\n",
      "10.814153979648289\n",
      "10.822031697942677\n",
      "10.821559769610113\n",
      "10.823566136934732\n",
      "10.81383747739079\n",
      "10.824230447220016\n",
      "10.820169191763688\n",
      "10.816027209782261\n",
      "10.816877331452206\n",
      "10.81845862385816\n",
      "10.823079133307875\n",
      "10.813343184796008\n",
      "10.819263302963504\n",
      "10.823335252886512\n",
      "10.823650988912739\n"
     ]
    },
    {
     "name": "stderr",
     "output_type": "stream",
     "text": [
      " 28%|██▊       | 279/1000 [03:43<09:21,  1.28it/s]"
     ]
    },
    {
     "name": "stdout",
     "output_type": "stream",
     "text": [
      "10.817693302232309\n",
      "10.82403794902518\n",
      "10.81749433876778\n",
      "10.823948950169415\n",
      "10.817358024219905\n",
      "10.823143175198126\n",
      "10.820513076227556\n",
      "10.822211603805318\n",
      "10.820931645464427\n",
      "10.814171820500182\n",
      "10.820206332813887\n",
      "10.821873008582028\n"
     ]
    },
    {
     "name": "stderr",
     "output_type": "stream",
     "text": [
      " 28%|██▊       | 280/1000 [03:43<08:47,  1.37it/s]"
     ]
    },
    {
     "name": "stdout",
     "output_type": "stream",
     "text": [
      "10.8226237420597\n",
      "10.823956565377749\n",
      "10.815885564190792\n",
      "10.818248239857057\n",
      "10.821772144283104\n",
      "10.821410553410116\n",
      "10.82383252284838\n",
      "10.819139783381232\n",
      "10.821815018142821\n",
      "10.818892132459734\n",
      "10.821543824367263\n",
      "10.822126033254078\n",
      "10.814197891651483\n",
      "10.819321552315136\n",
      "10.817297237610523\n",
      "10.81849627291316\n"
     ]
    },
    {
     "name": "stderr",
     "output_type": "stream",
     "text": [
      " 28%|██▊       | 281/1000 [03:44<09:09,  1.31it/s]"
     ]
    },
    {
     "name": "stdout",
     "output_type": "stream",
     "text": [
      "10.82139453748407\n",
      "10.814620586793096\n",
      "10.821128451783789\n",
      "10.823897938549408\n",
      "10.8176936022658\n",
      "10.823594105992001\n",
      "10.818516425023164\n",
      "10.818148764447637\n",
      "10.81903425622388\n",
      "10.813647030094616\n",
      "10.816841296454477\n",
      "10.8180157786632\n"
     ]
    }
   ],
   "source": [
    "\n",
    "prior = ProbDistContainer({\n",
    "    0: uniform_dist(1133944.869275098, 1135944.869275098),\n",
    "    1: uniform_dist(24.489999547765798, 34.489999547765798),\n",
    "})\n",
    "nwalkers = 20\n",
    "ndim = 2\n",
    "sampler = EnsembleSampler(nwalkers, ndim, partial(chi_squared_wrapper, data=data_injection, dt=dt, noise_factor=noise_factor), prior)\n",
    "\n",
    "\n",
    "start_point = prior.rvs(size=(1, nwalkers, 1))\n",
    "start_state = State(start_point)\n",
    "\n",
    "end_point = sampler.run_mcmc(start_state, 1000, progress=True)"
   ]
  },
  {
   "cell_type": "code",
   "execution_count": 75,
   "id": "be777011",
   "metadata": {},
   "outputs": [
    {
     "name": "stdout",
     "output_type": "stream",
     "text": [
      "\u001b[31mSignature:\u001b[39m prior.rvs(size=\u001b[32m1\u001b[39m, keys=\u001b[38;5;28;01mNone\u001b[39;00m)\n",
      "\u001b[31mDocstring:\u001b[39m\n",
      "Generate random values according to prior distribution\n",
      "\n",
      "The user will have to be careful if there are prior functions that\n",
      "do not have an ``rvs`` method. This means that generated points may lay\n",
      "inside the prior of all input priors that have ``rvs`` methods, but\n",
      "outside the prior if priors without the ``rvs`` method are included.\n",
      "\n",
      "Args:\n",
      "    size (int or tuple of ints, optional): Output size for number of generated\n",
      "        sources from prior distributions.\n",
      "    keys (list, optional): List of keys related to which parameters to generate.\n",
      "        They must exactly match the input keys for the ``priors_in`` dictionary for the ``__init__`` \n",
      "        function. If used, it will produce and output array of ``tuple(size) + (len(keys),)``. \n",
      "        Default is ``None``.\n",
      "\n",
      "Returns:\n",
      "    np.ndarray[``size + (self.ndim,)``]: Generated samples.\n",
      "\n",
      "Raises:\n",
      "    ValueError: If size is not an int or tuple.\n",
      "\u001b[31mFile:\u001b[39m      ~/opt/anaconda3/envs/latw_test/lib/python3.12/site-packages/eryn/prior.py\n",
      "\u001b[31mType:\u001b[39m      method"
     ]
    }
   ],
   "source": [
    "prior.rvs?"
   ]
  },
  {
   "cell_type": "code",
   "execution_count": 15,
   "id": "cedc58a5",
   "metadata": {},
   "outputs": [
    {
     "data": {
      "image/png": "[encoded data removed]",
      "text/plain": [
       "<Figure size 2000x600 with 3 Axes>"
      ]
     },
     "metadata": {},
     "output_type": "display_data"
    }
   ],
   "source": [
    "fig = plt.figure(figsize=(20, 6))\n",
    "gs = fig.add_gridspec(nrows=2, ncols=2, width_ratios=[1, 2], hspace=0, wspace=0.15)\n",
    "\n",
    "# Top-right subplot (2D)\n",
    "ax1 = fig.add_subplot(gs[0, 1])\n",
    "plt.setp(ax1.get_xticklabels(), visible=False)\n",
    "# Bottom-right subplot (2D), sharing the x-axis with ax1\n",
    "ax2 = fig.add_subplot(gs[1, 1], sharex=ax1)\n",
    "# Left subplot spanning both rows, set up as a 3D projection\n",
    "ax3 = fig.add_subplot(gs[:, 0], projection='3d')\n",
    "\n",
    "# Plot on ax1 (top-right)\n",
    "ax1.set_ylabel(\"strain\")\n",
    "for tt in intersections.T[0]:\n",
    "    ax1.axvline(tt, color='red', linestyle='--')\n",
    "\n",
    "# Plot on ax2 (bottom-right)\n",
    "ax2.set_ylabel('synthetic lightcurve')\n",
    "ax2.set_xlabel('time (s)')\n",
    "ax2.plot(trajectory[0], lightcurve)\n",
    "\n",
    "# Plot on ax3 (left, 3D)\n",
    "plot_inclined_disk(ax3, disk_center0, radius=20, normal=disk_normal0, color='orange', alpha=0.1)\n",
    "ax3.scatter(*intersections.T[1:])\n",
    "ax3.plot3D(*trajectory[1:], 'black')\n",
    "ax3.set_ylabel(r\"$ \\frac{GM}{c^2}$\")\n",
    "ax3.set_xlabel(r\"$ \\frac{GM}{c^2}$\")\n",
    "ax3.set_zlabel(r\"$ \\frac{GM}{c^2}$\")\n",
    "\n",
    "plt.subplots_adjust(hspace=0)\n",
    "plt.savefig(\"EM_EMRI.pdf\",bbox_inches='tight', pad_inches=0)\n",
    "plt.show()"
   ]
  },
  {
   "cell_type": "code",
   "execution_count": null,
   "id": "de8ac292",
   "metadata": {},
   "outputs": [],
   "source": []
  }
 ],
 "metadata": {
  "kernelspec": {
   "display_name": "latw_test",
   "language": "python",
   "name": "python3"
  },
  "language_info": {
   "codemirror_mode": {
    "name": "ipython",
    "version": 3
   },
   "file_extension": ".py",
   "mimetype": "text/x-python",
   "name": "python",
   "nbconvert_exporter": "python",
   "pygments_lexer": "ipython3",
   "version": "3.12.10"
  }
 },
 "nbformat": 4,
 "nbformat_minor": 5
}
